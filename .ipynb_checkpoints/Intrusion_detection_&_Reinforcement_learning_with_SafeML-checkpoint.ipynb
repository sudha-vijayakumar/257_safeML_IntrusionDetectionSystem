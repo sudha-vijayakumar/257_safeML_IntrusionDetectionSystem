{
 "cells": [
  {
   "cell_type": "markdown",
   "metadata": {
    "id": "X0r7IjuKibOl"
   },
   "source": [
    "### STEP-1: Import Libraries"
   ]
  },
  {
   "cell_type": "code",
   "execution_count": 63,
   "metadata": {
    "colab": {
     "base_uri": "https://localhost:8080/"
    },
    "id": "HEEAOqVGibep",
    "outputId": "f0c3de86-60d7-4dbb-9103-84b3541b1cb4"
   },
   "outputs": [
    {
     "name": "stdout",
     "output_type": "stream",
     "text": [
      "Requirement already up-to-date: pandas-profiling in /Users/sudha_arul/opt/anaconda3/lib/python3.8/site-packages (2.9.0)\n",
      "Requirement already satisfied, skipping upgrade: jinja2>=2.11.1 in /Users/sudha_arul/opt/anaconda3/lib/python3.8/site-packages (from pandas-profiling) (2.11.2)\n",
      "Requirement already satisfied, skipping upgrade: seaborn>=0.10.1 in /Users/sudha_arul/opt/anaconda3/lib/python3.8/site-packages (from pandas-profiling) (0.11.0)\n",
      "Requirement already satisfied, skipping upgrade: htmlmin>=0.1.12 in /Users/sudha_arul/opt/anaconda3/lib/python3.8/site-packages (from pandas-profiling) (0.1.12)\n",
      "Requirement already satisfied, skipping upgrade: pandas!=1.0.0,!=1.0.1,!=1.0.2,!=1.1.0,>=0.25.3 in /Users/sudha_arul/opt/anaconda3/lib/python3.8/site-packages (from pandas-profiling) (1.0.5)\n",
      "Requirement already satisfied, skipping upgrade: attrs>=19.3.0 in /Users/sudha_arul/opt/anaconda3/lib/python3.8/site-packages (from pandas-profiling) (19.3.0)\n",
      "Requirement already satisfied, skipping upgrade: requests>=2.23.0 in /Users/sudha_arul/opt/anaconda3/lib/python3.8/site-packages (from pandas-profiling) (2.24.0)\n",
      "Requirement already satisfied, skipping upgrade: joblib in /Users/sudha_arul/opt/anaconda3/lib/python3.8/site-packages (from pandas-profiling) (0.16.0)\n",
      "Requirement already satisfied, skipping upgrade: numpy>=1.16.0 in /Users/sudha_arul/opt/anaconda3/lib/python3.8/site-packages (from pandas-profiling) (1.18.5)\n",
      "Requirement already satisfied, skipping upgrade: missingno>=0.4.2 in /Users/sudha_arul/opt/anaconda3/lib/python3.8/site-packages (from pandas-profiling) (0.4.2)\n",
      "Requirement already satisfied, skipping upgrade: visions[type_image_path]==0.5.0 in /Users/sudha_arul/opt/anaconda3/lib/python3.8/site-packages (from pandas-profiling) (0.5.0)\n",
      "Requirement already satisfied, skipping upgrade: phik>=0.9.10 in /Users/sudha_arul/opt/anaconda3/lib/python3.8/site-packages (from pandas-profiling) (0.10.0)\n",
      "Requirement already satisfied, skipping upgrade: tqdm>=4.43.0 in /Users/sudha_arul/opt/anaconda3/lib/python3.8/site-packages (from pandas-profiling) (4.47.0)\n",
      "Requirement already satisfied, skipping upgrade: matplotlib>=3.2.0 in /Users/sudha_arul/opt/anaconda3/lib/python3.8/site-packages (from pandas-profiling) (3.2.2)\n",
      "Requirement already satisfied, skipping upgrade: ipywidgets>=7.5.1 in /Users/sudha_arul/opt/anaconda3/lib/python3.8/site-packages (from pandas-profiling) (7.5.1)\n",
      "Requirement already satisfied, skipping upgrade: tangled-up-in-unicode>=0.0.6 in /Users/sudha_arul/opt/anaconda3/lib/python3.8/site-packages (from pandas-profiling) (0.0.6)\n",
      "Requirement already satisfied, skipping upgrade: confuse>=1.0.0 in /Users/sudha_arul/opt/anaconda3/lib/python3.8/site-packages (from pandas-profiling) (1.3.0)\n",
      "Requirement already satisfied, skipping upgrade: scipy>=1.4.1 in /Users/sudha_arul/opt/anaconda3/lib/python3.8/site-packages (from pandas-profiling) (1.5.0)\n",
      "Requirement already satisfied, skipping upgrade: MarkupSafe>=0.23 in /Users/sudha_arul/opt/anaconda3/lib/python3.8/site-packages (from jinja2>=2.11.1->pandas-profiling) (1.1.1)\n",
      "Requirement already satisfied, skipping upgrade: python-dateutil>=2.6.1 in /Users/sudha_arul/opt/anaconda3/lib/python3.8/site-packages (from pandas!=1.0.0,!=1.0.1,!=1.0.2,!=1.1.0,>=0.25.3->pandas-profiling) (2.8.1)\n",
      "Requirement already satisfied, skipping upgrade: pytz>=2017.2 in /Users/sudha_arul/opt/anaconda3/lib/python3.8/site-packages (from pandas!=1.0.0,!=1.0.1,!=1.0.2,!=1.1.0,>=0.25.3->pandas-profiling) (2020.1)\n",
      "Requirement already satisfied, skipping upgrade: urllib3!=1.25.0,!=1.25.1,<1.26,>=1.21.1 in /Users/sudha_arul/opt/anaconda3/lib/python3.8/site-packages (from requests>=2.23.0->pandas-profiling) (1.25.9)\n",
      "Requirement already satisfied, skipping upgrade: certifi>=2017.4.17 in /Users/sudha_arul/opt/anaconda3/lib/python3.8/site-packages (from requests>=2.23.0->pandas-profiling) (2020.6.20)\n",
      "Requirement already satisfied, skipping upgrade: idna<3,>=2.5 in /Users/sudha_arul/opt/anaconda3/lib/python3.8/site-packages (from requests>=2.23.0->pandas-profiling) (2.10)\n",
      "Requirement already satisfied, skipping upgrade: chardet<4,>=3.0.2 in /Users/sudha_arul/opt/anaconda3/lib/python3.8/site-packages (from requests>=2.23.0->pandas-profiling) (3.0.4)\n",
      "Requirement already satisfied, skipping upgrade: networkx>=2.4 in /Users/sudha_arul/opt/anaconda3/lib/python3.8/site-packages (from visions[type_image_path]==0.5.0->pandas-profiling) (2.4)\n",
      "Requirement already satisfied, skipping upgrade: imagehash; extra == \"type_image_path\" in /Users/sudha_arul/opt/anaconda3/lib/python3.8/site-packages (from visions[type_image_path]==0.5.0->pandas-profiling) (4.1.0)\n",
      "Requirement already satisfied, skipping upgrade: Pillow; extra == \"type_image_path\" in /Users/sudha_arul/opt/anaconda3/lib/python3.8/site-packages (from visions[type_image_path]==0.5.0->pandas-profiling) (7.2.0)\n",
      "Requirement already satisfied, skipping upgrade: numba>=0.38.1 in /Users/sudha_arul/opt/anaconda3/lib/python3.8/site-packages (from phik>=0.9.10->pandas-profiling) (0.50.1)\n",
      "Requirement already satisfied, skipping upgrade: kiwisolver>=1.0.1 in /Users/sudha_arul/opt/anaconda3/lib/python3.8/site-packages (from matplotlib>=3.2.0->pandas-profiling) (1.2.0)\n",
      "Requirement already satisfied, skipping upgrade: cycler>=0.10 in /Users/sudha_arul/opt/anaconda3/lib/python3.8/site-packages (from matplotlib>=3.2.0->pandas-profiling) (0.10.0)\n",
      "Requirement already satisfied, skipping upgrade: pyparsing!=2.0.4,!=2.1.2,!=2.1.6,>=2.0.1 in /Users/sudha_arul/opt/anaconda3/lib/python3.8/site-packages (from matplotlib>=3.2.0->pandas-profiling) (2.4.7)\n",
      "Requirement already satisfied, skipping upgrade: ipykernel>=4.5.1 in /Users/sudha_arul/opt/anaconda3/lib/python3.8/site-packages (from ipywidgets>=7.5.1->pandas-profiling) (5.3.2)\n",
      "Requirement already satisfied, skipping upgrade: nbformat>=4.2.0 in /Users/sudha_arul/opt/anaconda3/lib/python3.8/site-packages (from ipywidgets>=7.5.1->pandas-profiling) (5.0.7)\n",
      "Requirement already satisfied, skipping upgrade: traitlets>=4.3.1 in /Users/sudha_arul/opt/anaconda3/lib/python3.8/site-packages (from ipywidgets>=7.5.1->pandas-profiling) (4.3.3)\n",
      "Requirement already satisfied, skipping upgrade: ipython>=4.0.0; python_version >= \"3.3\" in /Users/sudha_arul/opt/anaconda3/lib/python3.8/site-packages (from ipywidgets>=7.5.1->pandas-profiling) (7.16.1)\n",
      "Requirement already satisfied, skipping upgrade: widgetsnbextension~=3.5.0 in /Users/sudha_arul/opt/anaconda3/lib/python3.8/site-packages (from ipywidgets>=7.5.1->pandas-profiling) (3.5.1)\n",
      "Requirement already satisfied, skipping upgrade: pyyaml in /Users/sudha_arul/opt/anaconda3/lib/python3.8/site-packages (from confuse>=1.0.0->pandas-profiling) (5.3.1)\n",
      "Requirement already satisfied, skipping upgrade: six>=1.5 in /Users/sudha_arul/opt/anaconda3/lib/python3.8/site-packages (from python-dateutil>=2.6.1->pandas!=1.0.0,!=1.0.1,!=1.0.2,!=1.1.0,>=0.25.3->pandas-profiling) (1.15.0)\n",
      "Requirement already satisfied, skipping upgrade: decorator>=4.3.0 in /Users/sudha_arul/opt/anaconda3/lib/python3.8/site-packages (from networkx>=2.4->visions[type_image_path]==0.5.0->pandas-profiling) (4.4.2)\n",
      "Requirement already satisfied, skipping upgrade: PyWavelets in /Users/sudha_arul/opt/anaconda3/lib/python3.8/site-packages (from imagehash; extra == \"type_image_path\"->visions[type_image_path]==0.5.0->pandas-profiling) (1.1.1)\n",
      "Requirement already satisfied, skipping upgrade: llvmlite<0.34,>=0.33.0.dev0 in /Users/sudha_arul/opt/anaconda3/lib/python3.8/site-packages (from numba>=0.38.1->phik>=0.9.10->pandas-profiling) (0.33.0+1.g022ab0f)\n",
      "Requirement already satisfied, skipping upgrade: setuptools in /Users/sudha_arul/opt/anaconda3/lib/python3.8/site-packages (from numba>=0.38.1->phik>=0.9.10->pandas-profiling) (50.3.2)\n",
      "Requirement already satisfied, skipping upgrade: jupyter-client in /Users/sudha_arul/opt/anaconda3/lib/python3.8/site-packages (from ipykernel>=4.5.1->ipywidgets>=7.5.1->pandas-profiling) (6.1.6)\n",
      "Requirement already satisfied, skipping upgrade: tornado>=4.2 in /Users/sudha_arul/opt/anaconda3/lib/python3.8/site-packages (from ipykernel>=4.5.1->ipywidgets>=7.5.1->pandas-profiling) (6.0.4)\n",
      "Requirement already satisfied, skipping upgrade: appnope; platform_system == \"Darwin\" in /Users/sudha_arul/opt/anaconda3/lib/python3.8/site-packages (from ipykernel>=4.5.1->ipywidgets>=7.5.1->pandas-profiling) (0.1.0)\n",
      "Requirement already satisfied, skipping upgrade: ipython-genutils in /Users/sudha_arul/opt/anaconda3/lib/python3.8/site-packages (from nbformat>=4.2.0->ipywidgets>=7.5.1->pandas-profiling) (0.2.0)\n",
      "Requirement already satisfied, skipping upgrade: jupyter-core in /Users/sudha_arul/opt/anaconda3/lib/python3.8/site-packages (from nbformat>=4.2.0->ipywidgets>=7.5.1->pandas-profiling) (4.6.3)\n",
      "Requirement already satisfied, skipping upgrade: jsonschema!=2.5.0,>=2.4 in /Users/sudha_arul/opt/anaconda3/lib/python3.8/site-packages (from nbformat>=4.2.0->ipywidgets>=7.5.1->pandas-profiling) (3.2.0)\n",
      "Requirement already satisfied, skipping upgrade: pygments in /Users/sudha_arul/opt/anaconda3/lib/python3.8/site-packages (from ipython>=4.0.0; python_version >= \"3.3\"->ipywidgets>=7.5.1->pandas-profiling) (2.6.1)\n",
      "Requirement already satisfied, skipping upgrade: backcall in /Users/sudha_arul/opt/anaconda3/lib/python3.8/site-packages (from ipython>=4.0.0; python_version >= \"3.3\"->ipywidgets>=7.5.1->pandas-profiling) (0.2.0)\n",
      "Requirement already satisfied, skipping upgrade: prompt-toolkit!=3.0.0,!=3.0.1,<3.1.0,>=2.0.0 in /Users/sudha_arul/opt/anaconda3/lib/python3.8/site-packages (from ipython>=4.0.0; python_version >= \"3.3\"->ipywidgets>=7.5.1->pandas-profiling) (3.0.5)\n",
      "Requirement already satisfied, skipping upgrade: jedi>=0.10 in /Users/sudha_arul/opt/anaconda3/lib/python3.8/site-packages (from ipython>=4.0.0; python_version >= \"3.3\"->ipywidgets>=7.5.1->pandas-profiling) (0.17.1)\n"
     ]
    },
    {
     "name": "stdout",
     "output_type": "stream",
     "text": [
      "Requirement already satisfied, skipping upgrade: pexpect; sys_platform != \"win32\" in /Users/sudha_arul/opt/anaconda3/lib/python3.8/site-packages (from ipython>=4.0.0; python_version >= \"3.3\"->ipywidgets>=7.5.1->pandas-profiling) (4.8.0)\n",
      "Requirement already satisfied, skipping upgrade: pickleshare in /Users/sudha_arul/opt/anaconda3/lib/python3.8/site-packages (from ipython>=4.0.0; python_version >= \"3.3\"->ipywidgets>=7.5.1->pandas-profiling) (0.7.5)\n",
      "Requirement already satisfied, skipping upgrade: notebook>=4.4.1 in /Users/sudha_arul/opt/anaconda3/lib/python3.8/site-packages (from widgetsnbextension~=3.5.0->ipywidgets>=7.5.1->pandas-profiling) (6.0.3)\n",
      "Requirement already satisfied, skipping upgrade: pyzmq>=13 in /Users/sudha_arul/opt/anaconda3/lib/python3.8/site-packages (from jupyter-client->ipykernel>=4.5.1->ipywidgets>=7.5.1->pandas-profiling) (19.0.1)\n",
      "Requirement already satisfied, skipping upgrade: pyrsistent>=0.14.0 in /Users/sudha_arul/opt/anaconda3/lib/python3.8/site-packages (from jsonschema!=2.5.0,>=2.4->nbformat>=4.2.0->ipywidgets>=7.5.1->pandas-profiling) (0.16.0)\n",
      "Requirement already satisfied, skipping upgrade: wcwidth in /Users/sudha_arul/opt/anaconda3/lib/python3.8/site-packages (from prompt-toolkit!=3.0.0,!=3.0.1,<3.1.0,>=2.0.0->ipython>=4.0.0; python_version >= \"3.3\"->ipywidgets>=7.5.1->pandas-profiling) (0.2.5)\n",
      "Requirement already satisfied, skipping upgrade: parso<0.8.0,>=0.7.0 in /Users/sudha_arul/opt/anaconda3/lib/python3.8/site-packages (from jedi>=0.10->ipython>=4.0.0; python_version >= \"3.3\"->ipywidgets>=7.5.1->pandas-profiling) (0.7.0)\n",
      "Requirement already satisfied, skipping upgrade: ptyprocess>=0.5 in /Users/sudha_arul/opt/anaconda3/lib/python3.8/site-packages (from pexpect; sys_platform != \"win32\"->ipython>=4.0.0; python_version >= \"3.3\"->ipywidgets>=7.5.1->pandas-profiling) (0.6.0)\n",
      "Requirement already satisfied, skipping upgrade: nbconvert in /Users/sudha_arul/opt/anaconda3/lib/python3.8/site-packages (from notebook>=4.4.1->widgetsnbextension~=3.5.0->ipywidgets>=7.5.1->pandas-profiling) (5.6.1)\n",
      "Requirement already satisfied, skipping upgrade: Send2Trash in /Users/sudha_arul/opt/anaconda3/lib/python3.8/site-packages (from notebook>=4.4.1->widgetsnbextension~=3.5.0->ipywidgets>=7.5.1->pandas-profiling) (1.5.0)\n",
      "Requirement already satisfied, skipping upgrade: prometheus-client in /Users/sudha_arul/opt/anaconda3/lib/python3.8/site-packages (from notebook>=4.4.1->widgetsnbextension~=3.5.0->ipywidgets>=7.5.1->pandas-profiling) (0.8.0)\n",
      "Requirement already satisfied, skipping upgrade: terminado>=0.8.1 in /Users/sudha_arul/opt/anaconda3/lib/python3.8/site-packages (from notebook>=4.4.1->widgetsnbextension~=3.5.0->ipywidgets>=7.5.1->pandas-profiling) (0.8.3)\n",
      "Requirement already satisfied, skipping upgrade: mistune<2,>=0.8.1 in /Users/sudha_arul/opt/anaconda3/lib/python3.8/site-packages (from nbconvert->notebook>=4.4.1->widgetsnbextension~=3.5.0->ipywidgets>=7.5.1->pandas-profiling) (0.8.4)\n",
      "Requirement already satisfied, skipping upgrade: bleach in /Users/sudha_arul/opt/anaconda3/lib/python3.8/site-packages (from nbconvert->notebook>=4.4.1->widgetsnbextension~=3.5.0->ipywidgets>=7.5.1->pandas-profiling) (3.1.5)\n",
      "Requirement already satisfied, skipping upgrade: pandocfilters>=1.4.1 in /Users/sudha_arul/opt/anaconda3/lib/python3.8/site-packages (from nbconvert->notebook>=4.4.1->widgetsnbextension~=3.5.0->ipywidgets>=7.5.1->pandas-profiling) (1.4.2)\n",
      "Requirement already satisfied, skipping upgrade: testpath in /Users/sudha_arul/opt/anaconda3/lib/python3.8/site-packages (from nbconvert->notebook>=4.4.1->widgetsnbextension~=3.5.0->ipywidgets>=7.5.1->pandas-profiling) (0.4.4)\n",
      "Requirement already satisfied, skipping upgrade: entrypoints>=0.2.2 in /Users/sudha_arul/opt/anaconda3/lib/python3.8/site-packages (from nbconvert->notebook>=4.4.1->widgetsnbextension~=3.5.0->ipywidgets>=7.5.1->pandas-profiling) (0.3)\n",
      "Requirement already satisfied, skipping upgrade: defusedxml in /Users/sudha_arul/opt/anaconda3/lib/python3.8/site-packages (from nbconvert->notebook>=4.4.1->widgetsnbextension~=3.5.0->ipywidgets>=7.5.1->pandas-profiling) (0.6.0)\n",
      "Requirement already satisfied, skipping upgrade: webencodings in /Users/sudha_arul/opt/anaconda3/lib/python3.8/site-packages (from bleach->nbconvert->notebook>=4.4.1->widgetsnbextension~=3.5.0->ipywidgets>=7.5.1->pandas-profiling) (0.5.1)\n",
      "Requirement already satisfied, skipping upgrade: packaging in /Users/sudha_arul/opt/anaconda3/lib/python3.8/site-packages (from bleach->nbconvert->notebook>=4.4.1->widgetsnbextension~=3.5.0->ipywidgets>=7.5.1->pandas-profiling) (20.4)\n"
     ]
    }
   ],
   "source": [
    "import numpy as np \n",
    "import pandas as pd \n",
    "\n",
    "import time\n",
    "\n",
    "from sklearn.model_selection import train_test_split\n",
    "from sklearn.neighbors import KNeighborsClassifier\n",
    "from sklearn import metrics\n",
    "from sklearn import preprocessing\n",
    "\n",
    "import joblib\n",
    "from sklearn.preprocessing import MaxAbsScaler\n",
    "\n",
    "#Installing via pip\n",
    "!pip install -U pandas-profiling\n",
    "from pandas_profiling import ProfileReport\n",
    "\n",
    "import warnings\n",
    "warnings.filterwarnings(\"ignore\")"
   ]
  },
  {
   "cell_type": "markdown",
   "metadata": {
    "id": "CM-ot46niaHN"
   },
   "source": [
    "### STEP-2: EDA"
   ]
  },
  {
   "cell_type": "markdown",
   "metadata": {
    "id": "Yxb3LAiLjLFm"
   },
   "source": [
    "#### **2.1 Upload Data**"
   ]
  },
  {
   "cell_type": "code",
   "execution_count": 64,
   "metadata": {
    "id": "SizBYNK-jKU1"
   },
   "outputs": [],
   "source": [
    "# from google.colab import files #upload friday working hours files - count 3\n",
    "# files.upload()"
   ]
  },
  {
   "cell_type": "markdown",
   "metadata": {
    "id": "_ewO75U9iaHN"
   },
   "source": [
    "#### **2.2 Load Data**"
   ]
  },
  {
   "cell_type": "code",
   "execution_count": 65,
   "metadata": {
    "colab": {
     "base_uri": "https://localhost:8080/"
    },
    "id": "Li99KUALiaHN",
    "outputId": "fae8553d-6a2e-4919-9dc0-d2fc4cbbb9d1"
   },
   "outputs": [
    {
     "name": "stdout",
     "output_type": "stream",
     "text": [
      "Data: 703245 rows 79 columns\n"
     ]
    }
   ],
   "source": [
    "df1 = pd.read_csv(\"CICIDS2017/Friday-WorkingHours-Afternoon-DDos.pcap_ISCX.csv\")\n",
    "df2=pd.read_csv(\"CICIDS2017/Friday-WorkingHours-Afternoon-PortScan.pcap_ISCX.csv\")\n",
    "df3=pd.read_csv(\"CICIDS2017/Friday-WorkingHours-Morning.pcap_ISCX.csv\")\n",
    "\n",
    "#append data\n",
    "nRowsRead = None\n",
    "df = pd.concat([df1,df2])\n",
    "del df1,df2\n",
    "df = pd.concat([df,df3])\n",
    "del df3\n",
    "nRow, nCol = df.shape\n",
    "print(f'Data: {nRow} rows {nCol} columns')"
   ]
  },
  {
   "cell_type": "markdown",
   "metadata": {
    "id": "4k0szBCciaHN"
   },
   "source": [
    "#### **2.3 View data**"
   ]
  },
  {
   "cell_type": "code",
   "execution_count": 66,
   "metadata": {
    "colab": {
     "base_uri": "https://localhost:8080/",
     "height": 275
    },
    "id": "2GdZfKnDiaHO",
    "outputId": "c117ea8a-0d4d-4c5d-893a-a71d76e0fc7b"
   },
   "outputs": [
    {
     "data": {
      "text/html": [
       "<div>\n",
       "<style scoped>\n",
       "    .dataframe tbody tr th:only-of-type {\n",
       "        vertical-align: middle;\n",
       "    }\n",
       "\n",
       "    .dataframe tbody tr th {\n",
       "        vertical-align: top;\n",
       "    }\n",
       "\n",
       "    .dataframe thead th {\n",
       "        text-align: right;\n",
       "    }\n",
       "</style>\n",
       "<table border=\"1\" class=\"dataframe\">\n",
       "  <thead>\n",
       "    <tr style=\"text-align: right;\">\n",
       "      <th></th>\n",
       "      <th>Destination Port</th>\n",
       "      <th>Flow Duration</th>\n",
       "      <th>Total Fwd Packets</th>\n",
       "      <th>Total Backward Packets</th>\n",
       "      <th>Total Length of Fwd Packets</th>\n",
       "      <th>Total Length of Bwd Packets</th>\n",
       "      <th>Fwd Packet Length Max</th>\n",
       "      <th>Fwd Packet Length Min</th>\n",
       "      <th>Fwd Packet Length Mean</th>\n",
       "      <th>Fwd Packet Length Std</th>\n",
       "      <th>...</th>\n",
       "      <th>min_seg_size_forward</th>\n",
       "      <th>Active Mean</th>\n",
       "      <th>Active Std</th>\n",
       "      <th>Active Max</th>\n",
       "      <th>Active Min</th>\n",
       "      <th>Idle Mean</th>\n",
       "      <th>Idle Std</th>\n",
       "      <th>Idle Max</th>\n",
       "      <th>Idle Min</th>\n",
       "      <th>Label</th>\n",
       "    </tr>\n",
       "  </thead>\n",
       "  <tbody>\n",
       "    <tr>\n",
       "      <th>0</th>\n",
       "      <td>54865</td>\n",
       "      <td>3</td>\n",
       "      <td>2</td>\n",
       "      <td>0</td>\n",
       "      <td>12</td>\n",
       "      <td>0</td>\n",
       "      <td>6</td>\n",
       "      <td>6</td>\n",
       "      <td>6.0</td>\n",
       "      <td>0.0</td>\n",
       "      <td>...</td>\n",
       "      <td>20</td>\n",
       "      <td>0.0</td>\n",
       "      <td>0.0</td>\n",
       "      <td>0</td>\n",
       "      <td>0</td>\n",
       "      <td>0.0</td>\n",
       "      <td>0.0</td>\n",
       "      <td>0</td>\n",
       "      <td>0</td>\n",
       "      <td>BENIGN</td>\n",
       "    </tr>\n",
       "    <tr>\n",
       "      <th>1</th>\n",
       "      <td>55054</td>\n",
       "      <td>109</td>\n",
       "      <td>1</td>\n",
       "      <td>1</td>\n",
       "      <td>6</td>\n",
       "      <td>6</td>\n",
       "      <td>6</td>\n",
       "      <td>6</td>\n",
       "      <td>6.0</td>\n",
       "      <td>0.0</td>\n",
       "      <td>...</td>\n",
       "      <td>20</td>\n",
       "      <td>0.0</td>\n",
       "      <td>0.0</td>\n",
       "      <td>0</td>\n",
       "      <td>0</td>\n",
       "      <td>0.0</td>\n",
       "      <td>0.0</td>\n",
       "      <td>0</td>\n",
       "      <td>0</td>\n",
       "      <td>BENIGN</td>\n",
       "    </tr>\n",
       "    <tr>\n",
       "      <th>2</th>\n",
       "      <td>55055</td>\n",
       "      <td>52</td>\n",
       "      <td>1</td>\n",
       "      <td>1</td>\n",
       "      <td>6</td>\n",
       "      <td>6</td>\n",
       "      <td>6</td>\n",
       "      <td>6</td>\n",
       "      <td>6.0</td>\n",
       "      <td>0.0</td>\n",
       "      <td>...</td>\n",
       "      <td>20</td>\n",
       "      <td>0.0</td>\n",
       "      <td>0.0</td>\n",
       "      <td>0</td>\n",
       "      <td>0</td>\n",
       "      <td>0.0</td>\n",
       "      <td>0.0</td>\n",
       "      <td>0</td>\n",
       "      <td>0</td>\n",
       "      <td>BENIGN</td>\n",
       "    </tr>\n",
       "    <tr>\n",
       "      <th>3</th>\n",
       "      <td>46236</td>\n",
       "      <td>34</td>\n",
       "      <td>1</td>\n",
       "      <td>1</td>\n",
       "      <td>6</td>\n",
       "      <td>6</td>\n",
       "      <td>6</td>\n",
       "      <td>6</td>\n",
       "      <td>6.0</td>\n",
       "      <td>0.0</td>\n",
       "      <td>...</td>\n",
       "      <td>20</td>\n",
       "      <td>0.0</td>\n",
       "      <td>0.0</td>\n",
       "      <td>0</td>\n",
       "      <td>0</td>\n",
       "      <td>0.0</td>\n",
       "      <td>0.0</td>\n",
       "      <td>0</td>\n",
       "      <td>0</td>\n",
       "      <td>BENIGN</td>\n",
       "    </tr>\n",
       "    <tr>\n",
       "      <th>4</th>\n",
       "      <td>54863</td>\n",
       "      <td>3</td>\n",
       "      <td>2</td>\n",
       "      <td>0</td>\n",
       "      <td>12</td>\n",
       "      <td>0</td>\n",
       "      <td>6</td>\n",
       "      <td>6</td>\n",
       "      <td>6.0</td>\n",
       "      <td>0.0</td>\n",
       "      <td>...</td>\n",
       "      <td>20</td>\n",
       "      <td>0.0</td>\n",
       "      <td>0.0</td>\n",
       "      <td>0</td>\n",
       "      <td>0</td>\n",
       "      <td>0.0</td>\n",
       "      <td>0.0</td>\n",
       "      <td>0</td>\n",
       "      <td>0</td>\n",
       "      <td>BENIGN</td>\n",
       "    </tr>\n",
       "  </tbody>\n",
       "</table>\n",
       "<p>5 rows × 79 columns</p>\n",
       "</div>"
      ],
      "text/plain": [
       "    Destination Port   Flow Duration   Total Fwd Packets  \\\n",
       "0              54865               3                   2   \n",
       "1              55054             109                   1   \n",
       "2              55055              52                   1   \n",
       "3              46236              34                   1   \n",
       "4              54863               3                   2   \n",
       "\n",
       "    Total Backward Packets  Total Length of Fwd Packets  \\\n",
       "0                        0                           12   \n",
       "1                        1                            6   \n",
       "2                        1                            6   \n",
       "3                        1                            6   \n",
       "4                        0                           12   \n",
       "\n",
       "    Total Length of Bwd Packets   Fwd Packet Length Max  \\\n",
       "0                             0                       6   \n",
       "1                             6                       6   \n",
       "2                             6                       6   \n",
       "3                             6                       6   \n",
       "4                             0                       6   \n",
       "\n",
       "    Fwd Packet Length Min   Fwd Packet Length Mean   Fwd Packet Length Std  \\\n",
       "0                       6                      6.0                     0.0   \n",
       "1                       6                      6.0                     0.0   \n",
       "2                       6                      6.0                     0.0   \n",
       "3                       6                      6.0                     0.0   \n",
       "4                       6                      6.0                     0.0   \n",
       "\n",
       "   ...   min_seg_size_forward  Active Mean   Active Std   Active Max  \\\n",
       "0  ...                     20          0.0          0.0            0   \n",
       "1  ...                     20          0.0          0.0            0   \n",
       "2  ...                     20          0.0          0.0            0   \n",
       "3  ...                     20          0.0          0.0            0   \n",
       "4  ...                     20          0.0          0.0            0   \n",
       "\n",
       "    Active Min  Idle Mean   Idle Std   Idle Max   Idle Min   Label  \n",
       "0            0        0.0        0.0          0          0  BENIGN  \n",
       "1            0        0.0        0.0          0          0  BENIGN  \n",
       "2            0        0.0        0.0          0          0  BENIGN  \n",
       "3            0        0.0        0.0          0          0  BENIGN  \n",
       "4            0        0.0        0.0          0          0  BENIGN  \n",
       "\n",
       "[5 rows x 79 columns]"
      ]
     },
     "execution_count": 66,
     "metadata": {},
     "output_type": "execute_result"
    }
   ],
   "source": [
    "df.head()"
   ]
  },
  {
   "cell_type": "markdown",
   "metadata": {
    "id": "TNH45tqJiaHO"
   },
   "source": [
    "#### **2.4 View type of attacks**"
   ]
  },
  {
   "cell_type": "code",
   "execution_count": 67,
   "metadata": {
    "colab": {
     "base_uri": "https://localhost:8080/"
    },
    "id": "OAXbznuuiaHO",
    "outputId": "f1fced8a-e8e5-4543-d3d0-f26bfcf930f2"
   },
   "outputs": [
    {
     "data": {
      "text/plain": [
       "BENIGN      414322\n",
       "PortScan    158930\n",
       "DDoS        128027\n",
       "Bot           1966\n",
       "Name:  Label, dtype: int64"
      ]
     },
     "execution_count": 67,
     "metadata": {},
     "output_type": "execute_result"
    }
   ],
   "source": [
    "df[' Label'].value_counts()"
   ]
  },
  {
   "cell_type": "markdown",
   "metadata": {
    "id": "xlC8yszriaHO"
   },
   "source": [
    "### STEP-3: Preprocessing"
   ]
  },
  {
   "cell_type": "markdown",
   "metadata": {
    "id": "_xVE7FJbkaFB"
   },
   "source": [
    "#### **3.1 Remove special characters & drop features with low correlation**"
   ]
  },
  {
   "cell_type": "code",
   "execution_count": 68,
   "metadata": {
    "colab": {
     "base_uri": "https://localhost:8080/"
    },
    "id": "Lo5hXI2FiaHO",
    "outputId": "1af16092-054d-4c13-b87d-9ad2d2f3dcb4"
   },
   "outputs": [
    {
     "data": {
      "text/plain": [
       "(615433, 43)"
      ]
     },
     "execution_count": 68,
     "metadata": {},
     "output_type": "execute_result"
    }
   ],
   "source": [
    "integer = []\n",
    "f = []\n",
    "for i in df.columns[:-1]:\n",
    "    if df[i].dtype == \"int64\": integer.append(i)\n",
    "    else : f.append(i)\n",
    "\n",
    "df[integer] = df[integer].astype(\"int32\")\n",
    "df[f] = df[f].astype(\"float32\")\n",
    "\n",
    "one_variable_list = []\n",
    "for i in df.columns:\n",
    "    if df[i].value_counts().nunique() < 2:\n",
    "        one_variable_list.append(i)\n",
    "df.drop(one_variable_list,axis=1,inplace=True)\n",
    "df.columns =  df.columns.str.strip()\n",
    "# drop nan and infinite rows\n",
    "df = df[~df.isin([np.nan, np.inf, -np.inf]).any(1)]\n",
    "\n",
    "# merging similar classes with low instances\n",
    "df[\"Label\"] = df[\"Label\"].replace([\"Web Attack � Brute Force\",\"Web Attack � XSS\",\"Web Attack � Sql Injection\"],\"Web Attack\")\n",
    "# drop duplicate rows\n",
    "df =  df.drop_duplicates(keep=\"first\")\n",
    "df.reset_index(drop=True,inplace=True)\n",
    "\n",
    "#feature reduction \n",
    "#dropping very high correlated features \n",
    "corr_matrix = df.corr().abs()\n",
    "\n",
    "# Select upper triangle of correlation matrix\n",
    "upper = corr_matrix.where(np.triu(np.ones(corr_matrix.shape), k=1).astype(np.bool))\n",
    "\n",
    "# Find features with correlation greater than 0.95\n",
    "to_drop = [column for column in upper.columns if any(upper[column] > 0.95)]\n",
    "\n",
    "# Drop features \n",
    "df =  df.drop(to_drop, axis=1)\n",
    "df.shape"
   ]
  },
  {
   "cell_type": "markdown",
   "metadata": {
    "id": "srM95VFqkmZd"
   },
   "source": [
    "#### **3.2 View processed data**"
   ]
  },
  {
   "cell_type": "code",
   "execution_count": 69,
   "metadata": {
    "colab": {
     "base_uri": "https://localhost:8080/",
     "height": 490
    },
    "id": "9JH51s0iiaHO",
    "outputId": "deede23d-9da2-47f6-a1ff-5ecd3e97102c"
   },
   "outputs": [
    {
     "data": {
      "text/html": [
       "<div>\n",
       "<style scoped>\n",
       "    .dataframe tbody tr th:only-of-type {\n",
       "        vertical-align: middle;\n",
       "    }\n",
       "\n",
       "    .dataframe tbody tr th {\n",
       "        vertical-align: top;\n",
       "    }\n",
       "\n",
       "    .dataframe thead th {\n",
       "        text-align: right;\n",
       "    }\n",
       "</style>\n",
       "<table border=\"1\" class=\"dataframe\">\n",
       "  <thead>\n",
       "    <tr style=\"text-align: right;\">\n",
       "      <th></th>\n",
       "      <th>Destination Port</th>\n",
       "      <th>Flow Duration</th>\n",
       "      <th>Total Fwd Packets</th>\n",
       "      <th>Total Length of Fwd Packets</th>\n",
       "      <th>Fwd Packet Length Max</th>\n",
       "      <th>Fwd Packet Length Min</th>\n",
       "      <th>Fwd Packet Length Mean</th>\n",
       "      <th>Bwd Packet Length Max</th>\n",
       "      <th>Bwd Packet Length Min</th>\n",
       "      <th>Flow Bytes/s</th>\n",
       "      <th>...</th>\n",
       "      <th>Init_Win_bytes_forward</th>\n",
       "      <th>Init_Win_bytes_backward</th>\n",
       "      <th>min_seg_size_forward</th>\n",
       "      <th>Active Mean</th>\n",
       "      <th>Active Std</th>\n",
       "      <th>Active Max</th>\n",
       "      <th>Active Min</th>\n",
       "      <th>Idle Std</th>\n",
       "      <th>Idle Min</th>\n",
       "      <th>Label</th>\n",
       "    </tr>\n",
       "  </thead>\n",
       "  <tbody>\n",
       "    <tr>\n",
       "      <th>0</th>\n",
       "      <td>54865</td>\n",
       "      <td>3</td>\n",
       "      <td>2</td>\n",
       "      <td>12</td>\n",
       "      <td>6</td>\n",
       "      <td>6</td>\n",
       "      <td>6.0</td>\n",
       "      <td>0</td>\n",
       "      <td>0</td>\n",
       "      <td>4.000000e+06</td>\n",
       "      <td>...</td>\n",
       "      <td>33</td>\n",
       "      <td>-1</td>\n",
       "      <td>20</td>\n",
       "      <td>0.0</td>\n",
       "      <td>0.0</td>\n",
       "      <td>0</td>\n",
       "      <td>0</td>\n",
       "      <td>0.0</td>\n",
       "      <td>0</td>\n",
       "      <td>BENIGN</td>\n",
       "    </tr>\n",
       "    <tr>\n",
       "      <th>1</th>\n",
       "      <td>55054</td>\n",
       "      <td>109</td>\n",
       "      <td>1</td>\n",
       "      <td>6</td>\n",
       "      <td>6</td>\n",
       "      <td>6</td>\n",
       "      <td>6.0</td>\n",
       "      <td>6</td>\n",
       "      <td>6</td>\n",
       "      <td>1.100917e+05</td>\n",
       "      <td>...</td>\n",
       "      <td>29</td>\n",
       "      <td>256</td>\n",
       "      <td>20</td>\n",
       "      <td>0.0</td>\n",
       "      <td>0.0</td>\n",
       "      <td>0</td>\n",
       "      <td>0</td>\n",
       "      <td>0.0</td>\n",
       "      <td>0</td>\n",
       "      <td>BENIGN</td>\n",
       "    </tr>\n",
       "    <tr>\n",
       "      <th>2</th>\n",
       "      <td>55055</td>\n",
       "      <td>52</td>\n",
       "      <td>1</td>\n",
       "      <td>6</td>\n",
       "      <td>6</td>\n",
       "      <td>6</td>\n",
       "      <td>6.0</td>\n",
       "      <td>6</td>\n",
       "      <td>6</td>\n",
       "      <td>2.307692e+05</td>\n",
       "      <td>...</td>\n",
       "      <td>29</td>\n",
       "      <td>256</td>\n",
       "      <td>20</td>\n",
       "      <td>0.0</td>\n",
       "      <td>0.0</td>\n",
       "      <td>0</td>\n",
       "      <td>0</td>\n",
       "      <td>0.0</td>\n",
       "      <td>0</td>\n",
       "      <td>BENIGN</td>\n",
       "    </tr>\n",
       "    <tr>\n",
       "      <th>3</th>\n",
       "      <td>46236</td>\n",
       "      <td>34</td>\n",
       "      <td>1</td>\n",
       "      <td>6</td>\n",
       "      <td>6</td>\n",
       "      <td>6</td>\n",
       "      <td>6.0</td>\n",
       "      <td>6</td>\n",
       "      <td>6</td>\n",
       "      <td>3.529412e+05</td>\n",
       "      <td>...</td>\n",
       "      <td>31</td>\n",
       "      <td>329</td>\n",
       "      <td>20</td>\n",
       "      <td>0.0</td>\n",
       "      <td>0.0</td>\n",
       "      <td>0</td>\n",
       "      <td>0</td>\n",
       "      <td>0.0</td>\n",
       "      <td>0</td>\n",
       "      <td>BENIGN</td>\n",
       "    </tr>\n",
       "    <tr>\n",
       "      <th>4</th>\n",
       "      <td>54863</td>\n",
       "      <td>3</td>\n",
       "      <td>2</td>\n",
       "      <td>12</td>\n",
       "      <td>6</td>\n",
       "      <td>6</td>\n",
       "      <td>6.0</td>\n",
       "      <td>0</td>\n",
       "      <td>0</td>\n",
       "      <td>4.000000e+06</td>\n",
       "      <td>...</td>\n",
       "      <td>32</td>\n",
       "      <td>-1</td>\n",
       "      <td>20</td>\n",
       "      <td>0.0</td>\n",
       "      <td>0.0</td>\n",
       "      <td>0</td>\n",
       "      <td>0</td>\n",
       "      <td>0.0</td>\n",
       "      <td>0</td>\n",
       "      <td>BENIGN</td>\n",
       "    </tr>\n",
       "    <tr>\n",
       "      <th>...</th>\n",
       "      <td>...</td>\n",
       "      <td>...</td>\n",
       "      <td>...</td>\n",
       "      <td>...</td>\n",
       "      <td>...</td>\n",
       "      <td>...</td>\n",
       "      <td>...</td>\n",
       "      <td>...</td>\n",
       "      <td>...</td>\n",
       "      <td>...</td>\n",
       "      <td>...</td>\n",
       "      <td>...</td>\n",
       "      <td>...</td>\n",
       "      <td>...</td>\n",
       "      <td>...</td>\n",
       "      <td>...</td>\n",
       "      <td>...</td>\n",
       "      <td>...</td>\n",
       "      <td>...</td>\n",
       "      <td>...</td>\n",
       "      <td>...</td>\n",
       "    </tr>\n",
       "    <tr>\n",
       "      <th>615428</th>\n",
       "      <td>53</td>\n",
       "      <td>61452</td>\n",
       "      <td>4</td>\n",
       "      <td>180</td>\n",
       "      <td>45</td>\n",
       "      <td>45</td>\n",
       "      <td>45.0</td>\n",
       "      <td>177</td>\n",
       "      <td>177</td>\n",
       "      <td>8.689709e+03</td>\n",
       "      <td>...</td>\n",
       "      <td>-1</td>\n",
       "      <td>-1</td>\n",
       "      <td>20</td>\n",
       "      <td>0.0</td>\n",
       "      <td>0.0</td>\n",
       "      <td>0</td>\n",
       "      <td>0</td>\n",
       "      <td>0.0</td>\n",
       "      <td>0</td>\n",
       "      <td>BENIGN</td>\n",
       "    </tr>\n",
       "    <tr>\n",
       "      <th>615429</th>\n",
       "      <td>53</td>\n",
       "      <td>171</td>\n",
       "      <td>2</td>\n",
       "      <td>80</td>\n",
       "      <td>40</td>\n",
       "      <td>40</td>\n",
       "      <td>40.0</td>\n",
       "      <td>136</td>\n",
       "      <td>136</td>\n",
       "      <td>2.058480e+06</td>\n",
       "      <td>...</td>\n",
       "      <td>-1</td>\n",
       "      <td>-1</td>\n",
       "      <td>32</td>\n",
       "      <td>0.0</td>\n",
       "      <td>0.0</td>\n",
       "      <td>0</td>\n",
       "      <td>0</td>\n",
       "      <td>0.0</td>\n",
       "      <td>0</td>\n",
       "      <td>BENIGN</td>\n",
       "    </tr>\n",
       "    <tr>\n",
       "      <th>615430</th>\n",
       "      <td>53</td>\n",
       "      <td>222</td>\n",
       "      <td>2</td>\n",
       "      <td>90</td>\n",
       "      <td>45</td>\n",
       "      <td>45</td>\n",
       "      <td>45.0</td>\n",
       "      <td>177</td>\n",
       "      <td>177</td>\n",
       "      <td>2.000000e+06</td>\n",
       "      <td>...</td>\n",
       "      <td>-1</td>\n",
       "      <td>-1</td>\n",
       "      <td>32</td>\n",
       "      <td>0.0</td>\n",
       "      <td>0.0</td>\n",
       "      <td>0</td>\n",
       "      <td>0</td>\n",
       "      <td>0.0</td>\n",
       "      <td>0</td>\n",
       "      <td>BENIGN</td>\n",
       "    </tr>\n",
       "    <tr>\n",
       "      <th>615431</th>\n",
       "      <td>123</td>\n",
       "      <td>16842</td>\n",
       "      <td>1</td>\n",
       "      <td>48</td>\n",
       "      <td>48</td>\n",
       "      <td>48</td>\n",
       "      <td>48.0</td>\n",
       "      <td>48</td>\n",
       "      <td>48</td>\n",
       "      <td>5.700036e+03</td>\n",
       "      <td>...</td>\n",
       "      <td>-1</td>\n",
       "      <td>-1</td>\n",
       "      <td>20</td>\n",
       "      <td>0.0</td>\n",
       "      <td>0.0</td>\n",
       "      <td>0</td>\n",
       "      <td>0</td>\n",
       "      <td>0.0</td>\n",
       "      <td>0</td>\n",
       "      <td>BENIGN</td>\n",
       "    </tr>\n",
       "    <tr>\n",
       "      <th>615432</th>\n",
       "      <td>53</td>\n",
       "      <td>153</td>\n",
       "      <td>2</td>\n",
       "      <td>68</td>\n",
       "      <td>34</td>\n",
       "      <td>34</td>\n",
       "      <td>34.0</td>\n",
       "      <td>50</td>\n",
       "      <td>50</td>\n",
       "      <td>1.098039e+06</td>\n",
       "      <td>...</td>\n",
       "      <td>-1</td>\n",
       "      <td>-1</td>\n",
       "      <td>20</td>\n",
       "      <td>0.0</td>\n",
       "      <td>0.0</td>\n",
       "      <td>0</td>\n",
       "      <td>0</td>\n",
       "      <td>0.0</td>\n",
       "      <td>0</td>\n",
       "      <td>BENIGN</td>\n",
       "    </tr>\n",
       "  </tbody>\n",
       "</table>\n",
       "<p>615433 rows × 43 columns</p>\n",
       "</div>"
      ],
      "text/plain": [
       "        Destination Port  Flow Duration  Total Fwd Packets  \\\n",
       "0                  54865              3                  2   \n",
       "1                  55054            109                  1   \n",
       "2                  55055             52                  1   \n",
       "3                  46236             34                  1   \n",
       "4                  54863              3                  2   \n",
       "...                  ...            ...                ...   \n",
       "615428                53          61452                  4   \n",
       "615429                53            171                  2   \n",
       "615430                53            222                  2   \n",
       "615431               123          16842                  1   \n",
       "615432                53            153                  2   \n",
       "\n",
       "        Total Length of Fwd Packets  Fwd Packet Length Max  \\\n",
       "0                                12                      6   \n",
       "1                                 6                      6   \n",
       "2                                 6                      6   \n",
       "3                                 6                      6   \n",
       "4                                12                      6   \n",
       "...                             ...                    ...   \n",
       "615428                          180                     45   \n",
       "615429                           80                     40   \n",
       "615430                           90                     45   \n",
       "615431                           48                     48   \n",
       "615432                           68                     34   \n",
       "\n",
       "        Fwd Packet Length Min  Fwd Packet Length Mean  Bwd Packet Length Max  \\\n",
       "0                           6                     6.0                      0   \n",
       "1                           6                     6.0                      6   \n",
       "2                           6                     6.0                      6   \n",
       "3                           6                     6.0                      6   \n",
       "4                           6                     6.0                      0   \n",
       "...                       ...                     ...                    ...   \n",
       "615428                     45                    45.0                    177   \n",
       "615429                     40                    40.0                    136   \n",
       "615430                     45                    45.0                    177   \n",
       "615431                     48                    48.0                     48   \n",
       "615432                     34                    34.0                     50   \n",
       "\n",
       "        Bwd Packet Length Min  Flow Bytes/s  ...  Init_Win_bytes_forward  \\\n",
       "0                           0  4.000000e+06  ...                      33   \n",
       "1                           6  1.100917e+05  ...                      29   \n",
       "2                           6  2.307692e+05  ...                      29   \n",
       "3                           6  3.529412e+05  ...                      31   \n",
       "4                           0  4.000000e+06  ...                      32   \n",
       "...                       ...           ...  ...                     ...   \n",
       "615428                    177  8.689709e+03  ...                      -1   \n",
       "615429                    136  2.058480e+06  ...                      -1   \n",
       "615430                    177  2.000000e+06  ...                      -1   \n",
       "615431                     48  5.700036e+03  ...                      -1   \n",
       "615432                     50  1.098039e+06  ...                      -1   \n",
       "\n",
       "        Init_Win_bytes_backward  min_seg_size_forward  Active Mean  \\\n",
       "0                            -1                    20          0.0   \n",
       "1                           256                    20          0.0   \n",
       "2                           256                    20          0.0   \n",
       "3                           329                    20          0.0   \n",
       "4                            -1                    20          0.0   \n",
       "...                         ...                   ...          ...   \n",
       "615428                       -1                    20          0.0   \n",
       "615429                       -1                    32          0.0   \n",
       "615430                       -1                    32          0.0   \n",
       "615431                       -1                    20          0.0   \n",
       "615432                       -1                    20          0.0   \n",
       "\n",
       "        Active Std  Active Max  Active Min  Idle Std  Idle Min   Label  \n",
       "0              0.0           0           0       0.0         0  BENIGN  \n",
       "1              0.0           0           0       0.0         0  BENIGN  \n",
       "2              0.0           0           0       0.0         0  BENIGN  \n",
       "3              0.0           0           0       0.0         0  BENIGN  \n",
       "4              0.0           0           0       0.0         0  BENIGN  \n",
       "...            ...         ...         ...       ...       ...     ...  \n",
       "615428         0.0           0           0       0.0         0  BENIGN  \n",
       "615429         0.0           0           0       0.0         0  BENIGN  \n",
       "615430         0.0           0           0       0.0         0  BENIGN  \n",
       "615431         0.0           0           0       0.0         0  BENIGN  \n",
       "615432         0.0           0           0       0.0         0  BENIGN  \n",
       "\n",
       "[615433 rows x 43 columns]"
      ]
     },
     "execution_count": 69,
     "metadata": {},
     "output_type": "execute_result"
    }
   ],
   "source": [
    "df"
   ]
  },
  {
   "cell_type": "markdown",
   "metadata": {
    "id": "kglzmVDYiaHO"
   },
   "source": [
    "### STEP-4: Data Preparation"
   ]
  },
  {
   "cell_type": "markdown",
   "metadata": {
    "id": "mXuY3JLjk09c"
   },
   "source": [
    "#### **4.1 Save processed data**"
   ]
  },
  {
   "cell_type": "code",
   "execution_count": 70,
   "metadata": {
    "id": "MClNwCfRiaHP"
   },
   "outputs": [],
   "source": [
    "df = df[:615000]\n",
    "df.to_csv(r'clean_data.csv', index = True, header=True)\n",
    "\n",
    "real_data = df[-433:]\n",
    "\n",
    "#del real_data['Label']\n",
    "\n",
    "real_data.to_csv(r'real_time.csv', index = True, header=True)"
   ]
  },
  {
   "cell_type": "markdown",
   "metadata": {
    "id": "XySJqf2jiaHP"
   },
   "source": [
    "#### **4.2 Encode data for modeling**"
   ]
  },
  {
   "cell_type": "code",
   "execution_count": 71,
   "metadata": {
    "id": "cZ7DNi9giaHP"
   },
   "outputs": [],
   "source": [
    "catFeatureslist = ['Label']\n",
    "\n",
    "import csv\n",
    "\n",
    "dataset = df\n",
    "\n",
    "for cf1 in catFeatureslist:\n",
    "    le =preprocessing.LabelEncoder()\n",
    "    le.fit(dataset[cf1].unique())\n",
    "    actual = dataset[cf1].unique()\n",
    "    dataset[cf1] = le.transform(dataset[cf1])\n",
    "\n",
    "dataset.to_csv (r'encoded.csv', index = True, header=True)"
   ]
  },
  {
   "cell_type": "markdown",
   "metadata": {
    "id": "ys2LKjm1lKSK"
   },
   "source": [
    "#### **4.3 Split data for validation, real-time predictions & Save Encoded data**"
   ]
  },
  {
   "cell_type": "code",
   "execution_count": 72,
   "metadata": {
    "id": "0AMq9ou0iaHP"
   },
   "outputs": [],
   "source": [
    "df = pd.read_csv('clean_data.csv')\n",
    "df = df.rename(columns={\"Unnamed: 0\": \"AttackId\"}) \n",
    "df.to_csv('clean_data.csv')\n",
    "\n",
    "df1 = pd.read_csv('real_time.csv')\n",
    "df1 = df1.rename(columns={\"Unnamed: 0\": \"AttackId\"}) \n",
    "df1.to_csv('real_time.csv')\n",
    "\n",
    "df2 = pd.read_csv('encoded.csv')\n",
    "df2 = df2.rename(columns={\"Unnamed: 0\": \"AttackId\"}) \n",
    "df2.to_csv('encoded.csv')"
   ]
  },
  {
   "cell_type": "markdown",
   "metadata": {
    "id": "9TirlAM4m3tl"
   },
   "source": [
    "### STEP-5: Training Phase"
   ]
  },
  {
   "cell_type": "markdown",
   "metadata": {
    "id": "FU7l0CL_qt8f"
   },
   "source": [
    "#### **5.1 Read clean data**"
   ]
  },
  {
   "cell_type": "code",
   "execution_count": 73,
   "metadata": {
    "id": "LyXzvkXInBX_"
   },
   "outputs": [],
   "source": [
    "df = pd.read_csv('clean_data.csv')\n",
    "del df['Unnamed: 0']"
   ]
  },
  {
   "cell_type": "markdown",
   "metadata": {
    "id": "QxUs-1_5rHYc"
   },
   "source": [
    "#### **5.2 Data Size**"
   ]
  },
  {
   "cell_type": "code",
   "execution_count": 74,
   "metadata": {
    "colab": {
     "base_uri": "https://localhost:8080/"
    },
    "id": "Re0iaPabnEfC",
    "outputId": "8ee2ce1b-d4a3-40f7-b3b0-14a34312c652"
   },
   "outputs": [
    {
     "name": "stdout",
     "output_type": "stream",
     "text": [
      "Data: 615000 rows 44 columns\n"
     ]
    }
   ],
   "source": [
    "nRow, nCol = df.shape\n",
    "print(f'Data: {nRow} rows {nCol} columns')"
   ]
  },
  {
   "cell_type": "markdown",
   "metadata": {
    "id": "MoQpeR9vrNaZ"
   },
   "source": [
    "#### **5.3 View clean data**"
   ]
  },
  {
   "cell_type": "code",
   "execution_count": 75,
   "metadata": {
    "colab": {
     "base_uri": "https://localhost:8080/",
     "height": 275
    },
    "id": "zRuuNKginHLL",
    "outputId": "aa49218e-e153-487d-bf1d-ba0c95bec838"
   },
   "outputs": [
    {
     "data": {
      "text/html": [
       "<div>\n",
       "<style scoped>\n",
       "    .dataframe tbody tr th:only-of-type {\n",
       "        vertical-align: middle;\n",
       "    }\n",
       "\n",
       "    .dataframe tbody tr th {\n",
       "        vertical-align: top;\n",
       "    }\n",
       "\n",
       "    .dataframe thead th {\n",
       "        text-align: right;\n",
       "    }\n",
       "</style>\n",
       "<table border=\"1\" class=\"dataframe\">\n",
       "  <thead>\n",
       "    <tr style=\"text-align: right;\">\n",
       "      <th></th>\n",
       "      <th>AttackId</th>\n",
       "      <th>Destination Port</th>\n",
       "      <th>Flow Duration</th>\n",
       "      <th>Total Fwd Packets</th>\n",
       "      <th>Total Length of Fwd Packets</th>\n",
       "      <th>Fwd Packet Length Max</th>\n",
       "      <th>Fwd Packet Length Min</th>\n",
       "      <th>Fwd Packet Length Mean</th>\n",
       "      <th>Bwd Packet Length Max</th>\n",
       "      <th>Bwd Packet Length Min</th>\n",
       "      <th>...</th>\n",
       "      <th>Init_Win_bytes_forward</th>\n",
       "      <th>Init_Win_bytes_backward</th>\n",
       "      <th>min_seg_size_forward</th>\n",
       "      <th>Active Mean</th>\n",
       "      <th>Active Std</th>\n",
       "      <th>Active Max</th>\n",
       "      <th>Active Min</th>\n",
       "      <th>Idle Std</th>\n",
       "      <th>Idle Min</th>\n",
       "      <th>Label</th>\n",
       "    </tr>\n",
       "  </thead>\n",
       "  <tbody>\n",
       "    <tr>\n",
       "      <th>0</th>\n",
       "      <td>0</td>\n",
       "      <td>54865</td>\n",
       "      <td>3</td>\n",
       "      <td>2</td>\n",
       "      <td>12</td>\n",
       "      <td>6</td>\n",
       "      <td>6</td>\n",
       "      <td>6.0</td>\n",
       "      <td>0</td>\n",
       "      <td>0</td>\n",
       "      <td>...</td>\n",
       "      <td>33</td>\n",
       "      <td>-1</td>\n",
       "      <td>20</td>\n",
       "      <td>0.0</td>\n",
       "      <td>0.0</td>\n",
       "      <td>0</td>\n",
       "      <td>0</td>\n",
       "      <td>0.0</td>\n",
       "      <td>0</td>\n",
       "      <td>BENIGN</td>\n",
       "    </tr>\n",
       "    <tr>\n",
       "      <th>1</th>\n",
       "      <td>1</td>\n",
       "      <td>55054</td>\n",
       "      <td>109</td>\n",
       "      <td>1</td>\n",
       "      <td>6</td>\n",
       "      <td>6</td>\n",
       "      <td>6</td>\n",
       "      <td>6.0</td>\n",
       "      <td>6</td>\n",
       "      <td>6</td>\n",
       "      <td>...</td>\n",
       "      <td>29</td>\n",
       "      <td>256</td>\n",
       "      <td>20</td>\n",
       "      <td>0.0</td>\n",
       "      <td>0.0</td>\n",
       "      <td>0</td>\n",
       "      <td>0</td>\n",
       "      <td>0.0</td>\n",
       "      <td>0</td>\n",
       "      <td>BENIGN</td>\n",
       "    </tr>\n",
       "    <tr>\n",
       "      <th>2</th>\n",
       "      <td>2</td>\n",
       "      <td>55055</td>\n",
       "      <td>52</td>\n",
       "      <td>1</td>\n",
       "      <td>6</td>\n",
       "      <td>6</td>\n",
       "      <td>6</td>\n",
       "      <td>6.0</td>\n",
       "      <td>6</td>\n",
       "      <td>6</td>\n",
       "      <td>...</td>\n",
       "      <td>29</td>\n",
       "      <td>256</td>\n",
       "      <td>20</td>\n",
       "      <td>0.0</td>\n",
       "      <td>0.0</td>\n",
       "      <td>0</td>\n",
       "      <td>0</td>\n",
       "      <td>0.0</td>\n",
       "      <td>0</td>\n",
       "      <td>BENIGN</td>\n",
       "    </tr>\n",
       "    <tr>\n",
       "      <th>3</th>\n",
       "      <td>3</td>\n",
       "      <td>46236</td>\n",
       "      <td>34</td>\n",
       "      <td>1</td>\n",
       "      <td>6</td>\n",
       "      <td>6</td>\n",
       "      <td>6</td>\n",
       "      <td>6.0</td>\n",
       "      <td>6</td>\n",
       "      <td>6</td>\n",
       "      <td>...</td>\n",
       "      <td>31</td>\n",
       "      <td>329</td>\n",
       "      <td>20</td>\n",
       "      <td>0.0</td>\n",
       "      <td>0.0</td>\n",
       "      <td>0</td>\n",
       "      <td>0</td>\n",
       "      <td>0.0</td>\n",
       "      <td>0</td>\n",
       "      <td>BENIGN</td>\n",
       "    </tr>\n",
       "    <tr>\n",
       "      <th>4</th>\n",
       "      <td>4</td>\n",
       "      <td>54863</td>\n",
       "      <td>3</td>\n",
       "      <td>2</td>\n",
       "      <td>12</td>\n",
       "      <td>6</td>\n",
       "      <td>6</td>\n",
       "      <td>6.0</td>\n",
       "      <td>0</td>\n",
       "      <td>0</td>\n",
       "      <td>...</td>\n",
       "      <td>32</td>\n",
       "      <td>-1</td>\n",
       "      <td>20</td>\n",
       "      <td>0.0</td>\n",
       "      <td>0.0</td>\n",
       "      <td>0</td>\n",
       "      <td>0</td>\n",
       "      <td>0.0</td>\n",
       "      <td>0</td>\n",
       "      <td>BENIGN</td>\n",
       "    </tr>\n",
       "  </tbody>\n",
       "</table>\n",
       "<p>5 rows × 44 columns</p>\n",
       "</div>"
      ],
      "text/plain": [
       "   AttackId  Destination Port  Flow Duration  Total Fwd Packets  \\\n",
       "0         0             54865              3                  2   \n",
       "1         1             55054            109                  1   \n",
       "2         2             55055             52                  1   \n",
       "3         3             46236             34                  1   \n",
       "4         4             54863              3                  2   \n",
       "\n",
       "   Total Length of Fwd Packets  Fwd Packet Length Max  Fwd Packet Length Min  \\\n",
       "0                           12                      6                      6   \n",
       "1                            6                      6                      6   \n",
       "2                            6                      6                      6   \n",
       "3                            6                      6                      6   \n",
       "4                           12                      6                      6   \n",
       "\n",
       "   Fwd Packet Length Mean  Bwd Packet Length Max  Bwd Packet Length Min  ...  \\\n",
       "0                     6.0                      0                      0  ...   \n",
       "1                     6.0                      6                      6  ...   \n",
       "2                     6.0                      6                      6  ...   \n",
       "3                     6.0                      6                      6  ...   \n",
       "4                     6.0                      0                      0  ...   \n",
       "\n",
       "   Init_Win_bytes_forward  Init_Win_bytes_backward  min_seg_size_forward  \\\n",
       "0                      33                       -1                    20   \n",
       "1                      29                      256                    20   \n",
       "2                      29                      256                    20   \n",
       "3                      31                      329                    20   \n",
       "4                      32                       -1                    20   \n",
       "\n",
       "   Active Mean  Active Std  Active Max  Active Min  Idle Std  Idle Min   Label  \n",
       "0          0.0         0.0           0           0       0.0         0  BENIGN  \n",
       "1          0.0         0.0           0           0       0.0         0  BENIGN  \n",
       "2          0.0         0.0           0           0       0.0         0  BENIGN  \n",
       "3          0.0         0.0           0           0       0.0         0  BENIGN  \n",
       "4          0.0         0.0           0           0       0.0         0  BENIGN  \n",
       "\n",
       "[5 rows x 44 columns]"
      ]
     },
     "execution_count": 75,
     "metadata": {},
     "output_type": "execute_result"
    }
   ],
   "source": [
    "df.head()"
   ]
  },
  {
   "cell_type": "code",
   "execution_count": 76,
   "metadata": {
    "colab": {
     "base_uri": "https://localhost:8080/"
    },
    "id": "H55Ew_atnNNE",
    "outputId": "5c937729-df97-49b0-fbd7-75b273147cca"
   },
   "outputs": [
    {
     "name": "stdout",
     "output_type": "stream",
     "text": [
      "['BENIGN' 'DDoS' 'PortScan' 'Bot']\n"
     ]
    }
   ],
   "source": [
    "x = df.drop([\"Label\"],axis=1)\n",
    "y = df[\"Label\"]\n",
    "\n",
    "print(y.unique())\n",
    "\n",
    "\n",
    "data_len = len(df)\n",
    "\n",
    "test_size = int(data_len/2) #50% of the total data \n",
    "\n",
    "train_range = int(data_len - test_size) #70% of the total data\n",
    "\n",
    "train = df[:train_range]\n",
    "\n",
    "test = df[train_range:data_len]\n",
    "\n",
    "train.to_csv('train.csv',index=False)\n",
    "test.to_csv('test.csv',index=False)\n",
    "\n",
    "X_train = x[:train_range]\n",
    "X_test = x[train_range:data_len]\n",
    "\n",
    "Y_train = y[:train_range]\n",
    "Y_test = y[train_range:data_len]\n"
   ]
  },
  {
   "cell_type": "code",
   "execution_count": 77,
   "metadata": {
    "id": "nX3jOOkznPW5"
   },
   "outputs": [],
   "source": [
    "scaler = MaxAbsScaler()\n",
    "X_train = scaler.fit_transform(X_train)\n",
    "X_test = scaler.transform(X_test)"
   ]
  },
  {
   "cell_type": "markdown",
   "metadata": {
    "id": "DZrkea2Fqg9Q"
   },
   "source": [
    "#### **5.4 Classify Attack using KNN** "
   ]
  },
  {
   "cell_type": "code",
   "execution_count": 78,
   "metadata": {
    "id": "Ilrcx9oaASPl"
   },
   "outputs": [
    {
     "name": "stdout",
     "output_type": "stream",
     "text": [
      "1 : 1.1050011884429034\n",
      "2 : 0.8739248919171141\n",
      "3 : 0.7262832489010567\n",
      "4 : 0.64976507783514\n",
      "5 : 0.5710455155872773\n",
      "6 : 0.5139772362152244\n",
      "7 : 0.491926691764504\n",
      "8 : 0.4487844613987323\n",
      "9 : 0.42216554473586104\n"
     ]
    },
    {
     "data": {
      "image/png": "[encoded data removed]",
      "text/plain": [
       "<Figure size 432x288 with 1 Axes>"
      ]
     },
     "metadata": {
      "needs_background": "light"
     },
     "output_type": "display_data"
    }
   ],
   "source": [
    "from sklearn.cluster import KMeans \n",
    "from scipy.spatial.distance import cdist \n",
    "import matplotlib.pyplot as plt\n",
    "\n",
    "X = X_train\n",
    "\n",
    "distortions = [] \n",
    "inertias = [] \n",
    "mapping1 = {} \n",
    "mapping2 = {} \n",
    "K = range(1,10) \n",
    "  \n",
    "for k in K: \n",
    "    #Building and fitting the model \n",
    "    kmeanModel = KMeans(n_clusters=k).fit(X) \n",
    "    kmeanModel.fit(X)     \n",
    "      \n",
    "    distortions.append(sum(np.min(cdist(X, kmeanModel.cluster_centers_, \n",
    "                      'euclidean'),axis=1)) / X.shape[0]) \n",
    "    inertias.append(kmeanModel.inertia_) \n",
    "  \n",
    "    mapping1[k] = sum(np.min(cdist(X, kmeanModel.cluster_centers_, \n",
    "                 'euclidean'),axis=1)) / X.shape[0] \n",
    "    mapping2[k] = kmeanModel.inertia_ \n",
    "\n",
    "for key,val in mapping1.items(): \n",
    "    print(str(key)+' : '+str(val)) \n",
    "\n",
    "plt.plot(K, distortions, 'bx-') \n",
    "plt.xlabel('Values of K') \n",
    "plt.ylabel('Distortion') \n",
    "plt.title('The Elbow Method using Distortion') \n",
    "plt.show() "
   ]
  },
  {
   "cell_type": "code",
   "execution_count": 79,
   "metadata": {},
   "outputs": [],
   "source": [
    "optimal_n = 3"
   ]
  },
  {
   "cell_type": "markdown",
   "metadata": {
    "id": "GvUoaALAri41"
   },
   "source": [
    "##### **5.4.1 Metric: Euclidean**"
   ]
  },
  {
   "cell_type": "code",
   "execution_count": 80,
   "metadata": {
    "colab": {
     "base_uri": "https://localhost:8080/"
    },
    "id": "qcNv0EqGnRsp",
    "outputId": "81e5b741-ef6d-4bfd-c012-a70883cdaec3"
   },
   "outputs": [
    {
     "name": "stdout",
     "output_type": "stream",
     "text": [
      "Training time(KNN+euclidean):0.5201582511266073 mins\n",
      "Confidence (%): 85.1508943089431\n",
      "\n"
     ]
    }
   ],
   "source": [
    "startKNN = time.time()\n",
    "best_KNN_Classifier = KNeighborsClassifier(n_jobs=-1, n_neighbors=optimal_n, metric='euclidean', algorithm='auto') \n",
    "best_KNN_Classifier.fit(X_train, Y_train);\n",
    "\n",
    "print(\"Training time(KNN+euclidean):\"+str((time.time()-startKNN)/60)+\" mins\")\n",
    "\n",
    "Y_pred = best_KNN_Classifier.predict(X_test)\n",
    "\n",
    "confidence = metrics.accuracy_score(Y_test, Y_pred)\n",
    "print(\"Confidence (%):\", confidence*100) \n",
    "print()\n",
    "\n",
    "# #for dash view\n",
    "data = {'predicted':  Y_pred,'actual': Y_test}\n",
    "df = pd.DataFrame (data, columns = ['predicted','actual'])\n",
    "\n",
    "from sklearn.preprocessing import LabelEncoder\n",
    "cols = ['predicted','actual']\n",
    "\n",
    "for c in cols:\n",
    "    lbl = LabelEncoder() \n",
    "    lbl.fit(list(df[c].values)) \n",
    "    df[c] = lbl.transform(list(df[c].values))\n",
    "    \n",
    "df.to_csv('euclidean.csv')"
   ]
  },
  {
   "cell_type": "markdown",
   "metadata": {
    "id": "xgRjwnuOr7ma"
   },
   "source": [
    "##### **5.4.2 Metric: minkowski**"
   ]
  },
  {
   "cell_type": "code",
   "execution_count": 81,
   "metadata": {
    "colab": {
     "base_uri": "https://localhost:8080/"
    },
    "id": "YljHKN3wr7xA",
    "outputId": "e0ae81ba-f01d-4c85-a4af-168f4c0b7fe6"
   },
   "outputs": [
    {
     "name": "stdout",
     "output_type": "stream",
     "text": [
      "Training time(KNN+minkowski):0.5768641670544942 mins\n",
      "Confidence (%): 85.1508943089431\n",
      "\n"
     ]
    }
   ],
   "source": [
    "startKNN = time.time()\n",
    "KNN_Classifier = KNeighborsClassifier(n_jobs=-1, n_neighbors=optimal_n, metric='minkowski', algorithm='auto') \n",
    "KNN_Classifier.fit(X_train, Y_train);\n",
    "\n",
    "print(\"Training time(KNN+minkowski):\"+str((time.time()-startKNN)/60)+\" mins\")\n",
    "\n",
    "Y_pred = KNN_Classifier.predict(X_test)\n",
    "\n",
    "confidence = metrics.accuracy_score(Y_test, Y_pred)\n",
    "print(\"Confidence (%):\", confidence*100) \n",
    "print()\n",
    "\n",
    "# #for dash view\n",
    "data = {'predicted':  Y_pred,'actual': Y_test}\n",
    "df = pd.DataFrame (data, columns = ['predicted','actual'])\n",
    "\n",
    "cols = ['predicted','actual']\n",
    "\n",
    "for c in cols:\n",
    "    lbl = LabelEncoder() \n",
    "    lbl.fit(list(df[c].values)) \n",
    "    df[c] = lbl.transform(list(df[c].values))\n",
    "\n",
    "df.to_csv('minkowski.csv')\n"
   ]
  },
  {
   "cell_type": "markdown",
   "metadata": {
    "id": "106NreC8s5ft"
   },
   "source": [
    "##### **5.4.3 Metric: chebyshev**"
   ]
  },
  {
   "cell_type": "code",
   "execution_count": 82,
   "metadata": {
    "colab": {
     "base_uri": "https://localhost:8080/"
    },
    "id": "qJ-IYLX8s5rL",
    "outputId": "72bea06e-5f81-43c5-ebca-501c5f423b33"
   },
   "outputs": [
    {
     "name": "stdout",
     "output_type": "stream",
     "text": [
      "Training time(KNN+chebyshev):0.5670788367589314 mins\n",
      "Confidence (%): 74.87252032520325\n",
      "\n"
     ]
    }
   ],
   "source": [
    "startKNN = time.time()\n",
    "KNN_Classifier = KNeighborsClassifier(n_jobs=-1, n_neighbors=optimal_n, metric='chebyshev', algorithm='auto') \n",
    "KNN_Classifier.fit(X_train, Y_train);\n",
    "\n",
    "print(\"Training time(KNN+chebyshev):\"+str((time.time()-startKNN)/60)+\" mins\")\n",
    "\n",
    "Y_pred = KNN_Classifier.predict(X_test)\n",
    "\n",
    "confidence = metrics.accuracy_score(Y_test, Y_pred)\n",
    "print(\"Confidence (%):\", confidence*100) \n",
    "print()\n",
    "# #for dash view\n",
    "data = {'predicted':  Y_pred,'actual': Y_test}\n",
    "df = pd.DataFrame (data, columns = ['predicted','actual'])\n",
    "\n",
    "cols = ['predicted','actual']\n",
    "\n",
    "for c in cols:\n",
    "    lbl = LabelEncoder() \n",
    "    lbl.fit(list(df[c].values)) \n",
    "    df[c] = lbl.transform(list(df[c].values))\n",
    "\n",
    "    \n",
    "df.to_csv('chebyshev.csv')"
   ]
  },
  {
   "cell_type": "markdown",
   "metadata": {
    "id": "XUZXwXP4AD6K"
   },
   "source": [
    "##### **5.4.4 Metric: manhattan**"
   ]
  },
  {
   "cell_type": "code",
   "execution_count": 83,
   "metadata": {
    "colab": {
     "base_uri": "https://localhost:8080/"
    },
    "id": "OKWVcdr1AEG2",
    "outputId": "2e11b44b-7986-45b9-a010-13d48b101ad5"
   },
   "outputs": [
    {
     "name": "stdout",
     "output_type": "stream",
     "text": [
      "Training time(KNN+manhattan):0.5552481015523275 mins\n",
      "Confidence (%): 85.38536585365854\n",
      "\n"
     ]
    }
   ],
   "source": [
    "startKNN = time.time()\n",
    "KNN_Classifier = KNeighborsClassifier(n_jobs=-1, n_neighbors=optimal_n, metric='manhattan', algorithm='auto') \n",
    "KNN_Classifier.fit(X_train, Y_train);\n",
    "\n",
    "print(\"Training time(KNN+manhattan):\"+str((time.time()-startKNN)/60)+\" mins\")\n",
    "\n",
    "Y_pred = KNN_Classifier.predict(X_test)\n",
    "\n",
    "confidence = metrics.accuracy_score(Y_test, Y_pred)\n",
    "print(\"Confidence (%):\", confidence*100) \n",
    "print()\n",
    "# #for dash view\n",
    "data = {'predicted':  Y_pred,'actual': Y_test}\n",
    "df = pd.DataFrame (data, columns = ['predicted','actual'])\n",
    "\n",
    "cols = ['predicted','actual']\n",
    "\n",
    "for c in cols:\n",
    "    lbl = LabelEncoder() \n",
    "    lbl.fit(list(df[c].values)) \n",
    "    df[c] = lbl.transform(list(df[c].values))\n",
    "\n",
    "df.to_csv('manhattan.csv')"
   ]
  },
  {
   "cell_type": "markdown",
   "metadata": {
    "id": "Hf1bvjHZtqkZ"
   },
   "source": [
    "#### **5.5 Save best performing model for real-time classification**"
   ]
  },
  {
   "cell_type": "code",
   "execution_count": 84,
   "metadata": {
    "id": "E4Sjk1oenUMf"
   },
   "outputs": [],
   "source": [
    "#KNN(euclidean + minkowski) performed equally well in terms of accuracy & training time.\n",
    "filename = 'knnModel_Euclidean.sav'\n",
    "joblib.dump(best_KNN_Classifier, filename)\n",
    "  \n",
    "loaded_model = joblib.load(filename)"
   ]
  },
  {
   "cell_type": "markdown",
   "metadata": {
    "id": "gADjjqLCxRyc"
   },
   "source": [
    "### STEP-6: Application Phase (SafeML + Reinforcement learning)"
   ]
  },
  {
   "cell_type": "markdown",
   "metadata": {
    "id": "Eo71WMEcxZbA"
   },
   "source": [
    "##### **6.1 Load training & real-time validation data**"
   ]
  },
  {
   "cell_type": "code",
   "execution_count": 85,
   "metadata": {
    "colab": {
     "base_uri": "https://localhost:8080/",
     "height": 490
    },
    "id": "d6PiOxzPxZlG",
    "outputId": "53cb3653-9a42-48e1-a1f2-627bb23d9091"
   },
   "outputs": [
    {
     "data": {
      "text/html": [
       "<div>\n",
       "<style scoped>\n",
       "    .dataframe tbody tr th:only-of-type {\n",
       "        vertical-align: middle;\n",
       "    }\n",
       "\n",
       "    .dataframe tbody tr th {\n",
       "        vertical-align: top;\n",
       "    }\n",
       "\n",
       "    .dataframe thead th {\n",
       "        text-align: right;\n",
       "    }\n",
       "</style>\n",
       "<table border=\"1\" class=\"dataframe\">\n",
       "  <thead>\n",
       "    <tr style=\"text-align: right;\">\n",
       "      <th></th>\n",
       "      <th>AttackId</th>\n",
       "      <th>Destination Port</th>\n",
       "      <th>Flow Duration</th>\n",
       "      <th>Total Fwd Packets</th>\n",
       "      <th>Total Length of Fwd Packets</th>\n",
       "      <th>Fwd Packet Length Max</th>\n",
       "      <th>Fwd Packet Length Min</th>\n",
       "      <th>Fwd Packet Length Mean</th>\n",
       "      <th>Bwd Packet Length Max</th>\n",
       "      <th>Bwd Packet Length Min</th>\n",
       "      <th>...</th>\n",
       "      <th>Down/Up Ratio</th>\n",
       "      <th>Init_Win_bytes_forward</th>\n",
       "      <th>Init_Win_bytes_backward</th>\n",
       "      <th>min_seg_size_forward</th>\n",
       "      <th>Active Mean</th>\n",
       "      <th>Active Std</th>\n",
       "      <th>Active Max</th>\n",
       "      <th>Active Min</th>\n",
       "      <th>Idle Std</th>\n",
       "      <th>Idle Min</th>\n",
       "    </tr>\n",
       "  </thead>\n",
       "  <tbody>\n",
       "    <tr>\n",
       "      <th>0</th>\n",
       "      <td>614567</td>\n",
       "      <td>53</td>\n",
       "      <td>215</td>\n",
       "      <td>2</td>\n",
       "      <td>76</td>\n",
       "      <td>38</td>\n",
       "      <td>38</td>\n",
       "      <td>38.0</td>\n",
       "      <td>242</td>\n",
       "      <td>242</td>\n",
       "      <td>...</td>\n",
       "      <td>1</td>\n",
       "      <td>-1</td>\n",
       "      <td>-1</td>\n",
       "      <td>20</td>\n",
       "      <td>0.0</td>\n",
       "      <td>0.0</td>\n",
       "      <td>0</td>\n",
       "      <td>0</td>\n",
       "      <td>0.0</td>\n",
       "      <td>0</td>\n",
       "    </tr>\n",
       "    <tr>\n",
       "      <th>1</th>\n",
       "      <td>614568</td>\n",
       "      <td>53</td>\n",
       "      <td>837</td>\n",
       "      <td>2</td>\n",
       "      <td>74</td>\n",
       "      <td>37</td>\n",
       "      <td>37</td>\n",
       "      <td>37.0</td>\n",
       "      <td>77</td>\n",
       "      <td>77</td>\n",
       "      <td>...</td>\n",
       "      <td>1</td>\n",
       "      <td>-1</td>\n",
       "      <td>-1</td>\n",
       "      <td>20</td>\n",
       "      <td>0.0</td>\n",
       "      <td>0.0</td>\n",
       "      <td>0</td>\n",
       "      <td>0</td>\n",
       "      <td>0.0</td>\n",
       "      <td>0</td>\n",
       "    </tr>\n",
       "    <tr>\n",
       "      <th>2</th>\n",
       "      <td>614569</td>\n",
       "      <td>443</td>\n",
       "      <td>14336951</td>\n",
       "      <td>1</td>\n",
       "      <td>0</td>\n",
       "      <td>0</td>\n",
       "      <td>0</td>\n",
       "      <td>0.0</td>\n",
       "      <td>0</td>\n",
       "      <td>0</td>\n",
       "      <td>...</td>\n",
       "      <td>5</td>\n",
       "      <td>8192</td>\n",
       "      <td>42780</td>\n",
       "      <td>32</td>\n",
       "      <td>6336908.0</td>\n",
       "      <td>0.0</td>\n",
       "      <td>6336908</td>\n",
       "      <td>6336908</td>\n",
       "      <td>0.0</td>\n",
       "      <td>8000043</td>\n",
       "    </tr>\n",
       "    <tr>\n",
       "      <th>3</th>\n",
       "      <td>614570</td>\n",
       "      <td>53</td>\n",
       "      <td>31040</td>\n",
       "      <td>2</td>\n",
       "      <td>82</td>\n",
       "      <td>41</td>\n",
       "      <td>41</td>\n",
       "      <td>41.0</td>\n",
       "      <td>113</td>\n",
       "      <td>113</td>\n",
       "      <td>...</td>\n",
       "      <td>1</td>\n",
       "      <td>-1</td>\n",
       "      <td>-1</td>\n",
       "      <td>32</td>\n",
       "      <td>0.0</td>\n",
       "      <td>0.0</td>\n",
       "      <td>0</td>\n",
       "      <td>0</td>\n",
       "      <td>0.0</td>\n",
       "      <td>0</td>\n",
       "    </tr>\n",
       "    <tr>\n",
       "      <th>4</th>\n",
       "      <td>614571</td>\n",
       "      <td>53</td>\n",
       "      <td>148</td>\n",
       "      <td>2</td>\n",
       "      <td>76</td>\n",
       "      <td>38</td>\n",
       "      <td>38</td>\n",
       "      <td>38.0</td>\n",
       "      <td>54</td>\n",
       "      <td>54</td>\n",
       "      <td>...</td>\n",
       "      <td>1</td>\n",
       "      <td>-1</td>\n",
       "      <td>-1</td>\n",
       "      <td>20</td>\n",
       "      <td>0.0</td>\n",
       "      <td>0.0</td>\n",
       "      <td>0</td>\n",
       "      <td>0</td>\n",
       "      <td>0.0</td>\n",
       "      <td>0</td>\n",
       "    </tr>\n",
       "    <tr>\n",
       "      <th>...</th>\n",
       "      <td>...</td>\n",
       "      <td>...</td>\n",
       "      <td>...</td>\n",
       "      <td>...</td>\n",
       "      <td>...</td>\n",
       "      <td>...</td>\n",
       "      <td>...</td>\n",
       "      <td>...</td>\n",
       "      <td>...</td>\n",
       "      <td>...</td>\n",
       "      <td>...</td>\n",
       "      <td>...</td>\n",
       "      <td>...</td>\n",
       "      <td>...</td>\n",
       "      <td>...</td>\n",
       "      <td>...</td>\n",
       "      <td>...</td>\n",
       "      <td>...</td>\n",
       "      <td>...</td>\n",
       "      <td>...</td>\n",
       "      <td>...</td>\n",
       "    </tr>\n",
       "    <tr>\n",
       "      <th>428</th>\n",
       "      <td>614995</td>\n",
       "      <td>53</td>\n",
       "      <td>30477</td>\n",
       "      <td>1</td>\n",
       "      <td>79</td>\n",
       "      <td>79</td>\n",
       "      <td>79</td>\n",
       "      <td>79.0</td>\n",
       "      <td>145</td>\n",
       "      <td>145</td>\n",
       "      <td>...</td>\n",
       "      <td>1</td>\n",
       "      <td>-1</td>\n",
       "      <td>-1</td>\n",
       "      <td>32</td>\n",
       "      <td>0.0</td>\n",
       "      <td>0.0</td>\n",
       "      <td>0</td>\n",
       "      <td>0</td>\n",
       "      <td>0.0</td>\n",
       "      <td>0</td>\n",
       "    </tr>\n",
       "    <tr>\n",
       "      <th>429</th>\n",
       "      <td>614996</td>\n",
       "      <td>53</td>\n",
       "      <td>30572</td>\n",
       "      <td>1</td>\n",
       "      <td>46</td>\n",
       "      <td>46</td>\n",
       "      <td>46</td>\n",
       "      <td>46.0</td>\n",
       "      <td>74</td>\n",
       "      <td>74</td>\n",
       "      <td>...</td>\n",
       "      <td>1</td>\n",
       "      <td>-1</td>\n",
       "      <td>-1</td>\n",
       "      <td>32</td>\n",
       "      <td>0.0</td>\n",
       "      <td>0.0</td>\n",
       "      <td>0</td>\n",
       "      <td>0</td>\n",
       "      <td>0.0</td>\n",
       "      <td>0</td>\n",
       "    </tr>\n",
       "    <tr>\n",
       "      <th>430</th>\n",
       "      <td>614997</td>\n",
       "      <td>53</td>\n",
       "      <td>30473</td>\n",
       "      <td>1</td>\n",
       "      <td>60</td>\n",
       "      <td>60</td>\n",
       "      <td>60</td>\n",
       "      <td>60.0</td>\n",
       "      <td>76</td>\n",
       "      <td>76</td>\n",
       "      <td>...</td>\n",
       "      <td>1</td>\n",
       "      <td>-1</td>\n",
       "      <td>-1</td>\n",
       "      <td>20</td>\n",
       "      <td>0.0</td>\n",
       "      <td>0.0</td>\n",
       "      <td>0</td>\n",
       "      <td>0</td>\n",
       "      <td>0.0</td>\n",
       "      <td>0</td>\n",
       "    </tr>\n",
       "    <tr>\n",
       "      <th>431</th>\n",
       "      <td>614998</td>\n",
       "      <td>53</td>\n",
       "      <td>31267</td>\n",
       "      <td>1</td>\n",
       "      <td>48</td>\n",
       "      <td>48</td>\n",
       "      <td>48</td>\n",
       "      <td>48.0</td>\n",
       "      <td>113</td>\n",
       "      <td>113</td>\n",
       "      <td>...</td>\n",
       "      <td>1</td>\n",
       "      <td>-1</td>\n",
       "      <td>-1</td>\n",
       "      <td>20</td>\n",
       "      <td>0.0</td>\n",
       "      <td>0.0</td>\n",
       "      <td>0</td>\n",
       "      <td>0</td>\n",
       "      <td>0.0</td>\n",
       "      <td>0</td>\n",
       "    </tr>\n",
       "    <tr>\n",
       "      <th>432</th>\n",
       "      <td>614999</td>\n",
       "      <td>53</td>\n",
       "      <td>30517</td>\n",
       "      <td>1</td>\n",
       "      <td>60</td>\n",
       "      <td>60</td>\n",
       "      <td>60</td>\n",
       "      <td>60.0</td>\n",
       "      <td>88</td>\n",
       "      <td>88</td>\n",
       "      <td>...</td>\n",
       "      <td>1</td>\n",
       "      <td>-1</td>\n",
       "      <td>-1</td>\n",
       "      <td>20</td>\n",
       "      <td>0.0</td>\n",
       "      <td>0.0</td>\n",
       "      <td>0</td>\n",
       "      <td>0</td>\n",
       "      <td>0.0</td>\n",
       "      <td>0</td>\n",
       "    </tr>\n",
       "  </tbody>\n",
       "</table>\n",
       "<p>433 rows × 43 columns</p>\n",
       "</div>"
      ],
      "text/plain": [
       "     AttackId  Destination Port  Flow Duration  Total Fwd Packets  \\\n",
       "0      614567                53            215                  2   \n",
       "1      614568                53            837                  2   \n",
       "2      614569               443       14336951                  1   \n",
       "3      614570                53          31040                  2   \n",
       "4      614571                53            148                  2   \n",
       "..        ...               ...            ...                ...   \n",
       "428    614995                53          30477                  1   \n",
       "429    614996                53          30572                  1   \n",
       "430    614997                53          30473                  1   \n",
       "431    614998                53          31267                  1   \n",
       "432    614999                53          30517                  1   \n",
       "\n",
       "     Total Length of Fwd Packets  Fwd Packet Length Max  \\\n",
       "0                             76                     38   \n",
       "1                             74                     37   \n",
       "2                              0                      0   \n",
       "3                             82                     41   \n",
       "4                             76                     38   \n",
       "..                           ...                    ...   \n",
       "428                           79                     79   \n",
       "429                           46                     46   \n",
       "430                           60                     60   \n",
       "431                           48                     48   \n",
       "432                           60                     60   \n",
       "\n",
       "     Fwd Packet Length Min  Fwd Packet Length Mean  Bwd Packet Length Max  \\\n",
       "0                       38                    38.0                    242   \n",
       "1                       37                    37.0                     77   \n",
       "2                        0                     0.0                      0   \n",
       "3                       41                    41.0                    113   \n",
       "4                       38                    38.0                     54   \n",
       "..                     ...                     ...                    ...   \n",
       "428                     79                    79.0                    145   \n",
       "429                     46                    46.0                     74   \n",
       "430                     60                    60.0                     76   \n",
       "431                     48                    48.0                    113   \n",
       "432                     60                    60.0                     88   \n",
       "\n",
       "     Bwd Packet Length Min  ...  Down/Up Ratio  Init_Win_bytes_forward  \\\n",
       "0                      242  ...              1                      -1   \n",
       "1                       77  ...              1                      -1   \n",
       "2                        0  ...              5                    8192   \n",
       "3                      113  ...              1                      -1   \n",
       "4                       54  ...              1                      -1   \n",
       "..                     ...  ...            ...                     ...   \n",
       "428                    145  ...              1                      -1   \n",
       "429                     74  ...              1                      -1   \n",
       "430                     76  ...              1                      -1   \n",
       "431                    113  ...              1                      -1   \n",
       "432                     88  ...              1                      -1   \n",
       "\n",
       "     Init_Win_bytes_backward  min_seg_size_forward  Active Mean  Active Std  \\\n",
       "0                         -1                    20          0.0         0.0   \n",
       "1                         -1                    20          0.0         0.0   \n",
       "2                      42780                    32    6336908.0         0.0   \n",
       "3                         -1                    32          0.0         0.0   \n",
       "4                         -1                    20          0.0         0.0   \n",
       "..                       ...                   ...          ...         ...   \n",
       "428                       -1                    32          0.0         0.0   \n",
       "429                       -1                    32          0.0         0.0   \n",
       "430                       -1                    20          0.0         0.0   \n",
       "431                       -1                    20          0.0         0.0   \n",
       "432                       -1                    20          0.0         0.0   \n",
       "\n",
       "     Active Max  Active Min  Idle Std  Idle Min  \n",
       "0             0           0       0.0         0  \n",
       "1             0           0       0.0         0  \n",
       "2       6336908     6336908       0.0   8000043  \n",
       "3             0           0       0.0         0  \n",
       "4             0           0       0.0         0  \n",
       "..          ...         ...       ...       ...  \n",
       "428           0           0       0.0         0  \n",
       "429           0           0       0.0         0  \n",
       "430           0           0       0.0         0  \n",
       "431           0           0       0.0         0  \n",
       "432           0           0       0.0         0  \n",
       "\n",
       "[433 rows x 43 columns]"
      ]
     },
     "execution_count": 85,
     "metadata": {},
     "output_type": "execute_result"
    }
   ],
   "source": [
    "real_time = pd.read_csv(\"real_time.csv\")\n",
    "all_data = pd.read_csv(\"clean_data.csv\")\n",
    "\n",
    "x = real_time.drop([\"Label\"],axis=1).fillna(0)\n",
    "y = real_time[\"Label\"]\n",
    "del x['Unnamed: 0']\n",
    "\n",
    "x"
   ]
  },
  {
   "cell_type": "markdown",
   "metadata": {
    "id": "rAALh4zSxeRq"
   },
   "source": [
    "##### **6.2 Load best model for real-time attack classification**"
   ]
  },
  {
   "cell_type": "code",
   "execution_count": 86,
   "metadata": {
    "id": "1Tlyg-3dxeiq"
   },
   "outputs": [],
   "source": [
    "import joblib\n",
    "\n",
    "filename = 'knnModel_Euclidean.sav'\n",
    "  \n",
    "loaded_model = joblib.load(filename)\n"
   ]
  },
  {
   "cell_type": "code",
   "execution_count": 87,
   "metadata": {
    "id": "S5rlcxF1x1NO"
   },
   "outputs": [],
   "source": [
    "Y_pred = loaded_model.predict(x)"
   ]
  },
  {
   "cell_type": "code",
   "execution_count": 88,
   "metadata": {
    "colab": {
     "base_uri": "https://localhost:8080/"
    },
    "id": "Um7SbXIkx143",
    "outputId": "bf5e9530-2cc8-4fc1-9c40-7d4cdc1c0554"
   },
   "outputs": [
    {
     "data": {
      "text/plain": [
       "array(['BENIGN', 'BENIGN', 'BENIGN', 'BENIGN', 'BENIGN', 'BENIGN',\n",
       "       'BENIGN', 'BENIGN', 'BENIGN', 'BENIGN', 'BENIGN', 'BENIGN',\n",
       "       'BENIGN', 'BENIGN', 'BENIGN', 'BENIGN', 'BENIGN', 'PortScan',\n",
       "       'BENIGN', 'BENIGN', 'BENIGN', 'BENIGN', 'BENIGN', 'BENIGN',\n",
       "       'BENIGN', 'BENIGN', 'BENIGN', 'BENIGN', 'BENIGN', 'BENIGN',\n",
       "       'BENIGN', 'BENIGN', 'BENIGN', 'BENIGN', 'BENIGN', 'BENIGN',\n",
       "       'BENIGN', 'BENIGN', 'BENIGN', 'BENIGN', 'BENIGN', 'BENIGN',\n",
       "       'PortScan', 'BENIGN', 'BENIGN', 'PortScan', 'BENIGN', 'BENIGN',\n",
       "       'BENIGN', 'PortScan', 'BENIGN', 'BENIGN', 'BENIGN', 'BENIGN',\n",
       "       'BENIGN', 'BENIGN', 'BENIGN', 'BENIGN', 'BENIGN', 'BENIGN',\n",
       "       'BENIGN', 'BENIGN', 'BENIGN', 'BENIGN', 'BENIGN', 'BENIGN',\n",
       "       'BENIGN', 'BENIGN', 'BENIGN', 'BENIGN', 'BENIGN', 'BENIGN',\n",
       "       'BENIGN', 'BENIGN', 'BENIGN', 'BENIGN', 'BENIGN', 'BENIGN',\n",
       "       'BENIGN', 'BENIGN', 'BENIGN', 'BENIGN', 'BENIGN', 'BENIGN',\n",
       "       'BENIGN', 'BENIGN', 'BENIGN', 'BENIGN', 'BENIGN', 'BENIGN',\n",
       "       'BENIGN', 'BENIGN', 'BENIGN', 'BENIGN', 'BENIGN', 'BENIGN',\n",
       "       'BENIGN', 'BENIGN', 'BENIGN', 'BENIGN', 'BENIGN', 'BENIGN',\n",
       "       'BENIGN', 'BENIGN', 'BENIGN', 'BENIGN', 'BENIGN', 'BENIGN',\n",
       "       'BENIGN', 'BENIGN', 'BENIGN', 'BENIGN', 'BENIGN', 'BENIGN',\n",
       "       'BENIGN', 'BENIGN', 'BENIGN', 'BENIGN', 'BENIGN', 'BENIGN',\n",
       "       'BENIGN', 'BENIGN', 'BENIGN', 'BENIGN', 'BENIGN', 'BENIGN',\n",
       "       'BENIGN', 'BENIGN', 'BENIGN', 'BENIGN', 'BENIGN', 'BENIGN',\n",
       "       'BENIGN', 'BENIGN', 'BENIGN', 'BENIGN', 'BENIGN', 'BENIGN',\n",
       "       'BENIGN', 'BENIGN', 'BENIGN', 'BENIGN', 'BENIGN', 'BENIGN',\n",
       "       'BENIGN', 'BENIGN', 'BENIGN', 'BENIGN', 'BENIGN', 'BENIGN',\n",
       "       'BENIGN', 'BENIGN', 'BENIGN', 'BENIGN', 'BENIGN', 'BENIGN',\n",
       "       'BENIGN', 'BENIGN', 'BENIGN', 'BENIGN', 'BENIGN', 'BENIGN',\n",
       "       'BENIGN', 'BENIGN', 'BENIGN', 'BENIGN', 'BENIGN', 'BENIGN',\n",
       "       'BENIGN', 'BENIGN', 'BENIGN', 'BENIGN', 'BENIGN', 'BENIGN',\n",
       "       'BENIGN', 'BENIGN', 'BENIGN', 'BENIGN', 'BENIGN', 'BENIGN',\n",
       "       'BENIGN', 'BENIGN', 'BENIGN', 'BENIGN', 'BENIGN', 'BENIGN',\n",
       "       'BENIGN', 'BENIGN', 'BENIGN', 'BENIGN', 'BENIGN', 'BENIGN',\n",
       "       'BENIGN', 'BENIGN', 'BENIGN', 'BENIGN', 'BENIGN', 'BENIGN',\n",
       "       'BENIGN', 'BENIGN', 'BENIGN', 'BENIGN', 'BENIGN', 'BENIGN',\n",
       "       'BENIGN', 'BENIGN', 'BENIGN', 'BENIGN', 'BENIGN', 'BENIGN',\n",
       "       'BENIGN', 'BENIGN', 'BENIGN', 'BENIGN', 'BENIGN', 'BENIGN',\n",
       "       'BENIGN', 'BENIGN', 'BENIGN', 'BENIGN', 'BENIGN', 'BENIGN',\n",
       "       'BENIGN', 'BENIGN', 'BENIGN', 'BENIGN', 'BENIGN', 'BENIGN',\n",
       "       'BENIGN', 'BENIGN', 'BENIGN', 'BENIGN', 'BENIGN', 'BENIGN',\n",
       "       'BENIGN', 'BENIGN', 'BENIGN', 'BENIGN', 'BENIGN', 'BENIGN',\n",
       "       'BENIGN', 'BENIGN', 'BENIGN', 'BENIGN', 'BENIGN', 'BENIGN',\n",
       "       'BENIGN', 'BENIGN', 'BENIGN', 'BENIGN', 'BENIGN', 'BENIGN',\n",
       "       'BENIGN', 'BENIGN', 'BENIGN', 'BENIGN', 'BENIGN', 'BENIGN',\n",
       "       'BENIGN', 'BENIGN', 'BENIGN', 'BENIGN', 'BENIGN', 'BENIGN',\n",
       "       'BENIGN', 'BENIGN', 'BENIGN', 'BENIGN', 'BENIGN', 'BENIGN',\n",
       "       'BENIGN', 'BENIGN', 'BENIGN', 'BENIGN', 'BENIGN', 'BENIGN',\n",
       "       'BENIGN', 'BENIGN', 'BENIGN', 'BENIGN', 'BENIGN', 'BENIGN',\n",
       "       'BENIGN', 'BENIGN', 'BENIGN', 'BENIGN', 'BENIGN', 'BENIGN',\n",
       "       'BENIGN', 'BENIGN', 'BENIGN', 'BENIGN', 'BENIGN', 'BENIGN',\n",
       "       'BENIGN', 'BENIGN', 'BENIGN', 'BENIGN', 'BENIGN', 'BENIGN',\n",
       "       'BENIGN', 'BENIGN', 'BENIGN', 'BENIGN', 'BENIGN', 'BENIGN',\n",
       "       'BENIGN', 'BENIGN', 'BENIGN', 'BENIGN', 'BENIGN', 'BENIGN',\n",
       "       'BENIGN', 'BENIGN', 'BENIGN', 'BENIGN', 'BENIGN', 'BENIGN',\n",
       "       'BENIGN', 'BENIGN', 'BENIGN', 'BENIGN', 'BENIGN', 'BENIGN',\n",
       "       'BENIGN', 'BENIGN', 'BENIGN', 'BENIGN', 'BENIGN', 'BENIGN',\n",
       "       'BENIGN', 'BENIGN', 'BENIGN', 'BENIGN', 'BENIGN', 'BENIGN',\n",
       "       'BENIGN', 'BENIGN', 'BENIGN', 'BENIGN', 'BENIGN', 'BENIGN',\n",
       "       'BENIGN', 'BENIGN', 'BENIGN', 'BENIGN', 'BENIGN', 'BENIGN',\n",
       "       'BENIGN', 'BENIGN', 'BENIGN', 'BENIGN', 'BENIGN', 'BENIGN',\n",
       "       'BENIGN', 'BENIGN', 'BENIGN', 'BENIGN', 'BENIGN', 'BENIGN',\n",
       "       'BENIGN', 'BENIGN', 'BENIGN', 'BENIGN', 'BENIGN', 'BENIGN',\n",
       "       'BENIGN', 'BENIGN', 'BENIGN', 'BENIGN', 'BENIGN', 'BENIGN',\n",
       "       'BENIGN', 'BENIGN', 'PortScan', 'BENIGN', 'BENIGN', 'BENIGN',\n",
       "       'BENIGN', 'BENIGN', 'BENIGN', 'BENIGN', 'BENIGN', 'BENIGN',\n",
       "       'BENIGN', 'BENIGN', 'BENIGN', 'BENIGN', 'BENIGN', 'BENIGN',\n",
       "       'BENIGN', 'BENIGN', 'BENIGN', 'BENIGN', 'BENIGN', 'BENIGN',\n",
       "       'BENIGN', 'BENIGN', 'BENIGN', 'BENIGN', 'BENIGN', 'BENIGN',\n",
       "       'BENIGN', 'BENIGN', 'BENIGN', 'BENIGN', 'BENIGN', 'BENIGN',\n",
       "       'BENIGN', 'BENIGN', 'BENIGN', 'BENIGN', 'BENIGN', 'BENIGN',\n",
       "       'BENIGN', 'BENIGN', 'BENIGN', 'BENIGN', 'BENIGN', 'BENIGN',\n",
       "       'BENIGN', 'BENIGN', 'BENIGN', 'BENIGN', 'BENIGN', 'BENIGN',\n",
       "       'BENIGN', 'BENIGN', 'BENIGN', 'BENIGN', 'BENIGN', 'BENIGN',\n",
       "       'BENIGN'], dtype=object)"
      ]
     },
     "execution_count": 88,
     "metadata": {},
     "output_type": "execute_result"
    }
   ],
   "source": [
    "Y_pred"
   ]
  },
  {
   "cell_type": "code",
   "execution_count": 89,
   "metadata": {
    "colab": {
     "base_uri": "https://localhost:8080/"
    },
    "id": "Z4auKVBJx4ix",
    "outputId": "4c029885-45f1-4c24-822b-d66fb964f606"
   },
   "outputs": [
    {
     "data": {
      "text/plain": [
       "0      BENIGN\n",
       "1      BENIGN\n",
       "2      BENIGN\n",
       "3      BENIGN\n",
       "4      BENIGN\n",
       "        ...  \n",
       "428    BENIGN\n",
       "429    BENIGN\n",
       "430    BENIGN\n",
       "431    BENIGN\n",
       "432    BENIGN\n",
       "Name: Label, Length: 433, dtype: object"
      ]
     },
     "execution_count": 89,
     "metadata": {},
     "output_type": "execute_result"
    }
   ],
   "source": [
    "y"
   ]
  },
  {
   "cell_type": "markdown",
   "metadata": {
    "id": "Wn0FsinYy537"
   },
   "source": [
    "###### **6.2.1 Make predictions**"
   ]
  },
  {
   "cell_type": "code",
   "execution_count": 90,
   "metadata": {
    "colab": {
     "base_uri": "https://localhost:8080/"
    },
    "id": "1BE29gSqx51G",
    "outputId": "8c63d554-c05f-435a-e37a-4ee3ca2efcf9"
   },
   "outputs": [
    {
     "name": "stdout",
     "output_type": "stream",
     "text": [
      "Confidence (%): 97.22863741339492\n",
      "\n"
     ]
    }
   ],
   "source": [
    "confidence = metrics.accuracy_score(y, Y_pred)\n",
    "print(\"Confidence (%):\", confidence*100) \n",
    "print()"
   ]
  },
  {
   "cell_type": "markdown",
   "metadata": {
    "id": "aneNrznezAo8"
   },
   "source": [
    "###### **6.2.2 Check confidence against threshhold & Alert human if 'low confidence'**"
   ]
  },
  {
   "cell_type": "code",
   "execution_count": 91,
   "metadata": {
    "colab": {
     "base_uri": "https://localhost:8080/"
    },
    "id": "P2WIlugdx_rS",
    "outputId": "16255989-97c3-478a-9887-b6b3bc6619d9"
   },
   "outputs": [
    {
     "name": "stdout",
     "output_type": "stream",
     "text": [
      "Alert human\n"
     ]
    }
   ],
   "source": [
    "#Set Confidence Threshold = 100%\n",
    "Confidence_Threshold = 100\n",
    "\n",
    "if(confidence < Confidence_Threshold):\n",
    "    print('Alert human')"
   ]
  },
  {
   "cell_type": "markdown",
   "metadata": {
    "id": "kNrUb4-pzPdd"
   },
   "source": [
    "###### **6.2.3 Print misclassified attacks**"
   ]
  },
  {
   "cell_type": "code",
   "execution_count": 92,
   "metadata": {
    "id": "p4JrfOZiyBkf"
   },
   "outputs": [],
   "source": [
    "#Print items not correctly classified\n",
    "import pandas as pd \n",
    "# intialise data of lists. \n",
    "data = {'AttackId':x['AttackId'], 'Actual':y, 'Predicted':Y_pred} \n",
    "  \n",
    "# Create DataFrame \n",
    "df = pd.DataFrame(data) "
   ]
  },
  {
   "cell_type": "code",
   "execution_count": 93,
   "metadata": {
    "colab": {
     "base_uri": "https://localhost:8080/"
    },
    "id": "UwuuuT57yDs8",
    "outputId": "0191c8dc-67d9-47b9-d454-114d9f34606c"
   },
   "outputs": [
    {
     "data": {
      "text/html": [
       "<div>\n",
       "<style scoped>\n",
       "    .dataframe tbody tr th:only-of-type {\n",
       "        vertical-align: middle;\n",
       "    }\n",
       "\n",
       "    .dataframe tbody tr th {\n",
       "        vertical-align: top;\n",
       "    }\n",
       "\n",
       "    .dataframe thead th {\n",
       "        text-align: right;\n",
       "    }\n",
       "</style>\n",
       "<table border=\"1\" class=\"dataframe\">\n",
       "  <thead>\n",
       "    <tr style=\"text-align: right;\">\n",
       "      <th></th>\n",
       "      <th>AttackId</th>\n",
       "      <th>Actual</th>\n",
       "      <th>Predicted</th>\n",
       "    </tr>\n",
       "  </thead>\n",
       "  <tbody>\n",
       "    <tr>\n",
       "      <th>17</th>\n",
       "      <td>614584</td>\n",
       "      <td>BENIGN</td>\n",
       "      <td>PortScan</td>\n",
       "    </tr>\n",
       "    <tr>\n",
       "      <th>42</th>\n",
       "      <td>614609</td>\n",
       "      <td>BENIGN</td>\n",
       "      <td>PortScan</td>\n",
       "    </tr>\n",
       "    <tr>\n",
       "      <th>45</th>\n",
       "      <td>614612</td>\n",
       "      <td>BENIGN</td>\n",
       "      <td>PortScan</td>\n",
       "    </tr>\n",
       "    <tr>\n",
       "      <th>49</th>\n",
       "      <td>614616</td>\n",
       "      <td>BENIGN</td>\n",
       "      <td>PortScan</td>\n",
       "    </tr>\n",
       "    <tr>\n",
       "      <th>198</th>\n",
       "      <td>614765</td>\n",
       "      <td>Bot</td>\n",
       "      <td>BENIGN</td>\n",
       "    </tr>\n",
       "    <tr>\n",
       "      <th>199</th>\n",
       "      <td>614766</td>\n",
       "      <td>Bot</td>\n",
       "      <td>BENIGN</td>\n",
       "    </tr>\n",
       "    <tr>\n",
       "      <th>203</th>\n",
       "      <td>614770</td>\n",
       "      <td>Bot</td>\n",
       "      <td>BENIGN</td>\n",
       "    </tr>\n",
       "    <tr>\n",
       "      <th>204</th>\n",
       "      <td>614771</td>\n",
       "      <td>Bot</td>\n",
       "      <td>BENIGN</td>\n",
       "    </tr>\n",
       "    <tr>\n",
       "      <th>206</th>\n",
       "      <td>614773</td>\n",
       "      <td>Bot</td>\n",
       "      <td>BENIGN</td>\n",
       "    </tr>\n",
       "    <tr>\n",
       "      <th>226</th>\n",
       "      <td>614793</td>\n",
       "      <td>Bot</td>\n",
       "      <td>BENIGN</td>\n",
       "    </tr>\n",
       "    <tr>\n",
       "      <th>237</th>\n",
       "      <td>614804</td>\n",
       "      <td>Bot</td>\n",
       "      <td>BENIGN</td>\n",
       "    </tr>\n",
       "    <tr>\n",
       "      <th>374</th>\n",
       "      <td>614941</td>\n",
       "      <td>BENIGN</td>\n",
       "      <td>PortScan</td>\n",
       "    </tr>\n",
       "  </tbody>\n",
       "</table>\n",
       "</div>"
      ],
      "text/plain": [
       "     AttackId  Actual Predicted\n",
       "17     614584  BENIGN  PortScan\n",
       "42     614609  BENIGN  PortScan\n",
       "45     614612  BENIGN  PortScan\n",
       "49     614616  BENIGN  PortScan\n",
       "198    614765     Bot    BENIGN\n",
       "199    614766     Bot    BENIGN\n",
       "203    614770     Bot    BENIGN\n",
       "204    614771     Bot    BENIGN\n",
       "206    614773     Bot    BENIGN\n",
       "226    614793     Bot    BENIGN\n",
       "237    614804     Bot    BENIGN\n",
       "374    614941  BENIGN  PortScan"
      ]
     },
     "execution_count": 93,
     "metadata": {},
     "output_type": "execute_result"
    }
   ],
   "source": [
    "not_classified_attacks = df[df['Actual']!=df['Predicted']]\n",
    "not_classified_attacks"
   ]
  },
  {
   "cell_type": "markdown",
   "metadata": {
    "id": "1FBUEblXzUHC"
   },
   "source": [
    "###### **6.2.4 Assist human to find similar attacks (Fidning nearest neighbouring using 'Euclidean' distance metric)**"
   ]
  },
  {
   "cell_type": "code",
   "execution_count": 94,
   "metadata": {
    "id": "bbpXszyhyETh"
   },
   "outputs": [],
   "source": [
    "import math \n",
    "#function calculates distance start\n",
    "def euclidean_distnce(data, p1, p2):\n",
    "    common_item = {}\n",
    "    \n",
    "    for item in data[p1]:\n",
    "        if item in data[p2]:\n",
    "            common_item[item] = True\n",
    "\n",
    "    if len(common_item) == 0: return 0\n",
    "\n",
    "    #calculate Euclidean distance\n",
    "    #√((x1-x2)^2 + (y1-y2)^2)\n",
    "    \n",
    "    distance = sum([math.pow(data[p1][itm] - data[p2][itm], 2) for itm in common_item.keys()])\n",
    "    distance = math.sqrt(distance)\n",
    "    #return result\n",
    "    \n",
    "    return 1/(distance + 1)\n",
    "\n",
    "def calculateSimilarItems(data, attackId, n):   \n",
    "    result = {}\n",
    "    data_reverse = data \n",
    "    \n",
    "    item = attackId\n",
    "    \n",
    "    #finding distance score of all other items with respect to current item\n",
    "    \n",
    "    similarities = [(euclidean_distnce(data_reverse, item, other), other) for other in data_reverse.keys() if item == attackId] \n",
    "    similarities.sort()   \n",
    "    result[item] = similarities[0:n]   \n",
    "    return result"
   ]
  },
  {
   "cell_type": "code",
   "execution_count": 95,
   "metadata": {
    "id": "kNB1RFq_yIpi"
   },
   "outputs": [],
   "source": [
    "attack = not_classified_attacks.iloc[0]\n",
    "\n",
    "#read encoded insurance data.\n",
    "df = pd.read_csv(r'encoded.csv')\n",
    "\n",
    "del df['Unnamed: 0']"
   ]
  },
  {
   "cell_type": "markdown",
   "metadata": {
    "id": "q7cOS2Juzh_j"
   },
   "source": [
    "###### **6.2.5 Print similar attacks for human agent to review**"
   ]
  },
  {
   "cell_type": "code",
   "execution_count": 96,
   "metadata": {
    "id": "7P8OtUovyLV3"
   },
   "outputs": [],
   "source": [
    "\n",
    "df.set_index(\"AttackId\", drop=True, inplace=True)\n",
    "\n",
    "#format data to find similar claims.\n",
    "dictionary = df.to_dict(orient=\"index\")"
   ]
  },
  {
   "cell_type": "code",
   "execution_count": 97,
   "metadata": {
    "colab": {
     "base_uri": "https://localhost:8080/"
    },
    "id": "bp5EG1CHyOAn",
    "outputId": "0628011d-1f43-4f0d-dbf3-2d75a0734ab9"
   },
   "outputs": [
    {
     "data": {
      "text/html": [
       "<div>\n",
       "<style scoped>\n",
       "    .dataframe tbody tr th:only-of-type {\n",
       "        vertical-align: middle;\n",
       "    }\n",
       "\n",
       "    .dataframe tbody tr th {\n",
       "        vertical-align: top;\n",
       "    }\n",
       "\n",
       "    .dataframe thead th {\n",
       "        text-align: right;\n",
       "    }\n",
       "</style>\n",
       "<table border=\"1\" class=\"dataframe\">\n",
       "  <thead>\n",
       "    <tr style=\"text-align: right;\">\n",
       "      <th></th>\n",
       "      <th>Unnamed: 0</th>\n",
       "      <th>AttackId</th>\n",
       "      <th>Destination Port</th>\n",
       "      <th>Flow Duration</th>\n",
       "      <th>Total Fwd Packets</th>\n",
       "      <th>Total Length of Fwd Packets</th>\n",
       "      <th>Fwd Packet Length Max</th>\n",
       "      <th>Fwd Packet Length Min</th>\n",
       "      <th>Fwd Packet Length Mean</th>\n",
       "      <th>Bwd Packet Length Max</th>\n",
       "      <th>...</th>\n",
       "      <th>Init_Win_bytes_forward</th>\n",
       "      <th>Init_Win_bytes_backward</th>\n",
       "      <th>min_seg_size_forward</th>\n",
       "      <th>Active Mean</th>\n",
       "      <th>Active Std</th>\n",
       "      <th>Active Max</th>\n",
       "      <th>Active Min</th>\n",
       "      <th>Idle Std</th>\n",
       "      <th>Idle Min</th>\n",
       "      <th>Label</th>\n",
       "    </tr>\n",
       "  </thead>\n",
       "  <tbody>\n",
       "    <tr>\n",
       "      <th>614584</th>\n",
       "      <td>614584</td>\n",
       "      <td>614584</td>\n",
       "      <td>53176</td>\n",
       "      <td>11492</td>\n",
       "      <td>4</td>\n",
       "      <td>24</td>\n",
       "      <td>6</td>\n",
       "      <td>6</td>\n",
       "      <td>6.0</td>\n",
       "      <td>0</td>\n",
       "      <td>...</td>\n",
       "      <td>180</td>\n",
       "      <td>-1</td>\n",
       "      <td>20</td>\n",
       "      <td>0.0</td>\n",
       "      <td>0.0</td>\n",
       "      <td>0</td>\n",
       "      <td>0</td>\n",
       "      <td>0.0</td>\n",
       "      <td>0</td>\n",
       "      <td>BENIGN</td>\n",
       "    </tr>\n",
       "  </tbody>\n",
       "</table>\n",
       "<p>1 rows × 45 columns</p>\n",
       "</div>"
      ],
      "text/plain": [
       "        Unnamed: 0  AttackId  Destination Port  Flow Duration  \\\n",
       "614584      614584    614584             53176          11492   \n",
       "\n",
       "        Total Fwd Packets  Total Length of Fwd Packets  Fwd Packet Length Max  \\\n",
       "614584                  4                           24                      6   \n",
       "\n",
       "        Fwd Packet Length Min  Fwd Packet Length Mean  Bwd Packet Length Max  \\\n",
       "614584                      6                     6.0                      0   \n",
       "\n",
       "        ...  Init_Win_bytes_forward  Init_Win_bytes_backward  \\\n",
       "614584  ...                     180                       -1   \n",
       "\n",
       "        min_seg_size_forward  Active Mean  Active Std  Active Max  Active Min  \\\n",
       "614584                    20          0.0         0.0           0           0   \n",
       "\n",
       "        Idle Std  Idle Min   Label  \n",
       "614584       0.0         0  BENIGN  \n",
       "\n",
       "[1 rows x 45 columns]"
      ]
     },
     "execution_count": 97,
     "metadata": {},
     "output_type": "execute_result"
    }
   ],
   "source": [
    "#dictionary\n",
    "##attackId to query.\n",
    "attackId = attack['AttackId']\n",
    "\n",
    "#No.of.similar attacks to query.\n",
    "cnt_similar_claims = 10\n",
    "\n",
    "similar_attacks = calculateSimilarItems(dictionary,attackId,cnt_similar_claims)\n",
    "\n",
    "attacks = similar_attacks.get(attackId)\n",
    "\n",
    "similar_attack_ids=[] \n",
    "for similar_attack in range(len(attacks)):\n",
    "    similar_attack_ids.append(attacks[similar_attack][1])\n",
    "\n",
    "df = all_data[all_data['AttackId'].isin(similar_attack_ids)]\n",
    "\n",
    "attacks = all_data[all_data['AttackId']==attackId]\n",
    "attacks\n",
    "#to replace with real-time data which has to be separated from all_training data."
   ]
  },
  {
   "cell_type": "markdown",
   "metadata": {
    "id": "_dFgtoklzoOB"
   },
   "source": [
    "###### **6.2.6 Human to classify 'low confidence' attack manually**"
   ]
  },
  {
   "cell_type": "code",
   "execution_count": null,
   "metadata": {
    "id": "3XJQbqhVyLVR",
    "outputId": "f22431e1-1de3-4748-8e0f-3d15bab848c3"
   },
   "outputs": [],
   "source": [
    "human_label = input(\"Review network data and classify attack:\") "
   ]
  },
  {
   "cell_type": "code",
   "execution_count": null,
   "metadata": {
    "id": "Ls8xxZ-QyWSt"
   },
   "outputs": [],
   "source": [
    "attacks['Label']=human_label"
   ]
  },
  {
   "cell_type": "code",
   "execution_count": null,
   "metadata": {
    "id": "sAOS74fUyYyB"
   },
   "outputs": [],
   "source": [
    "del attacks['Unnamed: 0']"
   ]
  },
  {
   "cell_type": "code",
   "execution_count": null,
   "metadata": {
    "id": "9lsM3bjnybFi",
    "outputId": "a09e0ae6-b24f-4a63-d8c2-a750323ce044"
   },
   "outputs": [],
   "source": [
    "attacks"
   ]
  },
  {
   "cell_type": "code",
   "execution_count": null,
   "metadata": {
    "id": "pXIlHZPnybmj",
    "outputId": "1c0dd120-6041-4d01-d068-56398b6e4af6"
   },
   "outputs": [],
   "source": [
    "real_time"
   ]
  },
  {
   "cell_type": "markdown",
   "metadata": {
    "id": "iMY9IDYIzuvm"
   },
   "source": [
    "###### **6.2.6 Add classified attack to training data and remove from analysis checklist**"
   ]
  },
  {
   "cell_type": "code",
   "execution_count": null,
   "metadata": {
    "id": "Y7g6yPjfyfY_"
   },
   "outputs": [],
   "source": [
    "all_data.append(attacks)\n",
    "all_data.to_csv(r'clean_data.csv', index = True, header=True)"
   ]
  },
  {
   "cell_type": "code",
   "execution_count": null,
   "metadata": {
    "id": "cbcdsP4WyhVO"
   },
   "outputs": [],
   "source": [
    "test=pd.read_csv('clean_data.csv')"
   ]
  },
  {
   "cell_type": "code",
   "execution_count": null,
   "metadata": {
    "id": "j5JcqCKwyjX4"
   },
   "outputs": [],
   "source": [
    "test = test[test['AttackId']==614765]\n",
    "del test['Unnamed: 0']"
   ]
  },
  {
   "cell_type": "code",
   "execution_count": null,
   "metadata": {
    "id": "PeZFsIM-ylJR",
    "outputId": "7d022be3-932b-499d-9aff-226d8082aeb4",
    "scrolled": true
   },
   "outputs": [],
   "source": [
    "test"
   ]
  },
  {
   "cell_type": "markdown",
   "metadata": {
    "id": "WGk3Xa11-Bdx"
   },
   "source": [
    "### Conclusion/ Workflow\n",
    "\n",
    "> Trained a KNN-based classifier with difference distance metrics and arriving on a single model which performed best in terms of accuracy/ confidence rate and computation/ training time.\n",
    "\n",
    "> Using the trained classifier, trying to classfify unlabeled attacks and alerting 'human' incase of low confidence/ prediction score. \n",
    "\n",
    "> Adding the 'manually' classified labeled data back to the training data for future classification and learning.\n",
    "\n",
    "In a nutshell, trying to use Machine learning with safety(human assistance for critical actions) and transfering this learning back to the classifying model (Active/ Reinforcement learning)."
   ]
  }
 ],
 "metadata": {
  "colab": {
   "collapsed_sections": [
    "X0r7IjuKibOl",
    "CM-ot46niaHN",
    "Yxb3LAiLjLFm",
    "_ewO75U9iaHN",
    "4k0szBCciaHN",
    "TNH45tqJiaHO",
    "xlC8yszriaHO",
    "kglzmVDYiaHO",
    "mXuY3JLjk09c",
    "XySJqf2jiaHP",
    "FU7l0CL_qt8f",
    "QxUs-1_5rHYc",
    "MoQpeR9vrNaZ",
    "xgRjwnuOr7ma",
    "106NreC8s5ft",
    "Hf1bvjHZtqkZ",
    "Wn0FsinYy537",
    "kNrUb4-pzPdd",
    "1FBUEblXzUHC",
    "q7cOS2Juzh_j",
    "_dFgtoklzoOB",
    "iMY9IDYIzuvm"
   ],
   "name": "Intrusion detection & Reinforcement learning with SafeML.ipynb",
   "provenance": []
  },
  "kernelspec": {
   "display_name": "Python 3",
   "language": "python",
   "name": "python3"
  },
  "language_info": {
   "codemirror_mode": {
    "name": "ipython",
    "version": 3
   },
   "file_extension": ".py",
   "mimetype": "text/x-python",
   "name": "python",
   "nbconvert_exporter": "python",
   "pygments_lexer": "ipython3",
   "version": "3.8.3"
  },
  "widgets": {
   "application/vnd.jupyter.widget-state+json": {
    "0c9c18b42d20440dbe8af56eb1d1153b": {
     "model_module": "@jupyter-widgets/controls",
     "model_name": "DescriptionStyleModel",
     "state": {
      "_model_module": "@jupyter-widgets/controls",
      "_model_module_version": "1.5.0",
      "_model_name": "DescriptionStyleModel",
      "_view_count": null,
      "_view_module": "@jupyter-widgets/base",
      "_view_module_version": "1.2.0",
      "_view_name": "StyleView",
      "description_width": ""
     }
    },
    "23644614121a463d88c54e12b921384b": {
     "model_module": "@jupyter-widgets/controls",
     "model_name": "HTMLModel",
     "state": {
      "_dom_classes": [],
      "_model_module": "@jupyter-widgets/controls",
      "_model_module_version": "1.5.0",
      "_model_name": "HTMLModel",
      "_view_count": null,
      "_view_module": "@jupyter-widgets/controls",
      "_view_module_version": "1.5.0",
      "_view_name": "HTMLView",
      "description": "",
      "description_tooltip": null,
      "layout": "IPY_MODEL_5facd39a5dd34ebcaafcfd02c22a1d1c",
      "placeholder": "​",
      "style": "IPY_MODEL_dd700b42250d4c19bb10b14411322781",
      "value": " 79/94 [00:19&lt;00:06,  2.21it/s, Describe variable: Label]"
     }
    },
    "36aa698d34434de3a73dec932999e6c6": {
     "model_module": "@jupyter-widgets/base",
     "model_name": "LayoutModel",
     "state": {
      "_model_module": "@jupyter-widgets/base",
      "_model_module_version": "1.2.0",
      "_model_name": "LayoutModel",
      "_view_count": null,
      "_view_module": "@jupyter-widgets/base",
      "_view_module_version": "1.2.0",
      "_view_name": "LayoutView",
      "align_content": null,
      "align_items": null,
      "align_self": null,
      "border": null,
      "bottom": null,
      "display": null,
      "flex": null,
      "flex_flow": null,
      "grid_area": null,
      "grid_auto_columns": null,
      "grid_auto_flow": null,
      "grid_auto_rows": null,
      "grid_column": null,
      "grid_gap": null,
      "grid_row": null,
      "grid_template_areas": null,
      "grid_template_columns": null,
      "grid_template_rows": null,
      "height": null,
      "justify_content": null,
      "justify_items": null,
      "left": null,
      "margin": null,
      "max_height": null,
      "max_width": null,
      "min_height": null,
      "min_width": null,
      "object_fit": null,
      "object_position": null,
      "order": null,
      "overflow": null,
      "overflow_x": null,
      "overflow_y": null,
      "padding": null,
      "right": null,
      "top": null,
      "visibility": null,
      "width": null
     }
    },
    "4723ef8e99524e18bae1004bad05a7d5": {
     "model_module": "@jupyter-widgets/controls",
     "model_name": "HTMLModel",
     "state": {
      "_dom_classes": [],
      "_model_module": "@jupyter-widgets/controls",
      "_model_module_version": "1.5.0",
      "_model_name": "HTMLModel",
      "_view_count": null,
      "_view_module": "@jupyter-widgets/controls",
      "_view_module_version": "1.5.0",
      "_view_name": "HTMLView",
      "description": "",
      "description_tooltip": null,
      "layout": "IPY_MODEL_f02179815e2b411c829a999af7d09230",
      "placeholder": "​",
      "style": "IPY_MODEL_0c9c18b42d20440dbe8af56eb1d1153b",
      "value": "Summarize dataset:  84%"
     }
    },
    "5facd39a5dd34ebcaafcfd02c22a1d1c": {
     "model_module": "@jupyter-widgets/base",
     "model_name": "LayoutModel",
     "state": {
      "_model_module": "@jupyter-widgets/base",
      "_model_module_version": "1.2.0",
      "_model_name": "LayoutModel",
      "_view_count": null,
      "_view_module": "@jupyter-widgets/base",
      "_view_module_version": "1.2.0",
      "_view_name": "LayoutView",
      "align_content": null,
      "align_items": null,
      "align_self": null,
      "border": null,
      "bottom": null,
      "display": null,
      "flex": null,
      "flex_flow": null,
      "grid_area": null,
      "grid_auto_columns": null,
      "grid_auto_flow": null,
      "grid_auto_rows": null,
      "grid_column": null,
      "grid_gap": null,
      "grid_row": null,
      "grid_template_areas": null,
      "grid_template_columns": null,
      "grid_template_rows": null,
      "height": null,
      "justify_content": null,
      "justify_items": null,
      "left": null,
      "margin": null,
      "max_height": null,
      "max_width": null,
      "min_height": null,
      "min_width": null,
      "object_fit": null,
      "object_position": null,
      "order": null,
      "overflow": null,
      "overflow_x": null,
      "overflow_y": null,
      "padding": null,
      "right": null,
      "top": null,
      "visibility": null,
      "width": null
     }
    },
    "8bf482abaeae4adca372835d765e292b": {
     "model_module": "@jupyter-widgets/controls",
     "model_name": "ProgressStyleModel",
     "state": {
      "_model_module": "@jupyter-widgets/controls",
      "_model_module_version": "1.5.0",
      "_model_name": "ProgressStyleModel",
      "_view_count": null,
      "_view_module": "@jupyter-widgets/base",
      "_view_module_version": "1.2.0",
      "_view_name": "StyleView",
      "bar_color": null,
      "description_width": ""
     }
    },
    "a46c97bb64434c9d8422d41f7e1f124c": {
     "model_module": "@jupyter-widgets/base",
     "model_name": "LayoutModel",
     "state": {
      "_model_module": "@jupyter-widgets/base",
      "_model_module_version": "1.2.0",
      "_model_name": "LayoutModel",
      "_view_count": null,
      "_view_module": "@jupyter-widgets/base",
      "_view_module_version": "1.2.0",
      "_view_name": "LayoutView",
      "align_content": null,
      "align_items": null,
      "align_self": null,
      "border": null,
      "bottom": null,
      "display": null,
      "flex": null,
      "flex_flow": null,
      "grid_area": null,
      "grid_auto_columns": null,
      "grid_auto_flow": null,
      "grid_auto_rows": null,
      "grid_column": null,
      "grid_gap": null,
      "grid_row": null,
      "grid_template_areas": null,
      "grid_template_columns": null,
      "grid_template_rows": null,
      "height": null,
      "justify_content": null,
      "justify_items": null,
      "left": null,
      "margin": null,
      "max_height": null,
      "max_width": null,
      "min_height": null,
      "min_width": null,
      "object_fit": null,
      "object_position": null,
      "order": null,
      "overflow": null,
      "overflow_x": null,
      "overflow_y": null,
      "padding": null,
      "right": null,
      "top": null,
      "visibility": null,
      "width": null
     }
    },
    "d3f0473683e0473bae714247c0cede92": {
     "model_module": "@jupyter-widgets/controls",
     "model_name": "FloatProgressModel",
     "state": {
      "_dom_classes": [],
      "_model_module": "@jupyter-widgets/controls",
      "_model_module_version": "1.5.0",
      "_model_name": "FloatProgressModel",
      "_view_count": null,
      "_view_module": "@jupyter-widgets/controls",
      "_view_module_version": "1.5.0",
      "_view_name": "ProgressView",
      "bar_style": "",
      "description": "",
      "description_tooltip": null,
      "layout": "IPY_MODEL_a46c97bb64434c9d8422d41f7e1f124c",
      "max": 94,
      "min": 0,
      "orientation": "horizontal",
      "style": "IPY_MODEL_8bf482abaeae4adca372835d765e292b",
      "value": 79
     }
    },
    "dd700b42250d4c19bb10b14411322781": {
     "model_module": "@jupyter-widgets/controls",
     "model_name": "DescriptionStyleModel",
     "state": {
      "_model_module": "@jupyter-widgets/controls",
      "_model_module_version": "1.5.0",
      "_model_name": "DescriptionStyleModel",
      "_view_count": null,
      "_view_module": "@jupyter-widgets/base",
      "_view_module_version": "1.2.0",
      "_view_name": "StyleView",
      "description_width": ""
     }
    },
    "edefd8b7c39d472c89c1880f0e06f975": {
     "model_module": "@jupyter-widgets/controls",
     "model_name": "HBoxModel",
     "state": {
      "_dom_classes": [],
      "_model_module": "@jupyter-widgets/controls",
      "_model_module_version": "1.5.0",
      "_model_name": "HBoxModel",
      "_view_count": null,
      "_view_module": "@jupyter-widgets/controls",
      "_view_module_version": "1.5.0",
      "_view_name": "HBoxView",
      "box_style": "",
      "children": [
       "IPY_MODEL_4723ef8e99524e18bae1004bad05a7d5",
       "IPY_MODEL_d3f0473683e0473bae714247c0cede92",
       "IPY_MODEL_23644614121a463d88c54e12b921384b"
      ],
      "layout": "IPY_MODEL_36aa698d34434de3a73dec932999e6c6"
     }
    },
    "f02179815e2b411c829a999af7d09230": {
     "model_module": "@jupyter-widgets/base",
     "model_name": "LayoutModel",
     "state": {
      "_model_module": "@jupyter-widgets/base",
      "_model_module_version": "1.2.0",
      "_model_name": "LayoutModel",
      "_view_count": null,
      "_view_module": "@jupyter-widgets/base",
      "_view_module_version": "1.2.0",
      "_view_name": "LayoutView",
      "align_content": null,
      "align_items": null,
      "align_self": null,
      "border": null,
      "bottom": null,
      "display": null,
      "flex": null,
      "flex_flow": null,
      "grid_area": null,
      "grid_auto_columns": null,
      "grid_auto_flow": null,
      "grid_auto_rows": null,
      "grid_column": null,
      "grid_gap": null,
      "grid_row": null,
      "grid_template_areas": null,
      "grid_template_columns": null,
      "grid_template_rows": null,
      "height": null,
      "justify_content": null,
      "justify_items": null,
      "left": null,
      "margin": null,
      "max_height": null,
      "max_width": null,
      "min_height": null,
      "min_width": null,
      "object_fit": null,
      "object_position": null,
      "order": null,
      "overflow": null,
      "overflow_x": null,
      "overflow_y": null,
      "padding": null,
      "right": null,
      "top": null,
      "visibility": null,
      "width": null
     }
    }
   }
  }
 },
 "nbformat": 4,
 "nbformat_minor": 1
}
