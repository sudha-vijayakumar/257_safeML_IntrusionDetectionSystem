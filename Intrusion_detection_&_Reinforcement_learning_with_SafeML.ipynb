{
 "cells": [
  {
   "cell_type": "markdown",
   "metadata": {
    "id": "X0r7IjuKibOl"
   },
   "source": [
    "### STEP-1: Import Libraries"
   ]
  },
  {
   "cell_type": "code",
   "execution_count": 3,
   "metadata": {
    "id": "HEEAOqVGibep"
   },
   "outputs": [],
   "source": [
    "import numpy as np \n",
    "import pandas as pd \n",
    "\n",
    "import time\n",
    "\n",
    "from sklearn.model_selection import train_test_split\n",
    "from sklearn.neighbors import KNeighborsClassifier\n",
    "from sklearn import metrics\n",
    "from sklearn import preprocessing\n",
    "\n",
    "import joblib\n",
    "from sklearn.preprocessing import MaxAbsScaler\n",
    "\n",
    "import warnings\n",
    "warnings.filterwarnings(\"ignore\")"
   ]
  },
  {
   "cell_type": "markdown",
   "metadata": {
    "id": "CM-ot46niaHN"
   },
   "source": [
    "### STEP-2: EDA"
   ]
  },
  {
   "cell_type": "markdown",
   "metadata": {
    "id": "Yxb3LAiLjLFm"
   },
   "source": [
    "#### **2.1 Upload Data**"
   ]
  },
  {
   "cell_type": "code",
   "execution_count": 4,
   "metadata": {
    "colab": {
     "base_uri": "https://localhost:8080/",
     "height": 55,
     "resources": {
      "http://localhost:8080/nbextensions/google.colab/files.js": {
       "data": "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",
       "headers": [
        [
         "content-type",
         "application/javascript"
        ]
       ],
       "ok": true,
       "status": 200,
       "status_text": ""
      }
     }
    },
    "id": "SizBYNK-jKU1",
    "outputId": "d7013a61-88e9-4d48-9564-140b7cdf94f2"
   },
   "outputs": [],
   "source": [
    "# from google.colab import files #upload friday working hours files - count 3\n",
    "# files.upload()"
   ]
  },
  {
   "cell_type": "markdown",
   "metadata": {
    "id": "_ewO75U9iaHN"
   },
   "source": [
    "#### **2.2 Load Data**"
   ]
  },
  {
   "cell_type": "code",
   "execution_count": 5,
   "metadata": {
    "colab": {
     "base_uri": "https://localhost:8080/"
    },
    "id": "Li99KUALiaHN",
    "outputId": "d3e5aac7-ce62-454e-bf61-11570940e398"
   },
   "outputs": [
    {
     "name": "stdout",
     "output_type": "stream",
     "text": [
      "Data: 703245 rows 79 columns\n"
     ]
    }
   ],
   "source": [
    "df1 = pd.read_csv(\"CICIDS2017/Friday-WorkingHours-Afternoon-DDos.pcap_ISCX.csv\")\n",
    "df2=pd.read_csv(\"CICIDS2017/Friday-WorkingHours-Afternoon-PortScan.pcap_ISCX.csv\")\n",
    "df3=pd.read_csv(\"CICIDS2017/Friday-WorkingHours-Morning.pcap_ISCX.csv\")\n",
    "\n",
    "#append data\n",
    "nRowsRead = None\n",
    "df = pd.concat([df1,df2])\n",
    "del df1,df2\n",
    "df = pd.concat([df,df3])\n",
    "del df3\n",
    "nRow, nCol = df.shape\n",
    "print(f'Data: {nRow} rows {nCol} columns')"
   ]
  },
  {
   "cell_type": "markdown",
   "metadata": {
    "id": "4k0szBCciaHN"
   },
   "source": [
    "#### **2.3 View data**"
   ]
  },
  {
   "cell_type": "code",
   "execution_count": 6,
   "metadata": {
    "colab": {
     "base_uri": "https://localhost:8080/",
     "height": 275
    },
    "id": "2GdZfKnDiaHO",
    "outputId": "c117ea8a-0d4d-4c5d-893a-a71d76e0fc7b"
   },
   "outputs": [
    {
     "data": {
      "text/html": [
       "<div>\n",
       "<style scoped>\n",
       "    .dataframe tbody tr th:only-of-type {\n",
       "        vertical-align: middle;\n",
       "    }\n",
       "\n",
       "    .dataframe tbody tr th {\n",
       "        vertical-align: top;\n",
       "    }\n",
       "\n",
       "    .dataframe thead th {\n",
       "        text-align: right;\n",
       "    }\n",
       "</style>\n",
       "<table border=\"1\" class=\"dataframe\">\n",
       "  <thead>\n",
       "    <tr style=\"text-align: right;\">\n",
       "      <th></th>\n",
       "      <th>Destination Port</th>\n",
       "      <th>Flow Duration</th>\n",
       "      <th>Total Fwd Packets</th>\n",
       "      <th>Total Backward Packets</th>\n",
       "      <th>Total Length of Fwd Packets</th>\n",
       "      <th>Total Length of Bwd Packets</th>\n",
       "      <th>Fwd Packet Length Max</th>\n",
       "      <th>Fwd Packet Length Min</th>\n",
       "      <th>Fwd Packet Length Mean</th>\n",
       "      <th>Fwd Packet Length Std</th>\n",
       "      <th>...</th>\n",
       "      <th>min_seg_size_forward</th>\n",
       "      <th>Active Mean</th>\n",
       "      <th>Active Std</th>\n",
       "      <th>Active Max</th>\n",
       "      <th>Active Min</th>\n",
       "      <th>Idle Mean</th>\n",
       "      <th>Idle Std</th>\n",
       "      <th>Idle Max</th>\n",
       "      <th>Idle Min</th>\n",
       "      <th>Label</th>\n",
       "    </tr>\n",
       "  </thead>\n",
       "  <tbody>\n",
       "    <tr>\n",
       "      <th>0</th>\n",
       "      <td>54865</td>\n",
       "      <td>3</td>\n",
       "      <td>2</td>\n",
       "      <td>0</td>\n",
       "      <td>12</td>\n",
       "      <td>0</td>\n",
       "      <td>6</td>\n",
       "      <td>6</td>\n",
       "      <td>6.0</td>\n",
       "      <td>0.0</td>\n",
       "      <td>...</td>\n",
       "      <td>20</td>\n",
       "      <td>0.0</td>\n",
       "      <td>0.0</td>\n",
       "      <td>0</td>\n",
       "      <td>0</td>\n",
       "      <td>0.0</td>\n",
       "      <td>0.0</td>\n",
       "      <td>0</td>\n",
       "      <td>0</td>\n",
       "      <td>BENIGN</td>\n",
       "    </tr>\n",
       "    <tr>\n",
       "      <th>1</th>\n",
       "      <td>55054</td>\n",
       "      <td>109</td>\n",
       "      <td>1</td>\n",
       "      <td>1</td>\n",
       "      <td>6</td>\n",
       "      <td>6</td>\n",
       "      <td>6</td>\n",
       "      <td>6</td>\n",
       "      <td>6.0</td>\n",
       "      <td>0.0</td>\n",
       "      <td>...</td>\n",
       "      <td>20</td>\n",
       "      <td>0.0</td>\n",
       "      <td>0.0</td>\n",
       "      <td>0</td>\n",
       "      <td>0</td>\n",
       "      <td>0.0</td>\n",
       "      <td>0.0</td>\n",
       "      <td>0</td>\n",
       "      <td>0</td>\n",
       "      <td>BENIGN</td>\n",
       "    </tr>\n",
       "    <tr>\n",
       "      <th>2</th>\n",
       "      <td>55055</td>\n",
       "      <td>52</td>\n",
       "      <td>1</td>\n",
       "      <td>1</td>\n",
       "      <td>6</td>\n",
       "      <td>6</td>\n",
       "      <td>6</td>\n",
       "      <td>6</td>\n",
       "      <td>6.0</td>\n",
       "      <td>0.0</td>\n",
       "      <td>...</td>\n",
       "      <td>20</td>\n",
       "      <td>0.0</td>\n",
       "      <td>0.0</td>\n",
       "      <td>0</td>\n",
       "      <td>0</td>\n",
       "      <td>0.0</td>\n",
       "      <td>0.0</td>\n",
       "      <td>0</td>\n",
       "      <td>0</td>\n",
       "      <td>BENIGN</td>\n",
       "    </tr>\n",
       "    <tr>\n",
       "      <th>3</th>\n",
       "      <td>46236</td>\n",
       "      <td>34</td>\n",
       "      <td>1</td>\n",
       "      <td>1</td>\n",
       "      <td>6</td>\n",
       "      <td>6</td>\n",
       "      <td>6</td>\n",
       "      <td>6</td>\n",
       "      <td>6.0</td>\n",
       "      <td>0.0</td>\n",
       "      <td>...</td>\n",
       "      <td>20</td>\n",
       "      <td>0.0</td>\n",
       "      <td>0.0</td>\n",
       "      <td>0</td>\n",
       "      <td>0</td>\n",
       "      <td>0.0</td>\n",
       "      <td>0.0</td>\n",
       "      <td>0</td>\n",
       "      <td>0</td>\n",
       "      <td>BENIGN</td>\n",
       "    </tr>\n",
       "    <tr>\n",
       "      <th>4</th>\n",
       "      <td>54863</td>\n",
       "      <td>3</td>\n",
       "      <td>2</td>\n",
       "      <td>0</td>\n",
       "      <td>12</td>\n",
       "      <td>0</td>\n",
       "      <td>6</td>\n",
       "      <td>6</td>\n",
       "      <td>6.0</td>\n",
       "      <td>0.0</td>\n",
       "      <td>...</td>\n",
       "      <td>20</td>\n",
       "      <td>0.0</td>\n",
       "      <td>0.0</td>\n",
       "      <td>0</td>\n",
       "      <td>0</td>\n",
       "      <td>0.0</td>\n",
       "      <td>0.0</td>\n",
       "      <td>0</td>\n",
       "      <td>0</td>\n",
       "      <td>BENIGN</td>\n",
       "    </tr>\n",
       "  </tbody>\n",
       "</table>\n",
       "<p>5 rows × 79 columns</p>\n",
       "</div>"
      ],
      "text/plain": [
       "    Destination Port   Flow Duration   Total Fwd Packets  \\\n",
       "0              54865               3                   2   \n",
       "1              55054             109                   1   \n",
       "2              55055              52                   1   \n",
       "3              46236              34                   1   \n",
       "4              54863               3                   2   \n",
       "\n",
       "    Total Backward Packets  Total Length of Fwd Packets  \\\n",
       "0                        0                           12   \n",
       "1                        1                            6   \n",
       "2                        1                            6   \n",
       "3                        1                            6   \n",
       "4                        0                           12   \n",
       "\n",
       "    Total Length of Bwd Packets   Fwd Packet Length Max  \\\n",
       "0                             0                       6   \n",
       "1                             6                       6   \n",
       "2                             6                       6   \n",
       "3                             6                       6   \n",
       "4                             0                       6   \n",
       "\n",
       "    Fwd Packet Length Min   Fwd Packet Length Mean   Fwd Packet Length Std  \\\n",
       "0                       6                      6.0                     0.0   \n",
       "1                       6                      6.0                     0.0   \n",
       "2                       6                      6.0                     0.0   \n",
       "3                       6                      6.0                     0.0   \n",
       "4                       6                      6.0                     0.0   \n",
       "\n",
       "   ...   min_seg_size_forward  Active Mean   Active Std   Active Max  \\\n",
       "0  ...                     20          0.0          0.0            0   \n",
       "1  ...                     20          0.0          0.0            0   \n",
       "2  ...                     20          0.0          0.0            0   \n",
       "3  ...                     20          0.0          0.0            0   \n",
       "4  ...                     20          0.0          0.0            0   \n",
       "\n",
       "    Active Min  Idle Mean   Idle Std   Idle Max   Idle Min   Label  \n",
       "0            0        0.0        0.0          0          0  BENIGN  \n",
       "1            0        0.0        0.0          0          0  BENIGN  \n",
       "2            0        0.0        0.0          0          0  BENIGN  \n",
       "3            0        0.0        0.0          0          0  BENIGN  \n",
       "4            0        0.0        0.0          0          0  BENIGN  \n",
       "\n",
       "[5 rows x 79 columns]"
      ]
     },
     "execution_count": 6,
     "metadata": {},
     "output_type": "execute_result"
    }
   ],
   "source": [
    "df.head()"
   ]
  },
  {
   "cell_type": "markdown",
   "metadata": {
    "id": "TNH45tqJiaHO"
   },
   "source": [
    "#### **2.4 View type of attacks**"
   ]
  },
  {
   "cell_type": "code",
   "execution_count": 7,
   "metadata": {
    "colab": {
     "base_uri": "https://localhost:8080/"
    },
    "id": "OAXbznuuiaHO",
    "outputId": "f1fced8a-e8e5-4543-d3d0-f26bfcf930f2"
   },
   "outputs": [
    {
     "data": {
      "text/plain": [
       "BENIGN      414322\n",
       "PortScan    158930\n",
       "DDoS        128027\n",
       "Bot           1966\n",
       "Name:  Label, dtype: int64"
      ]
     },
     "execution_count": 7,
     "metadata": {},
     "output_type": "execute_result"
    }
   ],
   "source": [
    "df[' Label'].value_counts()"
   ]
  },
  {
   "cell_type": "markdown",
   "metadata": {
    "id": "xlC8yszriaHO"
   },
   "source": [
    "### STEP-3: Preprocessing"
   ]
  },
  {
   "cell_type": "markdown",
   "metadata": {
    "id": "_xVE7FJbkaFB"
   },
   "source": [
    "#### **3.1 Remove special characters & drop features with low correlation***"
   ]
  },
  {
   "cell_type": "code",
   "execution_count": 8,
   "metadata": {
    "colab": {
     "base_uri": "https://localhost:8080/"
    },
    "id": "Lo5hXI2FiaHO",
    "outputId": "1af16092-054d-4c13-b87d-9ad2d2f3dcb4"
   },
   "outputs": [
    {
     "data": {
      "text/plain": [
       "(615433, 43)"
      ]
     },
     "execution_count": 8,
     "metadata": {},
     "output_type": "execute_result"
    }
   ],
   "source": [
    "integer = []\n",
    "f = []\n",
    "for i in df.columns[:-1]:\n",
    "    if df[i].dtype == \"int64\": integer.append(i)\n",
    "    else : f.append(i)\n",
    "\n",
    "df[integer] = df[integer].astype(\"int32\")\n",
    "df[f] = df[f].astype(\"float32\")\n",
    "\n",
    "one_variable_list = []\n",
    "for i in df.columns:\n",
    "    if df[i].value_counts().nunique() < 2:\n",
    "        one_variable_list.append(i)\n",
    "df.drop(one_variable_list,axis=1,inplace=True)\n",
    "df.columns =  df.columns.str.strip()\n",
    "# drop nan and infinite rows\n",
    "df = df[~df.isin([np.nan, np.inf, -np.inf]).any(1)]\n",
    "\n",
    "# merging similar classes with low instances\n",
    "df[\"Label\"] = df[\"Label\"].replace([\"Web Attack � Brute Force\",\"Web Attack � XSS\",\"Web Attack � Sql Injection\"],\"Web Attack\")\n",
    "# drop duplicate rows\n",
    "df =  df.drop_duplicates(keep=\"first\")\n",
    "df.reset_index(drop=True,inplace=True)\n",
    "\n",
    "#feature reduction \n",
    "#dropping very high correlated features \n",
    "corr_matrix = df.corr().abs()\n",
    "\n",
    "# Select upper triangle of correlation matrix\n",
    "upper = corr_matrix.where(np.triu(np.ones(corr_matrix.shape), k=1).astype(np.bool))\n",
    "\n",
    "# Find features with correlation greater than 0.95\n",
    "to_drop = [column for column in upper.columns if any(upper[column] > 0.95)]\n",
    "\n",
    "# Drop features \n",
    "df =  df.drop(to_drop, axis=1)\n",
    "df.shape"
   ]
  },
  {
   "cell_type": "markdown",
   "metadata": {
    "id": "srM95VFqkmZd"
   },
   "source": [
    "#### **3.2 View processed data**"
   ]
  },
  {
   "cell_type": "code",
   "execution_count": 9,
   "metadata": {
    "colab": {
     "base_uri": "https://localhost:8080/",
     "height": 490
    },
    "id": "9JH51s0iiaHO",
    "outputId": "deede23d-9da2-47f6-a1ff-5ecd3e97102c"
   },
   "outputs": [
    {
     "data": {
      "text/html": [
       "<div>\n",
       "<style scoped>\n",
       "    .dataframe tbody tr th:only-of-type {\n",
       "        vertical-align: middle;\n",
       "    }\n",
       "\n",
       "    .dataframe tbody tr th {\n",
       "        vertical-align: top;\n",
       "    }\n",
       "\n",
       "    .dataframe thead th {\n",
       "        text-align: right;\n",
       "    }\n",
       "</style>\n",
       "<table border=\"1\" class=\"dataframe\">\n",
       "  <thead>\n",
       "    <tr style=\"text-align: right;\">\n",
       "      <th></th>\n",
       "      <th>Destination Port</th>\n",
       "      <th>Flow Duration</th>\n",
       "      <th>Total Fwd Packets</th>\n",
       "      <th>Total Length of Fwd Packets</th>\n",
       "      <th>Fwd Packet Length Max</th>\n",
       "      <th>Fwd Packet Length Min</th>\n",
       "      <th>Fwd Packet Length Mean</th>\n",
       "      <th>Bwd Packet Length Max</th>\n",
       "      <th>Bwd Packet Length Min</th>\n",
       "      <th>Flow Bytes/s</th>\n",
       "      <th>...</th>\n",
       "      <th>Init_Win_bytes_forward</th>\n",
       "      <th>Init_Win_bytes_backward</th>\n",
       "      <th>min_seg_size_forward</th>\n",
       "      <th>Active Mean</th>\n",
       "      <th>Active Std</th>\n",
       "      <th>Active Max</th>\n",
       "      <th>Active Min</th>\n",
       "      <th>Idle Std</th>\n",
       "      <th>Idle Min</th>\n",
       "      <th>Label</th>\n",
       "    </tr>\n",
       "  </thead>\n",
       "  <tbody>\n",
       "    <tr>\n",
       "      <th>0</th>\n",
       "      <td>54865</td>\n",
       "      <td>3</td>\n",
       "      <td>2</td>\n",
       "      <td>12</td>\n",
       "      <td>6</td>\n",
       "      <td>6</td>\n",
       "      <td>6.0</td>\n",
       "      <td>0</td>\n",
       "      <td>0</td>\n",
       "      <td>4.000000e+06</td>\n",
       "      <td>...</td>\n",
       "      <td>33</td>\n",
       "      <td>-1</td>\n",
       "      <td>20</td>\n",
       "      <td>0.0</td>\n",
       "      <td>0.0</td>\n",
       "      <td>0</td>\n",
       "      <td>0</td>\n",
       "      <td>0.0</td>\n",
       "      <td>0</td>\n",
       "      <td>BENIGN</td>\n",
       "    </tr>\n",
       "    <tr>\n",
       "      <th>1</th>\n",
       "      <td>55054</td>\n",
       "      <td>109</td>\n",
       "      <td>1</td>\n",
       "      <td>6</td>\n",
       "      <td>6</td>\n",
       "      <td>6</td>\n",
       "      <td>6.0</td>\n",
       "      <td>6</td>\n",
       "      <td>6</td>\n",
       "      <td>1.100917e+05</td>\n",
       "      <td>...</td>\n",
       "      <td>29</td>\n",
       "      <td>256</td>\n",
       "      <td>20</td>\n",
       "      <td>0.0</td>\n",
       "      <td>0.0</td>\n",
       "      <td>0</td>\n",
       "      <td>0</td>\n",
       "      <td>0.0</td>\n",
       "      <td>0</td>\n",
       "      <td>BENIGN</td>\n",
       "    </tr>\n",
       "    <tr>\n",
       "      <th>2</th>\n",
       "      <td>55055</td>\n",
       "      <td>52</td>\n",
       "      <td>1</td>\n",
       "      <td>6</td>\n",
       "      <td>6</td>\n",
       "      <td>6</td>\n",
       "      <td>6.0</td>\n",
       "      <td>6</td>\n",
       "      <td>6</td>\n",
       "      <td>2.307692e+05</td>\n",
       "      <td>...</td>\n",
       "      <td>29</td>\n",
       "      <td>256</td>\n",
       "      <td>20</td>\n",
       "      <td>0.0</td>\n",
       "      <td>0.0</td>\n",
       "      <td>0</td>\n",
       "      <td>0</td>\n",
       "      <td>0.0</td>\n",
       "      <td>0</td>\n",
       "      <td>BENIGN</td>\n",
       "    </tr>\n",
       "    <tr>\n",
       "      <th>3</th>\n",
       "      <td>46236</td>\n",
       "      <td>34</td>\n",
       "      <td>1</td>\n",
       "      <td>6</td>\n",
       "      <td>6</td>\n",
       "      <td>6</td>\n",
       "      <td>6.0</td>\n",
       "      <td>6</td>\n",
       "      <td>6</td>\n",
       "      <td>3.529412e+05</td>\n",
       "      <td>...</td>\n",
       "      <td>31</td>\n",
       "      <td>329</td>\n",
       "      <td>20</td>\n",
       "      <td>0.0</td>\n",
       "      <td>0.0</td>\n",
       "      <td>0</td>\n",
       "      <td>0</td>\n",
       "      <td>0.0</td>\n",
       "      <td>0</td>\n",
       "      <td>BENIGN</td>\n",
       "    </tr>\n",
       "    <tr>\n",
       "      <th>4</th>\n",
       "      <td>54863</td>\n",
       "      <td>3</td>\n",
       "      <td>2</td>\n",
       "      <td>12</td>\n",
       "      <td>6</td>\n",
       "      <td>6</td>\n",
       "      <td>6.0</td>\n",
       "      <td>0</td>\n",
       "      <td>0</td>\n",
       "      <td>4.000000e+06</td>\n",
       "      <td>...</td>\n",
       "      <td>32</td>\n",
       "      <td>-1</td>\n",
       "      <td>20</td>\n",
       "      <td>0.0</td>\n",
       "      <td>0.0</td>\n",
       "      <td>0</td>\n",
       "      <td>0</td>\n",
       "      <td>0.0</td>\n",
       "      <td>0</td>\n",
       "      <td>BENIGN</td>\n",
       "    </tr>\n",
       "    <tr>\n",
       "      <th>...</th>\n",
       "      <td>...</td>\n",
       "      <td>...</td>\n",
       "      <td>...</td>\n",
       "      <td>...</td>\n",
       "      <td>...</td>\n",
       "      <td>...</td>\n",
       "      <td>...</td>\n",
       "      <td>...</td>\n",
       "      <td>...</td>\n",
       "      <td>...</td>\n",
       "      <td>...</td>\n",
       "      <td>...</td>\n",
       "      <td>...</td>\n",
       "      <td>...</td>\n",
       "      <td>...</td>\n",
       "      <td>...</td>\n",
       "      <td>...</td>\n",
       "      <td>...</td>\n",
       "      <td>...</td>\n",
       "      <td>...</td>\n",
       "      <td>...</td>\n",
       "    </tr>\n",
       "    <tr>\n",
       "      <th>615428</th>\n",
       "      <td>53</td>\n",
       "      <td>61452</td>\n",
       "      <td>4</td>\n",
       "      <td>180</td>\n",
       "      <td>45</td>\n",
       "      <td>45</td>\n",
       "      <td>45.0</td>\n",
       "      <td>177</td>\n",
       "      <td>177</td>\n",
       "      <td>8.689709e+03</td>\n",
       "      <td>...</td>\n",
       "      <td>-1</td>\n",
       "      <td>-1</td>\n",
       "      <td>20</td>\n",
       "      <td>0.0</td>\n",
       "      <td>0.0</td>\n",
       "      <td>0</td>\n",
       "      <td>0</td>\n",
       "      <td>0.0</td>\n",
       "      <td>0</td>\n",
       "      <td>BENIGN</td>\n",
       "    </tr>\n",
       "    <tr>\n",
       "      <th>615429</th>\n",
       "      <td>53</td>\n",
       "      <td>171</td>\n",
       "      <td>2</td>\n",
       "      <td>80</td>\n",
       "      <td>40</td>\n",
       "      <td>40</td>\n",
       "      <td>40.0</td>\n",
       "      <td>136</td>\n",
       "      <td>136</td>\n",
       "      <td>2.058480e+06</td>\n",
       "      <td>...</td>\n",
       "      <td>-1</td>\n",
       "      <td>-1</td>\n",
       "      <td>32</td>\n",
       "      <td>0.0</td>\n",
       "      <td>0.0</td>\n",
       "      <td>0</td>\n",
       "      <td>0</td>\n",
       "      <td>0.0</td>\n",
       "      <td>0</td>\n",
       "      <td>BENIGN</td>\n",
       "    </tr>\n",
       "    <tr>\n",
       "      <th>615430</th>\n",
       "      <td>53</td>\n",
       "      <td>222</td>\n",
       "      <td>2</td>\n",
       "      <td>90</td>\n",
       "      <td>45</td>\n",
       "      <td>45</td>\n",
       "      <td>45.0</td>\n",
       "      <td>177</td>\n",
       "      <td>177</td>\n",
       "      <td>2.000000e+06</td>\n",
       "      <td>...</td>\n",
       "      <td>-1</td>\n",
       "      <td>-1</td>\n",
       "      <td>32</td>\n",
       "      <td>0.0</td>\n",
       "      <td>0.0</td>\n",
       "      <td>0</td>\n",
       "      <td>0</td>\n",
       "      <td>0.0</td>\n",
       "      <td>0</td>\n",
       "      <td>BENIGN</td>\n",
       "    </tr>\n",
       "    <tr>\n",
       "      <th>615431</th>\n",
       "      <td>123</td>\n",
       "      <td>16842</td>\n",
       "      <td>1</td>\n",
       "      <td>48</td>\n",
       "      <td>48</td>\n",
       "      <td>48</td>\n",
       "      <td>48.0</td>\n",
       "      <td>48</td>\n",
       "      <td>48</td>\n",
       "      <td>5.700036e+03</td>\n",
       "      <td>...</td>\n",
       "      <td>-1</td>\n",
       "      <td>-1</td>\n",
       "      <td>20</td>\n",
       "      <td>0.0</td>\n",
       "      <td>0.0</td>\n",
       "      <td>0</td>\n",
       "      <td>0</td>\n",
       "      <td>0.0</td>\n",
       "      <td>0</td>\n",
       "      <td>BENIGN</td>\n",
       "    </tr>\n",
       "    <tr>\n",
       "      <th>615432</th>\n",
       "      <td>53</td>\n",
       "      <td>153</td>\n",
       "      <td>2</td>\n",
       "      <td>68</td>\n",
       "      <td>34</td>\n",
       "      <td>34</td>\n",
       "      <td>34.0</td>\n",
       "      <td>50</td>\n",
       "      <td>50</td>\n",
       "      <td>1.098039e+06</td>\n",
       "      <td>...</td>\n",
       "      <td>-1</td>\n",
       "      <td>-1</td>\n",
       "      <td>20</td>\n",
       "      <td>0.0</td>\n",
       "      <td>0.0</td>\n",
       "      <td>0</td>\n",
       "      <td>0</td>\n",
       "      <td>0.0</td>\n",
       "      <td>0</td>\n",
       "      <td>BENIGN</td>\n",
       "    </tr>\n",
       "  </tbody>\n",
       "</table>\n",
       "<p>615433 rows × 43 columns</p>\n",
       "</div>"
      ],
      "text/plain": [
       "        Destination Port  Flow Duration  Total Fwd Packets  \\\n",
       "0                  54865              3                  2   \n",
       "1                  55054            109                  1   \n",
       "2                  55055             52                  1   \n",
       "3                  46236             34                  1   \n",
       "4                  54863              3                  2   \n",
       "...                  ...            ...                ...   \n",
       "615428                53          61452                  4   \n",
       "615429                53            171                  2   \n",
       "615430                53            222                  2   \n",
       "615431               123          16842                  1   \n",
       "615432                53            153                  2   \n",
       "\n",
       "        Total Length of Fwd Packets  Fwd Packet Length Max  \\\n",
       "0                                12                      6   \n",
       "1                                 6                      6   \n",
       "2                                 6                      6   \n",
       "3                                 6                      6   \n",
       "4                                12                      6   \n",
       "...                             ...                    ...   \n",
       "615428                          180                     45   \n",
       "615429                           80                     40   \n",
       "615430                           90                     45   \n",
       "615431                           48                     48   \n",
       "615432                           68                     34   \n",
       "\n",
       "        Fwd Packet Length Min  Fwd Packet Length Mean  Bwd Packet Length Max  \\\n",
       "0                           6                     6.0                      0   \n",
       "1                           6                     6.0                      6   \n",
       "2                           6                     6.0                      6   \n",
       "3                           6                     6.0                      6   \n",
       "4                           6                     6.0                      0   \n",
       "...                       ...                     ...                    ...   \n",
       "615428                     45                    45.0                    177   \n",
       "615429                     40                    40.0                    136   \n",
       "615430                     45                    45.0                    177   \n",
       "615431                     48                    48.0                     48   \n",
       "615432                     34                    34.0                     50   \n",
       "\n",
       "        Bwd Packet Length Min  Flow Bytes/s  ...  Init_Win_bytes_forward  \\\n",
       "0                           0  4.000000e+06  ...                      33   \n",
       "1                           6  1.100917e+05  ...                      29   \n",
       "2                           6  2.307692e+05  ...                      29   \n",
       "3                           6  3.529412e+05  ...                      31   \n",
       "4                           0  4.000000e+06  ...                      32   \n",
       "...                       ...           ...  ...                     ...   \n",
       "615428                    177  8.689709e+03  ...                      -1   \n",
       "615429                    136  2.058480e+06  ...                      -1   \n",
       "615430                    177  2.000000e+06  ...                      -1   \n",
       "615431                     48  5.700036e+03  ...                      -1   \n",
       "615432                     50  1.098039e+06  ...                      -1   \n",
       "\n",
       "        Init_Win_bytes_backward  min_seg_size_forward  Active Mean  \\\n",
       "0                            -1                    20          0.0   \n",
       "1                           256                    20          0.0   \n",
       "2                           256                    20          0.0   \n",
       "3                           329                    20          0.0   \n",
       "4                            -1                    20          0.0   \n",
       "...                         ...                   ...          ...   \n",
       "615428                       -1                    20          0.0   \n",
       "615429                       -1                    32          0.0   \n",
       "615430                       -1                    32          0.0   \n",
       "615431                       -1                    20          0.0   \n",
       "615432                       -1                    20          0.0   \n",
       "\n",
       "        Active Std  Active Max  Active Min  Idle Std  Idle Min   Label  \n",
       "0              0.0           0           0       0.0         0  BENIGN  \n",
       "1              0.0           0           0       0.0         0  BENIGN  \n",
       "2              0.0           0           0       0.0         0  BENIGN  \n",
       "3              0.0           0           0       0.0         0  BENIGN  \n",
       "4              0.0           0           0       0.0         0  BENIGN  \n",
       "...            ...         ...         ...       ...       ...     ...  \n",
       "615428         0.0           0           0       0.0         0  BENIGN  \n",
       "615429         0.0           0           0       0.0         0  BENIGN  \n",
       "615430         0.0           0           0       0.0         0  BENIGN  \n",
       "615431         0.0           0           0       0.0         0  BENIGN  \n",
       "615432         0.0           0           0       0.0         0  BENIGN  \n",
       "\n",
       "[615433 rows x 43 columns]"
      ]
     },
     "execution_count": 9,
     "metadata": {},
     "output_type": "execute_result"
    }
   ],
   "source": [
    "df"
   ]
  },
  {
   "cell_type": "markdown",
   "metadata": {
    "id": "kglzmVDYiaHO"
   },
   "source": [
    "### STEP-4: Data Preparation"
   ]
  },
  {
   "cell_type": "markdown",
   "metadata": {
    "id": "mXuY3JLjk09c"
   },
   "source": [
    "#### **4.1 Save processed data**"
   ]
  },
  {
   "cell_type": "code",
   "execution_count": 10,
   "metadata": {
    "id": "MClNwCfRiaHP"
   },
   "outputs": [],
   "source": [
    "df = df[:615000]\n",
    "df.to_csv(r'clean_data.csv', index = True, header=True)\n",
    "\n",
    "real_data = df[-433:]\n",
    "\n",
    "#del real_data['Label']\n",
    "\n",
    "real_data.to_csv(r'real_time.csv', index = True, header=True)"
   ]
  },
  {
   "cell_type": "markdown",
   "metadata": {
    "id": "XySJqf2jiaHP"
   },
   "source": [
    "#### **4.2 Encode data for modeling**"
   ]
  },
  {
   "cell_type": "code",
   "execution_count": 11,
   "metadata": {
    "id": "cZ7DNi9giaHP"
   },
   "outputs": [],
   "source": [
    "catFeatureslist = ['Label']\n",
    "\n",
    "import csv\n",
    "\n",
    "dataset = df\n",
    "\n",
    "for cf1 in catFeatureslist:\n",
    "    le =preprocessing.LabelEncoder()\n",
    "    le.fit(dataset[cf1].unique())\n",
    "    actual = dataset[cf1].unique()\n",
    "    dataset[cf1] = le.transform(dataset[cf1])\n",
    "\n",
    "dataset.to_csv (r'encoded.csv', index = True, header=True)"
   ]
  },
  {
   "cell_type": "markdown",
   "metadata": {
    "id": "ys2LKjm1lKSK"
   },
   "source": [
    "#### **4.3 Split data for validation, real-time predictions & Save Encoded data**"
   ]
  },
  {
   "cell_type": "code",
   "execution_count": 12,
   "metadata": {
    "id": "0AMq9ou0iaHP"
   },
   "outputs": [],
   "source": [
    "df = pd.read_csv('clean_data.csv')\n",
    "df = df.rename(columns={\"Unnamed: 0\": \"AttackId\"}) \n",
    "df.to_csv('clean_data.csv')\n",
    "\n",
    "df1 = pd.read_csv('real_time.csv')\n",
    "df1 = df1.rename(columns={\"Unnamed: 0\": \"AttackId\"}) \n",
    "df1.to_csv('real_time.csv')\n",
    "\n",
    "df2 = pd.read_csv('encoded.csv')\n",
    "df2 = df2.rename(columns={\"Unnamed: 0\": \"AttackId\"}) \n",
    "df2.to_csv('encoded.csv')"
   ]
  },
  {
   "cell_type": "markdown",
   "metadata": {
    "id": "9TirlAM4m3tl"
   },
   "source": [
    "### STEP-5: Training Phase"
   ]
  },
  {
   "cell_type": "markdown",
   "metadata": {
    "id": "FU7l0CL_qt8f"
   },
   "source": [
    "#### **5.1 Read clean data**"
   ]
  },
  {
   "cell_type": "code",
   "execution_count": 13,
   "metadata": {
    "id": "LyXzvkXInBX_"
   },
   "outputs": [],
   "source": [
    "df = pd.read_csv('clean_data.csv')\n",
    "del df['Unnamed: 0']"
   ]
  },
  {
   "cell_type": "markdown",
   "metadata": {
    "id": "QxUs-1_5rHYc"
   },
   "source": [
    "#### **5.2 Data Size**"
   ]
  },
  {
   "cell_type": "code",
   "execution_count": 14,
   "metadata": {
    "colab": {
     "base_uri": "https://localhost:8080/"
    },
    "id": "Re0iaPabnEfC",
    "outputId": "8ee2ce1b-d4a3-40f7-b3b0-14a34312c652"
   },
   "outputs": [
    {
     "name": "stdout",
     "output_type": "stream",
     "text": [
      "Data: 615000 rows 44 columns\n"
     ]
    }
   ],
   "source": [
    "nRow, nCol = df.shape\n",
    "print(f'Data: {nRow} rows {nCol} columns')"
   ]
  },
  {
   "cell_type": "markdown",
   "metadata": {
    "id": "MoQpeR9vrNaZ"
   },
   "source": [
    "#### **5.3 View clean data**"
   ]
  },
  {
   "cell_type": "code",
   "execution_count": 15,
   "metadata": {
    "colab": {
     "base_uri": "https://localhost:8080/",
     "height": 275
    },
    "id": "zRuuNKginHLL",
    "outputId": "aa49218e-e153-487d-bf1d-ba0c95bec838"
   },
   "outputs": [
    {
     "data": {
      "text/html": [
       "<div>\n",
       "<style scoped>\n",
       "    .dataframe tbody tr th:only-of-type {\n",
       "        vertical-align: middle;\n",
       "    }\n",
       "\n",
       "    .dataframe tbody tr th {\n",
       "        vertical-align: top;\n",
       "    }\n",
       "\n",
       "    .dataframe thead th {\n",
       "        text-align: right;\n",
       "    }\n",
       "</style>\n",
       "<table border=\"1\" class=\"dataframe\">\n",
       "  <thead>\n",
       "    <tr style=\"text-align: right;\">\n",
       "      <th></th>\n",
       "      <th>AttackId</th>\n",
       "      <th>Destination Port</th>\n",
       "      <th>Flow Duration</th>\n",
       "      <th>Total Fwd Packets</th>\n",
       "      <th>Total Length of Fwd Packets</th>\n",
       "      <th>Fwd Packet Length Max</th>\n",
       "      <th>Fwd Packet Length Min</th>\n",
       "      <th>Fwd Packet Length Mean</th>\n",
       "      <th>Bwd Packet Length Max</th>\n",
       "      <th>Bwd Packet Length Min</th>\n",
       "      <th>...</th>\n",
       "      <th>Init_Win_bytes_forward</th>\n",
       "      <th>Init_Win_bytes_backward</th>\n",
       "      <th>min_seg_size_forward</th>\n",
       "      <th>Active Mean</th>\n",
       "      <th>Active Std</th>\n",
       "      <th>Active Max</th>\n",
       "      <th>Active Min</th>\n",
       "      <th>Idle Std</th>\n",
       "      <th>Idle Min</th>\n",
       "      <th>Label</th>\n",
       "    </tr>\n",
       "  </thead>\n",
       "  <tbody>\n",
       "    <tr>\n",
       "      <th>0</th>\n",
       "      <td>0</td>\n",
       "      <td>54865</td>\n",
       "      <td>3</td>\n",
       "      <td>2</td>\n",
       "      <td>12</td>\n",
       "      <td>6</td>\n",
       "      <td>6</td>\n",
       "      <td>6.0</td>\n",
       "      <td>0</td>\n",
       "      <td>0</td>\n",
       "      <td>...</td>\n",
       "      <td>33</td>\n",
       "      <td>-1</td>\n",
       "      <td>20</td>\n",
       "      <td>0.0</td>\n",
       "      <td>0.0</td>\n",
       "      <td>0</td>\n",
       "      <td>0</td>\n",
       "      <td>0.0</td>\n",
       "      <td>0</td>\n",
       "      <td>BENIGN</td>\n",
       "    </tr>\n",
       "    <tr>\n",
       "      <th>1</th>\n",
       "      <td>1</td>\n",
       "      <td>55054</td>\n",
       "      <td>109</td>\n",
       "      <td>1</td>\n",
       "      <td>6</td>\n",
       "      <td>6</td>\n",
       "      <td>6</td>\n",
       "      <td>6.0</td>\n",
       "      <td>6</td>\n",
       "      <td>6</td>\n",
       "      <td>...</td>\n",
       "      <td>29</td>\n",
       "      <td>256</td>\n",
       "      <td>20</td>\n",
       "      <td>0.0</td>\n",
       "      <td>0.0</td>\n",
       "      <td>0</td>\n",
       "      <td>0</td>\n",
       "      <td>0.0</td>\n",
       "      <td>0</td>\n",
       "      <td>BENIGN</td>\n",
       "    </tr>\n",
       "    <tr>\n",
       "      <th>2</th>\n",
       "      <td>2</td>\n",
       "      <td>55055</td>\n",
       "      <td>52</td>\n",
       "      <td>1</td>\n",
       "      <td>6</td>\n",
       "      <td>6</td>\n",
       "      <td>6</td>\n",
       "      <td>6.0</td>\n",
       "      <td>6</td>\n",
       "      <td>6</td>\n",
       "      <td>...</td>\n",
       "      <td>29</td>\n",
       "      <td>256</td>\n",
       "      <td>20</td>\n",
       "      <td>0.0</td>\n",
       "      <td>0.0</td>\n",
       "      <td>0</td>\n",
       "      <td>0</td>\n",
       "      <td>0.0</td>\n",
       "      <td>0</td>\n",
       "      <td>BENIGN</td>\n",
       "    </tr>\n",
       "    <tr>\n",
       "      <th>3</th>\n",
       "      <td>3</td>\n",
       "      <td>46236</td>\n",
       "      <td>34</td>\n",
       "      <td>1</td>\n",
       "      <td>6</td>\n",
       "      <td>6</td>\n",
       "      <td>6</td>\n",
       "      <td>6.0</td>\n",
       "      <td>6</td>\n",
       "      <td>6</td>\n",
       "      <td>...</td>\n",
       "      <td>31</td>\n",
       "      <td>329</td>\n",
       "      <td>20</td>\n",
       "      <td>0.0</td>\n",
       "      <td>0.0</td>\n",
       "      <td>0</td>\n",
       "      <td>0</td>\n",
       "      <td>0.0</td>\n",
       "      <td>0</td>\n",
       "      <td>BENIGN</td>\n",
       "    </tr>\n",
       "    <tr>\n",
       "      <th>4</th>\n",
       "      <td>4</td>\n",
       "      <td>54863</td>\n",
       "      <td>3</td>\n",
       "      <td>2</td>\n",
       "      <td>12</td>\n",
       "      <td>6</td>\n",
       "      <td>6</td>\n",
       "      <td>6.0</td>\n",
       "      <td>0</td>\n",
       "      <td>0</td>\n",
       "      <td>...</td>\n",
       "      <td>32</td>\n",
       "      <td>-1</td>\n",
       "      <td>20</td>\n",
       "      <td>0.0</td>\n",
       "      <td>0.0</td>\n",
       "      <td>0</td>\n",
       "      <td>0</td>\n",
       "      <td>0.0</td>\n",
       "      <td>0</td>\n",
       "      <td>BENIGN</td>\n",
       "    </tr>\n",
       "  </tbody>\n",
       "</table>\n",
       "<p>5 rows × 44 columns</p>\n",
       "</div>"
      ],
      "text/plain": [
       "   AttackId  Destination Port  Flow Duration  Total Fwd Packets  \\\n",
       "0         0             54865              3                  2   \n",
       "1         1             55054            109                  1   \n",
       "2         2             55055             52                  1   \n",
       "3         3             46236             34                  1   \n",
       "4         4             54863              3                  2   \n",
       "\n",
       "   Total Length of Fwd Packets  Fwd Packet Length Max  Fwd Packet Length Min  \\\n",
       "0                           12                      6                      6   \n",
       "1                            6                      6                      6   \n",
       "2                            6                      6                      6   \n",
       "3                            6                      6                      6   \n",
       "4                           12                      6                      6   \n",
       "\n",
       "   Fwd Packet Length Mean  Bwd Packet Length Max  Bwd Packet Length Min  ...  \\\n",
       "0                     6.0                      0                      0  ...   \n",
       "1                     6.0                      6                      6  ...   \n",
       "2                     6.0                      6                      6  ...   \n",
       "3                     6.0                      6                      6  ...   \n",
       "4                     6.0                      0                      0  ...   \n",
       "\n",
       "   Init_Win_bytes_forward  Init_Win_bytes_backward  min_seg_size_forward  \\\n",
       "0                      33                       -1                    20   \n",
       "1                      29                      256                    20   \n",
       "2                      29                      256                    20   \n",
       "3                      31                      329                    20   \n",
       "4                      32                       -1                    20   \n",
       "\n",
       "   Active Mean  Active Std  Active Max  Active Min  Idle Std  Idle Min   Label  \n",
       "0          0.0         0.0           0           0       0.0         0  BENIGN  \n",
       "1          0.0         0.0           0           0       0.0         0  BENIGN  \n",
       "2          0.0         0.0           0           0       0.0         0  BENIGN  \n",
       "3          0.0         0.0           0           0       0.0         0  BENIGN  \n",
       "4          0.0         0.0           0           0       0.0         0  BENIGN  \n",
       "\n",
       "[5 rows x 44 columns]"
      ]
     },
     "execution_count": 15,
     "metadata": {},
     "output_type": "execute_result"
    }
   ],
   "source": [
    "df.head()"
   ]
  },
  {
   "cell_type": "code",
   "execution_count": 16,
   "metadata": {
    "colab": {
     "base_uri": "https://localhost:8080/"
    },
    "id": "H55Ew_atnNNE",
    "outputId": "5c937729-df97-49b0-fbd7-75b273147cca"
   },
   "outputs": [
    {
     "name": "stdout",
     "output_type": "stream",
     "text": [
      "['BENIGN' 'DDoS' 'PortScan' 'Bot']\n"
     ]
    }
   ],
   "source": [
    "x = df.drop([\"Label\"],axis=1)\n",
    "y = df[\"Label\"]\n",
    "\n",
    "print(y.unique())\n",
    "\n",
    "\n",
    "data_len = len(df)\n",
    "\n",
    "test_size = int(data_len/2) #50% of the total data \n",
    "\n",
    "train_range = int(data_len - test_size) #70% of the total data\n",
    "\n",
    "train = df[:train_range]\n",
    "\n",
    "test = df[train_range:data_len]\n",
    "\n",
    "train.to_csv('train.csv',index=False)\n",
    "test.to_csv('test.csv',index=False)\n",
    "\n",
    "X_train = x[:train_range]\n",
    "X_test = x[train_range:data_len]\n",
    "\n",
    "Y_train = y[:train_range]\n",
    "Y_test = y[train_range:data_len]\n"
   ]
  },
  {
   "cell_type": "code",
   "execution_count": 17,
   "metadata": {
    "id": "nX3jOOkznPW5"
   },
   "outputs": [],
   "source": [
    "scaler = MaxAbsScaler()\n",
    "X_train = scaler.fit_transform(X_train)\n",
    "X_test = scaler.transform(X_test)"
   ]
  },
  {
   "cell_type": "markdown",
   "metadata": {
    "id": "DZrkea2Fqg9Q"
   },
   "source": [
    "#### **5.4 Classify Attack using KNN** "
   ]
  },
  {
   "cell_type": "markdown",
   "metadata": {
    "id": "GvUoaALAri41"
   },
   "source": [
    "##### **5.4.1 Metric: Euclidean**"
   ]
  },
  {
   "cell_type": "code",
   "execution_count": 18,
   "metadata": {
    "colab": {
     "base_uri": "https://localhost:8080/"
    },
    "id": "qcNv0EqGnRsp",
    "outputId": "81e5b741-ef6d-4bfd-c012-a70883cdaec3"
   },
   "outputs": [
    {
     "name": "stdout",
     "output_type": "stream",
     "text": [
      "Training time(KNN+euclidean):0.5621208628018697 mins\n",
      "Confidence (%): 85.38341463414633\n",
      "\n"
     ]
    }
   ],
   "source": [
    "startKNN = time.time()\n",
    "best_KNN_Classifier = KNeighborsClassifier(n_jobs=-1, n_neighbors=6, metric='euclidean', algorithm='auto') \n",
    "best_KNN_Classifier.fit(X_train, Y_train);\n",
    "\n",
    "print(\"Training time(KNN+euclidean):\"+str((time.time()-startKNN)/60)+\" mins\")\n",
    "\n",
    "Y_pred = best_KNN_Classifier.predict(X_test)\n",
    "\n",
    "confidence = metrics.accuracy_score(Y_test, Y_pred)\n",
    "print(\"Confidence (%):\", confidence*100) \n",
    "print()"
   ]
  },
  {
   "cell_type": "markdown",
   "metadata": {
    "id": "xgRjwnuOr7ma"
   },
   "source": [
    "##### **5.4.2 Metric: minkowski**"
   ]
  },
  {
   "cell_type": "code",
   "execution_count": 19,
   "metadata": {
    "colab": {
     "base_uri": "https://localhost:8080/"
    },
    "id": "YljHKN3wr7xA",
    "outputId": "e0ae81ba-f01d-4c85-a4af-168f4c0b7fe6"
   },
   "outputs": [
    {
     "name": "stdout",
     "output_type": "stream",
     "text": [
      "Training time(KNN+minkowski):0.6425613005956013 mins\n",
      "Confidence (%): 85.38341463414633\n",
      "\n"
     ]
    }
   ],
   "source": [
    "startKNN = time.time()\n",
    "KNN_Classifier = KNeighborsClassifier(n_jobs=-1, n_neighbors=6, metric='minkowski', algorithm='auto') \n",
    "KNN_Classifier.fit(X_train, Y_train);\n",
    "\n",
    "print(\"Training time(KNN+minkowski):\"+str((time.time()-startKNN)/60)+\" mins\")\n",
    "\n",
    "Y_pred = KNN_Classifier.predict(X_test)\n",
    "\n",
    "confidence = metrics.accuracy_score(Y_test, Y_pred)\n",
    "print(\"Confidence (%):\", confidence*100) \n",
    "print()"
   ]
  },
  {
   "cell_type": "markdown",
   "metadata": {
    "id": "106NreC8s5ft"
   },
   "source": [
    "##### **5.4.3 Metric: chebyshev**"
   ]
  },
  {
   "cell_type": "code",
   "execution_count": 20,
   "metadata": {
    "colab": {
     "base_uri": "https://localhost:8080/"
    },
    "id": "qJ-IYLX8s5rL",
    "outputId": "72bea06e-5f81-43c5-ebca-501c5f423b33"
   },
   "outputs": [
    {
     "name": "stdout",
     "output_type": "stream",
     "text": [
      "Training time(KNN+chebyshev):0.5685390154520671 mins\n",
      "Confidence (%): 74.80650406504064\n",
      "\n"
     ]
    }
   ],
   "source": [
    "startKNN = time.time()\n",
    "KNN_Classifier = KNeighborsClassifier(n_jobs=-1, n_neighbors=6, metric='chebyshev', algorithm='auto') \n",
    "KNN_Classifier.fit(X_train, Y_train);\n",
    "\n",
    "print(\"Training time(KNN+chebyshev):\"+str((time.time()-startKNN)/60)+\" mins\")\n",
    "\n",
    "Y_pred = KNN_Classifier.predict(X_test)\n",
    "\n",
    "confidence = metrics.accuracy_score(Y_test, Y_pred)\n",
    "print(\"Confidence (%):\", confidence*100) \n",
    "print()"
   ]
  },
  {
   "cell_type": "markdown",
   "metadata": {
    "id": "XUZXwXP4AD6K"
   },
   "source": [
    "##### **5.4.4 Metric: manhattan**"
   ]
  },
  {
   "cell_type": "code",
   "execution_count": 21,
   "metadata": {
    "colab": {
     "base_uri": "https://localhost:8080/"
    },
    "id": "OKWVcdr1AEG2",
    "outputId": "2e11b44b-7986-45b9-a010-13d48b101ad5"
   },
   "outputs": [
    {
     "name": "stdout",
     "output_type": "stream",
     "text": [
      "Training time(KNN+manhattan):0.5552995165189107 mins\n",
      "Confidence (%): 85.37853658536585\n",
      "\n"
     ]
    }
   ],
   "source": [
    "startKNN = time.time()\n",
    "KNN_Classifier = KNeighborsClassifier(n_jobs=-1, n_neighbors=6, metric='manhattan', algorithm='auto') \n",
    "KNN_Classifier.fit(X_train, Y_train);\n",
    "\n",
    "print(\"Training time(KNN+manhattan):\"+str((time.time()-startKNN)/60)+\" mins\")\n",
    "\n",
    "Y_pred = KNN_Classifier.predict(X_test)\n",
    "\n",
    "confidence = metrics.accuracy_score(Y_test, Y_pred)\n",
    "print(\"Confidence (%):\", confidence*100) \n",
    "print()"
   ]
  },
  {
   "cell_type": "markdown",
   "metadata": {
    "id": "Hf1bvjHZtqkZ"
   },
   "source": [
    "#### **5.5 Save best performing model for real-time classification**"
   ]
  },
  {
   "cell_type": "code",
   "execution_count": 22,
   "metadata": {
    "id": "E4Sjk1oenUMf"
   },
   "outputs": [],
   "source": [
    "#KNN(euclidean + minkowski) performed equally well.\n",
    "filename = 'knnModel_Euclidean.sav'\n",
    "joblib.dump(best_KNN_Classifier, filename)\n",
    "  \n",
    "loaded_model = joblib.load(filename)"
   ]
  },
  {
   "cell_type": "markdown",
   "metadata": {
    "id": "gADjjqLCxRyc"
   },
   "source": [
    "### STEP-6: Application Phase (SafeML + Reinforcement learning)"
   ]
  },
  {
   "cell_type": "markdown",
   "metadata": {
    "id": "Eo71WMEcxZbA"
   },
   "source": [
    "##### **6.1 Load training & real-time validation data**"
   ]
  },
  {
   "cell_type": "code",
   "execution_count": 23,
   "metadata": {
    "colab": {
     "base_uri": "https://localhost:8080/",
     "height": 490
    },
    "id": "d6PiOxzPxZlG",
    "outputId": "53cb3653-9a42-48e1-a1f2-627bb23d9091"
   },
   "outputs": [
    {
     "data": {
      "text/html": [
       "<div>\n",
       "<style scoped>\n",
       "    .dataframe tbody tr th:only-of-type {\n",
       "        vertical-align: middle;\n",
       "    }\n",
       "\n",
       "    .dataframe tbody tr th {\n",
       "        vertical-align: top;\n",
       "    }\n",
       "\n",
       "    .dataframe thead th {\n",
       "        text-align: right;\n",
       "    }\n",
       "</style>\n",
       "<table border=\"1\" class=\"dataframe\">\n",
       "  <thead>\n",
       "    <tr style=\"text-align: right;\">\n",
       "      <th></th>\n",
       "      <th>AttackId</th>\n",
       "      <th>Destination Port</th>\n",
       "      <th>Flow Duration</th>\n",
       "      <th>Total Fwd Packets</th>\n",
       "      <th>Total Length of Fwd Packets</th>\n",
       "      <th>Fwd Packet Length Max</th>\n",
       "      <th>Fwd Packet Length Min</th>\n",
       "      <th>Fwd Packet Length Mean</th>\n",
       "      <th>Bwd Packet Length Max</th>\n",
       "      <th>Bwd Packet Length Min</th>\n",
       "      <th>...</th>\n",
       "      <th>Down/Up Ratio</th>\n",
       "      <th>Init_Win_bytes_forward</th>\n",
       "      <th>Init_Win_bytes_backward</th>\n",
       "      <th>min_seg_size_forward</th>\n",
       "      <th>Active Mean</th>\n",
       "      <th>Active Std</th>\n",
       "      <th>Active Max</th>\n",
       "      <th>Active Min</th>\n",
       "      <th>Idle Std</th>\n",
       "      <th>Idle Min</th>\n",
       "    </tr>\n",
       "  </thead>\n",
       "  <tbody>\n",
       "    <tr>\n",
       "      <th>0</th>\n",
       "      <td>614567</td>\n",
       "      <td>53</td>\n",
       "      <td>215</td>\n",
       "      <td>2</td>\n",
       "      <td>76</td>\n",
       "      <td>38</td>\n",
       "      <td>38</td>\n",
       "      <td>38.0</td>\n",
       "      <td>242</td>\n",
       "      <td>242</td>\n",
       "      <td>...</td>\n",
       "      <td>1</td>\n",
       "      <td>-1</td>\n",
       "      <td>-1</td>\n",
       "      <td>20</td>\n",
       "      <td>0.0</td>\n",
       "      <td>0.0</td>\n",
       "      <td>0</td>\n",
       "      <td>0</td>\n",
       "      <td>0.0</td>\n",
       "      <td>0</td>\n",
       "    </tr>\n",
       "    <tr>\n",
       "      <th>1</th>\n",
       "      <td>614568</td>\n",
       "      <td>53</td>\n",
       "      <td>837</td>\n",
       "      <td>2</td>\n",
       "      <td>74</td>\n",
       "      <td>37</td>\n",
       "      <td>37</td>\n",
       "      <td>37.0</td>\n",
       "      <td>77</td>\n",
       "      <td>77</td>\n",
       "      <td>...</td>\n",
       "      <td>1</td>\n",
       "      <td>-1</td>\n",
       "      <td>-1</td>\n",
       "      <td>20</td>\n",
       "      <td>0.0</td>\n",
       "      <td>0.0</td>\n",
       "      <td>0</td>\n",
       "      <td>0</td>\n",
       "      <td>0.0</td>\n",
       "      <td>0</td>\n",
       "    </tr>\n",
       "    <tr>\n",
       "      <th>2</th>\n",
       "      <td>614569</td>\n",
       "      <td>443</td>\n",
       "      <td>14336951</td>\n",
       "      <td>1</td>\n",
       "      <td>0</td>\n",
       "      <td>0</td>\n",
       "      <td>0</td>\n",
       "      <td>0.0</td>\n",
       "      <td>0</td>\n",
       "      <td>0</td>\n",
       "      <td>...</td>\n",
       "      <td>5</td>\n",
       "      <td>8192</td>\n",
       "      <td>42780</td>\n",
       "      <td>32</td>\n",
       "      <td>6336908.0</td>\n",
       "      <td>0.0</td>\n",
       "      <td>6336908</td>\n",
       "      <td>6336908</td>\n",
       "      <td>0.0</td>\n",
       "      <td>8000043</td>\n",
       "    </tr>\n",
       "    <tr>\n",
       "      <th>3</th>\n",
       "      <td>614570</td>\n",
       "      <td>53</td>\n",
       "      <td>31040</td>\n",
       "      <td>2</td>\n",
       "      <td>82</td>\n",
       "      <td>41</td>\n",
       "      <td>41</td>\n",
       "      <td>41.0</td>\n",
       "      <td>113</td>\n",
       "      <td>113</td>\n",
       "      <td>...</td>\n",
       "      <td>1</td>\n",
       "      <td>-1</td>\n",
       "      <td>-1</td>\n",
       "      <td>32</td>\n",
       "      <td>0.0</td>\n",
       "      <td>0.0</td>\n",
       "      <td>0</td>\n",
       "      <td>0</td>\n",
       "      <td>0.0</td>\n",
       "      <td>0</td>\n",
       "    </tr>\n",
       "    <tr>\n",
       "      <th>4</th>\n",
       "      <td>614571</td>\n",
       "      <td>53</td>\n",
       "      <td>148</td>\n",
       "      <td>2</td>\n",
       "      <td>76</td>\n",
       "      <td>38</td>\n",
       "      <td>38</td>\n",
       "      <td>38.0</td>\n",
       "      <td>54</td>\n",
       "      <td>54</td>\n",
       "      <td>...</td>\n",
       "      <td>1</td>\n",
       "      <td>-1</td>\n",
       "      <td>-1</td>\n",
       "      <td>20</td>\n",
       "      <td>0.0</td>\n",
       "      <td>0.0</td>\n",
       "      <td>0</td>\n",
       "      <td>0</td>\n",
       "      <td>0.0</td>\n",
       "      <td>0</td>\n",
       "    </tr>\n",
       "    <tr>\n",
       "      <th>...</th>\n",
       "      <td>...</td>\n",
       "      <td>...</td>\n",
       "      <td>...</td>\n",
       "      <td>...</td>\n",
       "      <td>...</td>\n",
       "      <td>...</td>\n",
       "      <td>...</td>\n",
       "      <td>...</td>\n",
       "      <td>...</td>\n",
       "      <td>...</td>\n",
       "      <td>...</td>\n",
       "      <td>...</td>\n",
       "      <td>...</td>\n",
       "      <td>...</td>\n",
       "      <td>...</td>\n",
       "      <td>...</td>\n",
       "      <td>...</td>\n",
       "      <td>...</td>\n",
       "      <td>...</td>\n",
       "      <td>...</td>\n",
       "      <td>...</td>\n",
       "    </tr>\n",
       "    <tr>\n",
       "      <th>428</th>\n",
       "      <td>614995</td>\n",
       "      <td>53</td>\n",
       "      <td>30477</td>\n",
       "      <td>1</td>\n",
       "      <td>79</td>\n",
       "      <td>79</td>\n",
       "      <td>79</td>\n",
       "      <td>79.0</td>\n",
       "      <td>145</td>\n",
       "      <td>145</td>\n",
       "      <td>...</td>\n",
       "      <td>1</td>\n",
       "      <td>-1</td>\n",
       "      <td>-1</td>\n",
       "      <td>32</td>\n",
       "      <td>0.0</td>\n",
       "      <td>0.0</td>\n",
       "      <td>0</td>\n",
       "      <td>0</td>\n",
       "      <td>0.0</td>\n",
       "      <td>0</td>\n",
       "    </tr>\n",
       "    <tr>\n",
       "      <th>429</th>\n",
       "      <td>614996</td>\n",
       "      <td>53</td>\n",
       "      <td>30572</td>\n",
       "      <td>1</td>\n",
       "      <td>46</td>\n",
       "      <td>46</td>\n",
       "      <td>46</td>\n",
       "      <td>46.0</td>\n",
       "      <td>74</td>\n",
       "      <td>74</td>\n",
       "      <td>...</td>\n",
       "      <td>1</td>\n",
       "      <td>-1</td>\n",
       "      <td>-1</td>\n",
       "      <td>32</td>\n",
       "      <td>0.0</td>\n",
       "      <td>0.0</td>\n",
       "      <td>0</td>\n",
       "      <td>0</td>\n",
       "      <td>0.0</td>\n",
       "      <td>0</td>\n",
       "    </tr>\n",
       "    <tr>\n",
       "      <th>430</th>\n",
       "      <td>614997</td>\n",
       "      <td>53</td>\n",
       "      <td>30473</td>\n",
       "      <td>1</td>\n",
       "      <td>60</td>\n",
       "      <td>60</td>\n",
       "      <td>60</td>\n",
       "      <td>60.0</td>\n",
       "      <td>76</td>\n",
       "      <td>76</td>\n",
       "      <td>...</td>\n",
       "      <td>1</td>\n",
       "      <td>-1</td>\n",
       "      <td>-1</td>\n",
       "      <td>20</td>\n",
       "      <td>0.0</td>\n",
       "      <td>0.0</td>\n",
       "      <td>0</td>\n",
       "      <td>0</td>\n",
       "      <td>0.0</td>\n",
       "      <td>0</td>\n",
       "    </tr>\n",
       "    <tr>\n",
       "      <th>431</th>\n",
       "      <td>614998</td>\n",
       "      <td>53</td>\n",
       "      <td>31267</td>\n",
       "      <td>1</td>\n",
       "      <td>48</td>\n",
       "      <td>48</td>\n",
       "      <td>48</td>\n",
       "      <td>48.0</td>\n",
       "      <td>113</td>\n",
       "      <td>113</td>\n",
       "      <td>...</td>\n",
       "      <td>1</td>\n",
       "      <td>-1</td>\n",
       "      <td>-1</td>\n",
       "      <td>20</td>\n",
       "      <td>0.0</td>\n",
       "      <td>0.0</td>\n",
       "      <td>0</td>\n",
       "      <td>0</td>\n",
       "      <td>0.0</td>\n",
       "      <td>0</td>\n",
       "    </tr>\n",
       "    <tr>\n",
       "      <th>432</th>\n",
       "      <td>614999</td>\n",
       "      <td>53</td>\n",
       "      <td>30517</td>\n",
       "      <td>1</td>\n",
       "      <td>60</td>\n",
       "      <td>60</td>\n",
       "      <td>60</td>\n",
       "      <td>60.0</td>\n",
       "      <td>88</td>\n",
       "      <td>88</td>\n",
       "      <td>...</td>\n",
       "      <td>1</td>\n",
       "      <td>-1</td>\n",
       "      <td>-1</td>\n",
       "      <td>20</td>\n",
       "      <td>0.0</td>\n",
       "      <td>0.0</td>\n",
       "      <td>0</td>\n",
       "      <td>0</td>\n",
       "      <td>0.0</td>\n",
       "      <td>0</td>\n",
       "    </tr>\n",
       "  </tbody>\n",
       "</table>\n",
       "<p>433 rows × 43 columns</p>\n",
       "</div>"
      ],
      "text/plain": [
       "     AttackId  Destination Port  Flow Duration  Total Fwd Packets  \\\n",
       "0      614567                53            215                  2   \n",
       "1      614568                53            837                  2   \n",
       "2      614569               443       14336951                  1   \n",
       "3      614570                53          31040                  2   \n",
       "4      614571                53            148                  2   \n",
       "..        ...               ...            ...                ...   \n",
       "428    614995                53          30477                  1   \n",
       "429    614996                53          30572                  1   \n",
       "430    614997                53          30473                  1   \n",
       "431    614998                53          31267                  1   \n",
       "432    614999                53          30517                  1   \n",
       "\n",
       "     Total Length of Fwd Packets  Fwd Packet Length Max  \\\n",
       "0                             76                     38   \n",
       "1                             74                     37   \n",
       "2                              0                      0   \n",
       "3                             82                     41   \n",
       "4                             76                     38   \n",
       "..                           ...                    ...   \n",
       "428                           79                     79   \n",
       "429                           46                     46   \n",
       "430                           60                     60   \n",
       "431                           48                     48   \n",
       "432                           60                     60   \n",
       "\n",
       "     Fwd Packet Length Min  Fwd Packet Length Mean  Bwd Packet Length Max  \\\n",
       "0                       38                    38.0                    242   \n",
       "1                       37                    37.0                     77   \n",
       "2                        0                     0.0                      0   \n",
       "3                       41                    41.0                    113   \n",
       "4                       38                    38.0                     54   \n",
       "..                     ...                     ...                    ...   \n",
       "428                     79                    79.0                    145   \n",
       "429                     46                    46.0                     74   \n",
       "430                     60                    60.0                     76   \n",
       "431                     48                    48.0                    113   \n",
       "432                     60                    60.0                     88   \n",
       "\n",
       "     Bwd Packet Length Min  ...  Down/Up Ratio  Init_Win_bytes_forward  \\\n",
       "0                      242  ...              1                      -1   \n",
       "1                       77  ...              1                      -1   \n",
       "2                        0  ...              5                    8192   \n",
       "3                      113  ...              1                      -1   \n",
       "4                       54  ...              1                      -1   \n",
       "..                     ...  ...            ...                     ...   \n",
       "428                    145  ...              1                      -1   \n",
       "429                     74  ...              1                      -1   \n",
       "430                     76  ...              1                      -1   \n",
       "431                    113  ...              1                      -1   \n",
       "432                     88  ...              1                      -1   \n",
       "\n",
       "     Init_Win_bytes_backward  min_seg_size_forward  Active Mean  Active Std  \\\n",
       "0                         -1                    20          0.0         0.0   \n",
       "1                         -1                    20          0.0         0.0   \n",
       "2                      42780                    32    6336908.0         0.0   \n",
       "3                         -1                    32          0.0         0.0   \n",
       "4                         -1                    20          0.0         0.0   \n",
       "..                       ...                   ...          ...         ...   \n",
       "428                       -1                    32          0.0         0.0   \n",
       "429                       -1                    32          0.0         0.0   \n",
       "430                       -1                    20          0.0         0.0   \n",
       "431                       -1                    20          0.0         0.0   \n",
       "432                       -1                    20          0.0         0.0   \n",
       "\n",
       "     Active Max  Active Min  Idle Std  Idle Min  \n",
       "0             0           0       0.0         0  \n",
       "1             0           0       0.0         0  \n",
       "2       6336908     6336908       0.0   8000043  \n",
       "3             0           0       0.0         0  \n",
       "4             0           0       0.0         0  \n",
       "..          ...         ...       ...       ...  \n",
       "428           0           0       0.0         0  \n",
       "429           0           0       0.0         0  \n",
       "430           0           0       0.0         0  \n",
       "431           0           0       0.0         0  \n",
       "432           0           0       0.0         0  \n",
       "\n",
       "[433 rows x 43 columns]"
      ]
     },
     "execution_count": 23,
     "metadata": {},
     "output_type": "execute_result"
    }
   ],
   "source": [
    "real_time = pd.read_csv(\"real_time.csv\")\n",
    "all_data = pd.read_csv(\"clean_data.csv\")\n",
    "\n",
    "x = real_time.drop([\"Label\"],axis=1).fillna(0)\n",
    "y = real_time[\"Label\"]\n",
    "del x['Unnamed: 0']\n",
    "\n",
    "x"
   ]
  },
  {
   "cell_type": "markdown",
   "metadata": {
    "id": "rAALh4zSxeRq"
   },
   "source": [
    "##### **6.2 Load best model for real-time attack classification**"
   ]
  },
  {
   "cell_type": "code",
   "execution_count": 24,
   "metadata": {
    "id": "1Tlyg-3dxeiq"
   },
   "outputs": [],
   "source": [
    "import joblib\n",
    "\n",
    "filename = 'knnModel_Euclidean.sav'\n",
    "  \n",
    "loaded_model = joblib.load(filename)\n"
   ]
  },
  {
   "cell_type": "code",
   "execution_count": 25,
   "metadata": {
    "id": "S5rlcxF1x1NO"
   },
   "outputs": [],
   "source": [
    "Y_pred = loaded_model.predict(x)"
   ]
  },
  {
   "cell_type": "code",
   "execution_count": 26,
   "metadata": {
    "colab": {
     "base_uri": "https://localhost:8080/"
    },
    "id": "Um7SbXIkx143",
    "outputId": "bf5e9530-2cc8-4fc1-9c40-7d4cdc1c0554"
   },
   "outputs": [
    {
     "data": {
      "text/plain": [
       "array(['BENIGN', 'BENIGN', 'BENIGN', 'BENIGN', 'BENIGN', 'BENIGN',\n",
       "       'BENIGN', 'BENIGN', 'BENIGN', 'BENIGN', 'BENIGN', 'BENIGN',\n",
       "       'BENIGN', 'BENIGN', 'BENIGN', 'BENIGN', 'BENIGN', 'PortScan',\n",
       "       'BENIGN', 'BENIGN', 'BENIGN', 'BENIGN', 'BENIGN', 'BENIGN',\n",
       "       'BENIGN', 'BENIGN', 'BENIGN', 'BENIGN', 'BENIGN', 'BENIGN',\n",
       "       'BENIGN', 'BENIGN', 'BENIGN', 'BENIGN', 'BENIGN', 'BENIGN',\n",
       "       'BENIGN', 'BENIGN', 'BENIGN', 'BENIGN', 'BENIGN', 'BENIGN',\n",
       "       'PortScan', 'BENIGN', 'BENIGN', 'PortScan', 'BENIGN', 'BENIGN',\n",
       "       'BENIGN', 'PortScan', 'BENIGN', 'BENIGN', 'BENIGN', 'BENIGN',\n",
       "       'BENIGN', 'BENIGN', 'BENIGN', 'BENIGN', 'BENIGN', 'BENIGN',\n",
       "       'BENIGN', 'BENIGN', 'BENIGN', 'BENIGN', 'BENIGN', 'BENIGN',\n",
       "       'BENIGN', 'BENIGN', 'BENIGN', 'BENIGN', 'BENIGN', 'BENIGN',\n",
       "       'BENIGN', 'BENIGN', 'BENIGN', 'BENIGN', 'BENIGN', 'BENIGN',\n",
       "       'BENIGN', 'BENIGN', 'BENIGN', 'BENIGN', 'BENIGN', 'BENIGN',\n",
       "       'BENIGN', 'BENIGN', 'BENIGN', 'BENIGN', 'BENIGN', 'BENIGN',\n",
       "       'BENIGN', 'BENIGN', 'BENIGN', 'BENIGN', 'BENIGN', 'BENIGN',\n",
       "       'BENIGN', 'BENIGN', 'BENIGN', 'BENIGN', 'BENIGN', 'BENIGN',\n",
       "       'BENIGN', 'BENIGN', 'BENIGN', 'BENIGN', 'BENIGN', 'BENIGN',\n",
       "       'BENIGN', 'BENIGN', 'BENIGN', 'BENIGN', 'BENIGN', 'BENIGN',\n",
       "       'BENIGN', 'BENIGN', 'BENIGN', 'BENIGN', 'BENIGN', 'BENIGN',\n",
       "       'BENIGN', 'BENIGN', 'BENIGN', 'BENIGN', 'BENIGN', 'BENIGN',\n",
       "       'BENIGN', 'BENIGN', 'BENIGN', 'BENIGN', 'BENIGN', 'BENIGN',\n",
       "       'BENIGN', 'BENIGN', 'BENIGN', 'BENIGN', 'BENIGN', 'BENIGN',\n",
       "       'BENIGN', 'BENIGN', 'BENIGN', 'BENIGN', 'BENIGN', 'BENIGN',\n",
       "       'BENIGN', 'BENIGN', 'BENIGN', 'BENIGN', 'BENIGN', 'BENIGN',\n",
       "       'BENIGN', 'BENIGN', 'BENIGN', 'BENIGN', 'BENIGN', 'BENIGN',\n",
       "       'BENIGN', 'BENIGN', 'BENIGN', 'BENIGN', 'BENIGN', 'BENIGN',\n",
       "       'BENIGN', 'BENIGN', 'BENIGN', 'BENIGN', 'BENIGN', 'BENIGN',\n",
       "       'BENIGN', 'BENIGN', 'BENIGN', 'BENIGN', 'BENIGN', 'BENIGN',\n",
       "       'BENIGN', 'BENIGN', 'BENIGN', 'BENIGN', 'BENIGN', 'BENIGN',\n",
       "       'BENIGN', 'BENIGN', 'BENIGN', 'BENIGN', 'BENIGN', 'BENIGN',\n",
       "       'BENIGN', 'BENIGN', 'BENIGN', 'BENIGN', 'BENIGN', 'BENIGN',\n",
       "       'BENIGN', 'BENIGN', 'BENIGN', 'BENIGN', 'BENIGN', 'BENIGN',\n",
       "       'BENIGN', 'BENIGN', 'BENIGN', 'BENIGN', 'BENIGN', 'BENIGN',\n",
       "       'BENIGN', 'BENIGN', 'BENIGN', 'BENIGN', 'BENIGN', 'BENIGN',\n",
       "       'BENIGN', 'BENIGN', 'BENIGN', 'BENIGN', 'BENIGN', 'BENIGN',\n",
       "       'BENIGN', 'BENIGN', 'BENIGN', 'BENIGN', 'BENIGN', 'BENIGN',\n",
       "       'BENIGN', 'BENIGN', 'BENIGN', 'BENIGN', 'BENIGN', 'BENIGN',\n",
       "       'BENIGN', 'BENIGN', 'BENIGN', 'BENIGN', 'BENIGN', 'BENIGN',\n",
       "       'BENIGN', 'BENIGN', 'BENIGN', 'BENIGN', 'BENIGN', 'BENIGN',\n",
       "       'BENIGN', 'BENIGN', 'BENIGN', 'BENIGN', 'BENIGN', 'BENIGN',\n",
       "       'BENIGN', 'BENIGN', 'BENIGN', 'BENIGN', 'BENIGN', 'BENIGN',\n",
       "       'BENIGN', 'BENIGN', 'BENIGN', 'BENIGN', 'BENIGN', 'BENIGN',\n",
       "       'BENIGN', 'BENIGN', 'BENIGN', 'BENIGN', 'BENIGN', 'BENIGN',\n",
       "       'BENIGN', 'BENIGN', 'BENIGN', 'BENIGN', 'BENIGN', 'BENIGN',\n",
       "       'BENIGN', 'BENIGN', 'BENIGN', 'BENIGN', 'BENIGN', 'BENIGN',\n",
       "       'BENIGN', 'BENIGN', 'BENIGN', 'BENIGN', 'BENIGN', 'BENIGN',\n",
       "       'BENIGN', 'BENIGN', 'BENIGN', 'BENIGN', 'BENIGN', 'BENIGN',\n",
       "       'BENIGN', 'BENIGN', 'BENIGN', 'BENIGN', 'BENIGN', 'BENIGN',\n",
       "       'BENIGN', 'BENIGN', 'BENIGN', 'BENIGN', 'BENIGN', 'BENIGN',\n",
       "       'BENIGN', 'BENIGN', 'BENIGN', 'BENIGN', 'BENIGN', 'BENIGN',\n",
       "       'BENIGN', 'BENIGN', 'BENIGN', 'BENIGN', 'BENIGN', 'BENIGN',\n",
       "       'BENIGN', 'BENIGN', 'BENIGN', 'BENIGN', 'BENIGN', 'BENIGN',\n",
       "       'BENIGN', 'BENIGN', 'BENIGN', 'BENIGN', 'BENIGN', 'BENIGN',\n",
       "       'BENIGN', 'BENIGN', 'BENIGN', 'BENIGN', 'BENIGN', 'BENIGN',\n",
       "       'BENIGN', 'BENIGN', 'BENIGN', 'BENIGN', 'BENIGN', 'BENIGN',\n",
       "       'BENIGN', 'BENIGN', 'BENIGN', 'BENIGN', 'BENIGN', 'BENIGN',\n",
       "       'BENIGN', 'BENIGN', 'BENIGN', 'BENIGN', 'BENIGN', 'BENIGN',\n",
       "       'BENIGN', 'BENIGN', 'BENIGN', 'BENIGN', 'BENIGN', 'BENIGN',\n",
       "       'BENIGN', 'BENIGN', 'BENIGN', 'BENIGN', 'BENIGN', 'BENIGN',\n",
       "       'BENIGN', 'BENIGN', 'BENIGN', 'BENIGN', 'BENIGN', 'BENIGN',\n",
       "       'BENIGN', 'BENIGN', 'BENIGN', 'BENIGN', 'BENIGN', 'BENIGN',\n",
       "       'BENIGN', 'BENIGN', 'PortScan', 'BENIGN', 'BENIGN', 'BENIGN',\n",
       "       'BENIGN', 'BENIGN', 'BENIGN', 'BENIGN', 'BENIGN', 'BENIGN',\n",
       "       'BENIGN', 'BENIGN', 'BENIGN', 'BENIGN', 'BENIGN', 'BENIGN',\n",
       "       'BENIGN', 'BENIGN', 'BENIGN', 'BENIGN', 'BENIGN', 'BENIGN',\n",
       "       'BENIGN', 'BENIGN', 'BENIGN', 'BENIGN', 'BENIGN', 'BENIGN',\n",
       "       'BENIGN', 'BENIGN', 'BENIGN', 'BENIGN', 'BENIGN', 'BENIGN',\n",
       "       'BENIGN', 'BENIGN', 'BENIGN', 'BENIGN', 'BENIGN', 'BENIGN',\n",
       "       'BENIGN', 'BENIGN', 'BENIGN', 'BENIGN', 'BENIGN', 'BENIGN',\n",
       "       'BENIGN', 'BENIGN', 'BENIGN', 'BENIGN', 'BENIGN', 'BENIGN',\n",
       "       'BENIGN', 'BENIGN', 'BENIGN', 'BENIGN', 'BENIGN', 'BENIGN',\n",
       "       'BENIGN'], dtype=object)"
      ]
     },
     "execution_count": 26,
     "metadata": {},
     "output_type": "execute_result"
    }
   ],
   "source": [
    "Y_pred"
   ]
  },
  {
   "cell_type": "code",
   "execution_count": 27,
   "metadata": {
    "colab": {
     "base_uri": "https://localhost:8080/"
    },
    "id": "Z4auKVBJx4ix",
    "outputId": "4c029885-45f1-4c24-822b-d66fb964f606"
   },
   "outputs": [
    {
     "data": {
      "text/plain": [
       "0      BENIGN\n",
       "1      BENIGN\n",
       "2      BENIGN\n",
       "3      BENIGN\n",
       "4      BENIGN\n",
       "        ...  \n",
       "428    BENIGN\n",
       "429    BENIGN\n",
       "430    BENIGN\n",
       "431    BENIGN\n",
       "432    BENIGN\n",
       "Name: Label, Length: 433, dtype: object"
      ]
     },
     "execution_count": 27,
     "metadata": {},
     "output_type": "execute_result"
    }
   ],
   "source": [
    "y"
   ]
  },
  {
   "cell_type": "markdown",
   "metadata": {
    "id": "Wn0FsinYy537"
   },
   "source": [
    "###### **6.2.1 Make predictions**"
   ]
  },
  {
   "cell_type": "code",
   "execution_count": 28,
   "metadata": {
    "colab": {
     "base_uri": "https://localhost:8080/"
    },
    "id": "1BE29gSqx51G",
    "outputId": "8c63d554-c05f-435a-e37a-4ee3ca2efcf9"
   },
   "outputs": [
    {
     "name": "stdout",
     "output_type": "stream",
     "text": [
      "Confidence (%): 97.22863741339492\n",
      "\n"
     ]
    }
   ],
   "source": [
    "confidence = metrics.accuracy_score(y, Y_pred)\n",
    "print(\"Confidence (%):\", confidence*100) \n",
    "print()"
   ]
  },
  {
   "cell_type": "markdown",
   "metadata": {
    "id": "aneNrznezAo8"
   },
   "source": [
    "###### **6.2.2 Check confidence against threshhold & Alert human if 'low confidence'**"
   ]
  },
  {
   "cell_type": "code",
   "execution_count": 29,
   "metadata": {
    "colab": {
     "base_uri": "https://localhost:8080/"
    },
    "id": "P2WIlugdx_rS",
    "outputId": "16255989-97c3-478a-9887-b6b3bc6619d9"
   },
   "outputs": [
    {
     "name": "stdout",
     "output_type": "stream",
     "text": [
      "Alert human\n"
     ]
    }
   ],
   "source": [
    "#Set Confidence Threshold = 100%\n",
    "Confidence_Threshold = 100\n",
    "\n",
    "if(confidence < Confidence_Threshold):\n",
    "    print('Alert human')"
   ]
  },
  {
   "cell_type": "markdown",
   "metadata": {
    "id": "kNrUb4-pzPdd"
   },
   "source": [
    "###### **6.2.3 Print misclassified attacks**"
   ]
  },
  {
   "cell_type": "code",
   "execution_count": 30,
   "metadata": {
    "id": "p4JrfOZiyBkf"
   },
   "outputs": [],
   "source": [
    "#Print items not correctly classified\n",
    "import pandas as pd \n",
    "# intialise data of lists. \n",
    "data = {'AttackId':x['AttackId'], 'Actual':y, 'Predicted':Y_pred} \n",
    "  \n",
    "# Create DataFrame \n",
    "df = pd.DataFrame(data) "
   ]
  },
  {
   "cell_type": "code",
   "execution_count": 31,
   "metadata": {
    "colab": {
     "base_uri": "https://localhost:8080/"
    },
    "id": "UwuuuT57yDs8",
    "outputId": "0191c8dc-67d9-47b9-d454-114d9f34606c"
   },
   "outputs": [
    {
     "data": {
      "text/html": [
       "<div>\n",
       "<style scoped>\n",
       "    .dataframe tbody tr th:only-of-type {\n",
       "        vertical-align: middle;\n",
       "    }\n",
       "\n",
       "    .dataframe tbody tr th {\n",
       "        vertical-align: top;\n",
       "    }\n",
       "\n",
       "    .dataframe thead th {\n",
       "        text-align: right;\n",
       "    }\n",
       "</style>\n",
       "<table border=\"1\" class=\"dataframe\">\n",
       "  <thead>\n",
       "    <tr style=\"text-align: right;\">\n",
       "      <th></th>\n",
       "      <th>AttackId</th>\n",
       "      <th>Actual</th>\n",
       "      <th>Predicted</th>\n",
       "    </tr>\n",
       "  </thead>\n",
       "  <tbody>\n",
       "    <tr>\n",
       "      <th>17</th>\n",
       "      <td>614584</td>\n",
       "      <td>BENIGN</td>\n",
       "      <td>PortScan</td>\n",
       "    </tr>\n",
       "    <tr>\n",
       "      <th>42</th>\n",
       "      <td>614609</td>\n",
       "      <td>BENIGN</td>\n",
       "      <td>PortScan</td>\n",
       "    </tr>\n",
       "    <tr>\n",
       "      <th>45</th>\n",
       "      <td>614612</td>\n",
       "      <td>BENIGN</td>\n",
       "      <td>PortScan</td>\n",
       "    </tr>\n",
       "    <tr>\n",
       "      <th>49</th>\n",
       "      <td>614616</td>\n",
       "      <td>BENIGN</td>\n",
       "      <td>PortScan</td>\n",
       "    </tr>\n",
       "    <tr>\n",
       "      <th>198</th>\n",
       "      <td>614765</td>\n",
       "      <td>Bot</td>\n",
       "      <td>BENIGN</td>\n",
       "    </tr>\n",
       "    <tr>\n",
       "      <th>199</th>\n",
       "      <td>614766</td>\n",
       "      <td>Bot</td>\n",
       "      <td>BENIGN</td>\n",
       "    </tr>\n",
       "    <tr>\n",
       "      <th>203</th>\n",
       "      <td>614770</td>\n",
       "      <td>Bot</td>\n",
       "      <td>BENIGN</td>\n",
       "    </tr>\n",
       "    <tr>\n",
       "      <th>204</th>\n",
       "      <td>614771</td>\n",
       "      <td>Bot</td>\n",
       "      <td>BENIGN</td>\n",
       "    </tr>\n",
       "    <tr>\n",
       "      <th>206</th>\n",
       "      <td>614773</td>\n",
       "      <td>Bot</td>\n",
       "      <td>BENIGN</td>\n",
       "    </tr>\n",
       "    <tr>\n",
       "      <th>226</th>\n",
       "      <td>614793</td>\n",
       "      <td>Bot</td>\n",
       "      <td>BENIGN</td>\n",
       "    </tr>\n",
       "    <tr>\n",
       "      <th>237</th>\n",
       "      <td>614804</td>\n",
       "      <td>Bot</td>\n",
       "      <td>BENIGN</td>\n",
       "    </tr>\n",
       "    <tr>\n",
       "      <th>374</th>\n",
       "      <td>614941</td>\n",
       "      <td>BENIGN</td>\n",
       "      <td>PortScan</td>\n",
       "    </tr>\n",
       "  </tbody>\n",
       "</table>\n",
       "</div>"
      ],
      "text/plain": [
       "     AttackId  Actual Predicted\n",
       "17     614584  BENIGN  PortScan\n",
       "42     614609  BENIGN  PortScan\n",
       "45     614612  BENIGN  PortScan\n",
       "49     614616  BENIGN  PortScan\n",
       "198    614765     Bot    BENIGN\n",
       "199    614766     Bot    BENIGN\n",
       "203    614770     Bot    BENIGN\n",
       "204    614771     Bot    BENIGN\n",
       "206    614773     Bot    BENIGN\n",
       "226    614793     Bot    BENIGN\n",
       "237    614804     Bot    BENIGN\n",
       "374    614941  BENIGN  PortScan"
      ]
     },
     "execution_count": 31,
     "metadata": {},
     "output_type": "execute_result"
    }
   ],
   "source": [
    "not_classified_attacks = df[df['Actual']!=df['Predicted']]\n",
    "not_classified_attacks"
   ]
  },
  {
   "cell_type": "markdown",
   "metadata": {
    "id": "1FBUEblXzUHC"
   },
   "source": [
    "###### **6.2.4 Assist human to find similar attacks (Fidning nearest neighbouring using 'Euclidean' distance metric)**"
   ]
  },
  {
   "cell_type": "code",
   "execution_count": 32,
   "metadata": {
    "id": "bbpXszyhyETh"
   },
   "outputs": [],
   "source": [
    "import math \n",
    "#function calculates distance start\n",
    "def euclidean_distnce(data, p1, p2):\n",
    "    common_item = {}\n",
    "    \n",
    "    for item in data[p1]:\n",
    "        if item in data[p2]:\n",
    "            common_item[item] = True\n",
    "\n",
    "    if len(common_item) == 0: return 0\n",
    "\n",
    "    #calculate Euclidean distance\n",
    "    #√((x1-x2)^2 + (y1-y2)^2)\n",
    "    \n",
    "    distance = sum([math.pow(data[p1][itm] - data[p2][itm], 2) for itm in common_item.keys()])\n",
    "    distance = math.sqrt(distance)\n",
    "    #return result\n",
    "    \n",
    "    return 1/(distance + 1)\n",
    "\n",
    "def calculateSimilarItems(data, attackId, n):   \n",
    "    result = {}\n",
    "    data_reverse = data \n",
    "    \n",
    "    item = attackId\n",
    "    \n",
    "    #finding distance score of all other items with respect to current item\n",
    "    \n",
    "    similarities = [(euclidean_distnce(data_reverse, item, other), other) for other in data_reverse.keys() if item == attackId] \n",
    "    similarities.sort()   \n",
    "    result[item] = similarities[0:n]   \n",
    "    return result"
   ]
  },
  {
   "cell_type": "code",
   "execution_count": 33,
   "metadata": {
    "id": "kNB1RFq_yIpi"
   },
   "outputs": [],
   "source": [
    "attack = not_classified_attacks.iloc[0]\n",
    "\n",
    "#read encoded insurance data.\n",
    "df = pd.read_csv(r'encoded.csv')\n",
    "\n",
    "del df['Unnamed: 0']"
   ]
  },
  {
   "cell_type": "markdown",
   "metadata": {
    "id": "q7cOS2Juzh_j"
   },
   "source": [
    "###### **6.2.5 Print similar attacks for human agent to review**"
   ]
  },
  {
   "cell_type": "code",
   "execution_count": 34,
   "metadata": {
    "id": "7P8OtUovyLV3"
   },
   "outputs": [],
   "source": [
    "\n",
    "df.set_index(\"AttackId\", drop=True, inplace=True)\n",
    "\n",
    "#format data to find similar claims.\n",
    "dictionary = df.to_dict(orient=\"index\")"
   ]
  },
  {
   "cell_type": "code",
   "execution_count": 35,
   "metadata": {
    "colab": {
     "base_uri": "https://localhost:8080/"
    },
    "id": "bp5EG1CHyOAn",
    "outputId": "0628011d-1f43-4f0d-dbf3-2d75a0734ab9"
   },
   "outputs": [
    {
     "data": {
      "text/html": [
       "<div>\n",
       "<style scoped>\n",
       "    .dataframe tbody tr th:only-of-type {\n",
       "        vertical-align: middle;\n",
       "    }\n",
       "\n",
       "    .dataframe tbody tr th {\n",
       "        vertical-align: top;\n",
       "    }\n",
       "\n",
       "    .dataframe thead th {\n",
       "        text-align: right;\n",
       "    }\n",
       "</style>\n",
       "<table border=\"1\" class=\"dataframe\">\n",
       "  <thead>\n",
       "    <tr style=\"text-align: right;\">\n",
       "      <th></th>\n",
       "      <th>Unnamed: 0</th>\n",
       "      <th>AttackId</th>\n",
       "      <th>Destination Port</th>\n",
       "      <th>Flow Duration</th>\n",
       "      <th>Total Fwd Packets</th>\n",
       "      <th>Total Length of Fwd Packets</th>\n",
       "      <th>Fwd Packet Length Max</th>\n",
       "      <th>Fwd Packet Length Min</th>\n",
       "      <th>Fwd Packet Length Mean</th>\n",
       "      <th>Bwd Packet Length Max</th>\n",
       "      <th>...</th>\n",
       "      <th>Init_Win_bytes_forward</th>\n",
       "      <th>Init_Win_bytes_backward</th>\n",
       "      <th>min_seg_size_forward</th>\n",
       "      <th>Active Mean</th>\n",
       "      <th>Active Std</th>\n",
       "      <th>Active Max</th>\n",
       "      <th>Active Min</th>\n",
       "      <th>Idle Std</th>\n",
       "      <th>Idle Min</th>\n",
       "      <th>Label</th>\n",
       "    </tr>\n",
       "  </thead>\n",
       "  <tbody>\n",
       "    <tr>\n",
       "      <th>614584</th>\n",
       "      <td>614584</td>\n",
       "      <td>614584</td>\n",
       "      <td>53176</td>\n",
       "      <td>11492</td>\n",
       "      <td>4</td>\n",
       "      <td>24</td>\n",
       "      <td>6</td>\n",
       "      <td>6</td>\n",
       "      <td>6.0</td>\n",
       "      <td>0</td>\n",
       "      <td>...</td>\n",
       "      <td>180</td>\n",
       "      <td>-1</td>\n",
       "      <td>20</td>\n",
       "      <td>0.0</td>\n",
       "      <td>0.0</td>\n",
       "      <td>0</td>\n",
       "      <td>0</td>\n",
       "      <td>0.0</td>\n",
       "      <td>0</td>\n",
       "      <td>BENIGN</td>\n",
       "    </tr>\n",
       "  </tbody>\n",
       "</table>\n",
       "<p>1 rows × 45 columns</p>\n",
       "</div>"
      ],
      "text/plain": [
       "        Unnamed: 0  AttackId  Destination Port  Flow Duration  \\\n",
       "614584      614584    614584             53176          11492   \n",
       "\n",
       "        Total Fwd Packets  Total Length of Fwd Packets  Fwd Packet Length Max  \\\n",
       "614584                  4                           24                      6   \n",
       "\n",
       "        Fwd Packet Length Min  Fwd Packet Length Mean  Bwd Packet Length Max  \\\n",
       "614584                      6                     6.0                      0   \n",
       "\n",
       "        ...  Init_Win_bytes_forward  Init_Win_bytes_backward  \\\n",
       "614584  ...                     180                       -1   \n",
       "\n",
       "        min_seg_size_forward  Active Mean  Active Std  Active Max  Active Min  \\\n",
       "614584                    20          0.0         0.0           0           0   \n",
       "\n",
       "        Idle Std  Idle Min   Label  \n",
       "614584       0.0         0  BENIGN  \n",
       "\n",
       "[1 rows x 45 columns]"
      ]
     },
     "execution_count": 35,
     "metadata": {},
     "output_type": "execute_result"
    }
   ],
   "source": [
    "#dictionary\n",
    "##attackId to query.\n",
    "attackId = attack['AttackId']\n",
    "\n",
    "#No.of.similar attacks to query.\n",
    "cnt_similar_claims = 10\n",
    "\n",
    "similar_attacks = calculateSimilarItems(dictionary,attackId,cnt_similar_claims)\n",
    "\n",
    "attacks = similar_attacks.get(attackId)\n",
    "\n",
    "similar_attack_ids=[] \n",
    "for similar_attack in range(len(attacks)):\n",
    "    similar_attack_ids.append(attacks[similar_attack][1])\n",
    "\n",
    "df = all_data[all_data['AttackId'].isin(similar_attack_ids)]\n",
    "\n",
    "attacks = all_data[all_data['AttackId']==attackId]\n",
    "attacks\n",
    "#to replace with real-time data which has to be separated from all_training data."
   ]
  },
  {
   "cell_type": "markdown",
   "metadata": {
    "id": "_dFgtoklzoOB"
   },
   "source": [
    "###### **6.2.6 Human to classify 'low confidence' attack manually**"
   ]
  },
  {
   "cell_type": "code",
   "execution_count": 36,
   "metadata": {
    "id": "3XJQbqhVyLVR"
   },
   "outputs": [
    {
     "name": "stdout",
     "output_type": "stream",
     "text": [
      "Review network data and classify attack:DDoS\n"
     ]
    }
   ],
   "source": [
    "human_label = input(\"Review network data and classify attack:\") "
   ]
  },
  {
   "cell_type": "code",
   "execution_count": 37,
   "metadata": {
    "id": "Ls8xxZ-QyWSt"
   },
   "outputs": [],
   "source": [
    "attacks['Label']=human_label"
   ]
  },
  {
   "cell_type": "code",
   "execution_count": 38,
   "metadata": {
    "id": "sAOS74fUyYyB"
   },
   "outputs": [],
   "source": [
    "del attacks['Unnamed: 0']"
   ]
  },
  {
   "cell_type": "code",
   "execution_count": 39,
   "metadata": {
    "id": "9lsM3bjnybFi"
   },
   "outputs": [
    {
     "data": {
      "text/html": [
       "<div>\n",
       "<style scoped>\n",
       "    .dataframe tbody tr th:only-of-type {\n",
       "        vertical-align: middle;\n",
       "    }\n",
       "\n",
       "    .dataframe tbody tr th {\n",
       "        vertical-align: top;\n",
       "    }\n",
       "\n",
       "    .dataframe thead th {\n",
       "        text-align: right;\n",
       "    }\n",
       "</style>\n",
       "<table border=\"1\" class=\"dataframe\">\n",
       "  <thead>\n",
       "    <tr style=\"text-align: right;\">\n",
       "      <th></th>\n",
       "      <th>AttackId</th>\n",
       "      <th>Destination Port</th>\n",
       "      <th>Flow Duration</th>\n",
       "      <th>Total Fwd Packets</th>\n",
       "      <th>Total Length of Fwd Packets</th>\n",
       "      <th>Fwd Packet Length Max</th>\n",
       "      <th>Fwd Packet Length Min</th>\n",
       "      <th>Fwd Packet Length Mean</th>\n",
       "      <th>Bwd Packet Length Max</th>\n",
       "      <th>Bwd Packet Length Min</th>\n",
       "      <th>...</th>\n",
       "      <th>Init_Win_bytes_forward</th>\n",
       "      <th>Init_Win_bytes_backward</th>\n",
       "      <th>min_seg_size_forward</th>\n",
       "      <th>Active Mean</th>\n",
       "      <th>Active Std</th>\n",
       "      <th>Active Max</th>\n",
       "      <th>Active Min</th>\n",
       "      <th>Idle Std</th>\n",
       "      <th>Idle Min</th>\n",
       "      <th>Label</th>\n",
       "    </tr>\n",
       "  </thead>\n",
       "  <tbody>\n",
       "    <tr>\n",
       "      <th>614584</th>\n",
       "      <td>614584</td>\n",
       "      <td>53176</td>\n",
       "      <td>11492</td>\n",
       "      <td>4</td>\n",
       "      <td>24</td>\n",
       "      <td>6</td>\n",
       "      <td>6</td>\n",
       "      <td>6.0</td>\n",
       "      <td>0</td>\n",
       "      <td>0</td>\n",
       "      <td>...</td>\n",
       "      <td>180</td>\n",
       "      <td>-1</td>\n",
       "      <td>20</td>\n",
       "      <td>0.0</td>\n",
       "      <td>0.0</td>\n",
       "      <td>0</td>\n",
       "      <td>0</td>\n",
       "      <td>0.0</td>\n",
       "      <td>0</td>\n",
       "      <td>DDoS</td>\n",
       "    </tr>\n",
       "  </tbody>\n",
       "</table>\n",
       "<p>1 rows × 44 columns</p>\n",
       "</div>"
      ],
      "text/plain": [
       "        AttackId  Destination Port  Flow Duration  Total Fwd Packets  \\\n",
       "614584    614584             53176          11492                  4   \n",
       "\n",
       "        Total Length of Fwd Packets  Fwd Packet Length Max  \\\n",
       "614584                           24                      6   \n",
       "\n",
       "        Fwd Packet Length Min  Fwd Packet Length Mean  Bwd Packet Length Max  \\\n",
       "614584                      6                     6.0                      0   \n",
       "\n",
       "        Bwd Packet Length Min  ...  Init_Win_bytes_forward  \\\n",
       "614584                      0  ...                     180   \n",
       "\n",
       "        Init_Win_bytes_backward  min_seg_size_forward  Active Mean  \\\n",
       "614584                       -1                    20          0.0   \n",
       "\n",
       "        Active Std  Active Max  Active Min  Idle Std  Idle Min  Label  \n",
       "614584         0.0           0           0       0.0         0   DDoS  \n",
       "\n",
       "[1 rows x 44 columns]"
      ]
     },
     "execution_count": 39,
     "metadata": {},
     "output_type": "execute_result"
    }
   ],
   "source": [
    "attacks"
   ]
  },
  {
   "cell_type": "code",
   "execution_count": 40,
   "metadata": {
    "id": "pXIlHZPnybmj"
   },
   "outputs": [
    {
     "data": {
      "text/html": [
       "<div>\n",
       "<style scoped>\n",
       "    .dataframe tbody tr th:only-of-type {\n",
       "        vertical-align: middle;\n",
       "    }\n",
       "\n",
       "    .dataframe tbody tr th {\n",
       "        vertical-align: top;\n",
       "    }\n",
       "\n",
       "    .dataframe thead th {\n",
       "        text-align: right;\n",
       "    }\n",
       "</style>\n",
       "<table border=\"1\" class=\"dataframe\">\n",
       "  <thead>\n",
       "    <tr style=\"text-align: right;\">\n",
       "      <th></th>\n",
       "      <th>Unnamed: 0</th>\n",
       "      <th>AttackId</th>\n",
       "      <th>Destination Port</th>\n",
       "      <th>Flow Duration</th>\n",
       "      <th>Total Fwd Packets</th>\n",
       "      <th>Total Length of Fwd Packets</th>\n",
       "      <th>Fwd Packet Length Max</th>\n",
       "      <th>Fwd Packet Length Min</th>\n",
       "      <th>Fwd Packet Length Mean</th>\n",
       "      <th>Bwd Packet Length Max</th>\n",
       "      <th>...</th>\n",
       "      <th>Init_Win_bytes_forward</th>\n",
       "      <th>Init_Win_bytes_backward</th>\n",
       "      <th>min_seg_size_forward</th>\n",
       "      <th>Active Mean</th>\n",
       "      <th>Active Std</th>\n",
       "      <th>Active Max</th>\n",
       "      <th>Active Min</th>\n",
       "      <th>Idle Std</th>\n",
       "      <th>Idle Min</th>\n",
       "      <th>Label</th>\n",
       "    </tr>\n",
       "  </thead>\n",
       "  <tbody>\n",
       "    <tr>\n",
       "      <th>0</th>\n",
       "      <td>0</td>\n",
       "      <td>614567</td>\n",
       "      <td>53</td>\n",
       "      <td>215</td>\n",
       "      <td>2</td>\n",
       "      <td>76</td>\n",
       "      <td>38</td>\n",
       "      <td>38</td>\n",
       "      <td>38.0</td>\n",
       "      <td>242</td>\n",
       "      <td>...</td>\n",
       "      <td>-1</td>\n",
       "      <td>-1</td>\n",
       "      <td>20</td>\n",
       "      <td>0.0</td>\n",
       "      <td>0.0</td>\n",
       "      <td>0</td>\n",
       "      <td>0</td>\n",
       "      <td>0.0</td>\n",
       "      <td>0</td>\n",
       "      <td>BENIGN</td>\n",
       "    </tr>\n",
       "    <tr>\n",
       "      <th>1</th>\n",
       "      <td>1</td>\n",
       "      <td>614568</td>\n",
       "      <td>53</td>\n",
       "      <td>837</td>\n",
       "      <td>2</td>\n",
       "      <td>74</td>\n",
       "      <td>37</td>\n",
       "      <td>37</td>\n",
       "      <td>37.0</td>\n",
       "      <td>77</td>\n",
       "      <td>...</td>\n",
       "      <td>-1</td>\n",
       "      <td>-1</td>\n",
       "      <td>20</td>\n",
       "      <td>0.0</td>\n",
       "      <td>0.0</td>\n",
       "      <td>0</td>\n",
       "      <td>0</td>\n",
       "      <td>0.0</td>\n",
       "      <td>0</td>\n",
       "      <td>BENIGN</td>\n",
       "    </tr>\n",
       "    <tr>\n",
       "      <th>2</th>\n",
       "      <td>2</td>\n",
       "      <td>614569</td>\n",
       "      <td>443</td>\n",
       "      <td>14336951</td>\n",
       "      <td>1</td>\n",
       "      <td>0</td>\n",
       "      <td>0</td>\n",
       "      <td>0</td>\n",
       "      <td>0.0</td>\n",
       "      <td>0</td>\n",
       "      <td>...</td>\n",
       "      <td>8192</td>\n",
       "      <td>42780</td>\n",
       "      <td>32</td>\n",
       "      <td>6336908.0</td>\n",
       "      <td>0.0</td>\n",
       "      <td>6336908</td>\n",
       "      <td>6336908</td>\n",
       "      <td>0.0</td>\n",
       "      <td>8000043</td>\n",
       "      <td>BENIGN</td>\n",
       "    </tr>\n",
       "    <tr>\n",
       "      <th>3</th>\n",
       "      <td>3</td>\n",
       "      <td>614570</td>\n",
       "      <td>53</td>\n",
       "      <td>31040</td>\n",
       "      <td>2</td>\n",
       "      <td>82</td>\n",
       "      <td>41</td>\n",
       "      <td>41</td>\n",
       "      <td>41.0</td>\n",
       "      <td>113</td>\n",
       "      <td>...</td>\n",
       "      <td>-1</td>\n",
       "      <td>-1</td>\n",
       "      <td>32</td>\n",
       "      <td>0.0</td>\n",
       "      <td>0.0</td>\n",
       "      <td>0</td>\n",
       "      <td>0</td>\n",
       "      <td>0.0</td>\n",
       "      <td>0</td>\n",
       "      <td>BENIGN</td>\n",
       "    </tr>\n",
       "    <tr>\n",
       "      <th>4</th>\n",
       "      <td>4</td>\n",
       "      <td>614571</td>\n",
       "      <td>53</td>\n",
       "      <td>148</td>\n",
       "      <td>2</td>\n",
       "      <td>76</td>\n",
       "      <td>38</td>\n",
       "      <td>38</td>\n",
       "      <td>38.0</td>\n",
       "      <td>54</td>\n",
       "      <td>...</td>\n",
       "      <td>-1</td>\n",
       "      <td>-1</td>\n",
       "      <td>20</td>\n",
       "      <td>0.0</td>\n",
       "      <td>0.0</td>\n",
       "      <td>0</td>\n",
       "      <td>0</td>\n",
       "      <td>0.0</td>\n",
       "      <td>0</td>\n",
       "      <td>BENIGN</td>\n",
       "    </tr>\n",
       "    <tr>\n",
       "      <th>...</th>\n",
       "      <td>...</td>\n",
       "      <td>...</td>\n",
       "      <td>...</td>\n",
       "      <td>...</td>\n",
       "      <td>...</td>\n",
       "      <td>...</td>\n",
       "      <td>...</td>\n",
       "      <td>...</td>\n",
       "      <td>...</td>\n",
       "      <td>...</td>\n",
       "      <td>...</td>\n",
       "      <td>...</td>\n",
       "      <td>...</td>\n",
       "      <td>...</td>\n",
       "      <td>...</td>\n",
       "      <td>...</td>\n",
       "      <td>...</td>\n",
       "      <td>...</td>\n",
       "      <td>...</td>\n",
       "      <td>...</td>\n",
       "      <td>...</td>\n",
       "    </tr>\n",
       "    <tr>\n",
       "      <th>428</th>\n",
       "      <td>428</td>\n",
       "      <td>614995</td>\n",
       "      <td>53</td>\n",
       "      <td>30477</td>\n",
       "      <td>1</td>\n",
       "      <td>79</td>\n",
       "      <td>79</td>\n",
       "      <td>79</td>\n",
       "      <td>79.0</td>\n",
       "      <td>145</td>\n",
       "      <td>...</td>\n",
       "      <td>-1</td>\n",
       "      <td>-1</td>\n",
       "      <td>32</td>\n",
       "      <td>0.0</td>\n",
       "      <td>0.0</td>\n",
       "      <td>0</td>\n",
       "      <td>0</td>\n",
       "      <td>0.0</td>\n",
       "      <td>0</td>\n",
       "      <td>BENIGN</td>\n",
       "    </tr>\n",
       "    <tr>\n",
       "      <th>429</th>\n",
       "      <td>429</td>\n",
       "      <td>614996</td>\n",
       "      <td>53</td>\n",
       "      <td>30572</td>\n",
       "      <td>1</td>\n",
       "      <td>46</td>\n",
       "      <td>46</td>\n",
       "      <td>46</td>\n",
       "      <td>46.0</td>\n",
       "      <td>74</td>\n",
       "      <td>...</td>\n",
       "      <td>-1</td>\n",
       "      <td>-1</td>\n",
       "      <td>32</td>\n",
       "      <td>0.0</td>\n",
       "      <td>0.0</td>\n",
       "      <td>0</td>\n",
       "      <td>0</td>\n",
       "      <td>0.0</td>\n",
       "      <td>0</td>\n",
       "      <td>BENIGN</td>\n",
       "    </tr>\n",
       "    <tr>\n",
       "      <th>430</th>\n",
       "      <td>430</td>\n",
       "      <td>614997</td>\n",
       "      <td>53</td>\n",
       "      <td>30473</td>\n",
       "      <td>1</td>\n",
       "      <td>60</td>\n",
       "      <td>60</td>\n",
       "      <td>60</td>\n",
       "      <td>60.0</td>\n",
       "      <td>76</td>\n",
       "      <td>...</td>\n",
       "      <td>-1</td>\n",
       "      <td>-1</td>\n",
       "      <td>20</td>\n",
       "      <td>0.0</td>\n",
       "      <td>0.0</td>\n",
       "      <td>0</td>\n",
       "      <td>0</td>\n",
       "      <td>0.0</td>\n",
       "      <td>0</td>\n",
       "      <td>BENIGN</td>\n",
       "    </tr>\n",
       "    <tr>\n",
       "      <th>431</th>\n",
       "      <td>431</td>\n",
       "      <td>614998</td>\n",
       "      <td>53</td>\n",
       "      <td>31267</td>\n",
       "      <td>1</td>\n",
       "      <td>48</td>\n",
       "      <td>48</td>\n",
       "      <td>48</td>\n",
       "      <td>48.0</td>\n",
       "      <td>113</td>\n",
       "      <td>...</td>\n",
       "      <td>-1</td>\n",
       "      <td>-1</td>\n",
       "      <td>20</td>\n",
       "      <td>0.0</td>\n",
       "      <td>0.0</td>\n",
       "      <td>0</td>\n",
       "      <td>0</td>\n",
       "      <td>0.0</td>\n",
       "      <td>0</td>\n",
       "      <td>BENIGN</td>\n",
       "    </tr>\n",
       "    <tr>\n",
       "      <th>432</th>\n",
       "      <td>432</td>\n",
       "      <td>614999</td>\n",
       "      <td>53</td>\n",
       "      <td>30517</td>\n",
       "      <td>1</td>\n",
       "      <td>60</td>\n",
       "      <td>60</td>\n",
       "      <td>60</td>\n",
       "      <td>60.0</td>\n",
       "      <td>88</td>\n",
       "      <td>...</td>\n",
       "      <td>-1</td>\n",
       "      <td>-1</td>\n",
       "      <td>20</td>\n",
       "      <td>0.0</td>\n",
       "      <td>0.0</td>\n",
       "      <td>0</td>\n",
       "      <td>0</td>\n",
       "      <td>0.0</td>\n",
       "      <td>0</td>\n",
       "      <td>BENIGN</td>\n",
       "    </tr>\n",
       "  </tbody>\n",
       "</table>\n",
       "<p>433 rows × 45 columns</p>\n",
       "</div>"
      ],
      "text/plain": [
       "     Unnamed: 0  AttackId  Destination Port  Flow Duration  Total Fwd Packets  \\\n",
       "0             0    614567                53            215                  2   \n",
       "1             1    614568                53            837                  2   \n",
       "2             2    614569               443       14336951                  1   \n",
       "3             3    614570                53          31040                  2   \n",
       "4             4    614571                53            148                  2   \n",
       "..          ...       ...               ...            ...                ...   \n",
       "428         428    614995                53          30477                  1   \n",
       "429         429    614996                53          30572                  1   \n",
       "430         430    614997                53          30473                  1   \n",
       "431         431    614998                53          31267                  1   \n",
       "432         432    614999                53          30517                  1   \n",
       "\n",
       "     Total Length of Fwd Packets  Fwd Packet Length Max  \\\n",
       "0                             76                     38   \n",
       "1                             74                     37   \n",
       "2                              0                      0   \n",
       "3                             82                     41   \n",
       "4                             76                     38   \n",
       "..                           ...                    ...   \n",
       "428                           79                     79   \n",
       "429                           46                     46   \n",
       "430                           60                     60   \n",
       "431                           48                     48   \n",
       "432                           60                     60   \n",
       "\n",
       "     Fwd Packet Length Min  Fwd Packet Length Mean  Bwd Packet Length Max  \\\n",
       "0                       38                    38.0                    242   \n",
       "1                       37                    37.0                     77   \n",
       "2                        0                     0.0                      0   \n",
       "3                       41                    41.0                    113   \n",
       "4                       38                    38.0                     54   \n",
       "..                     ...                     ...                    ...   \n",
       "428                     79                    79.0                    145   \n",
       "429                     46                    46.0                     74   \n",
       "430                     60                    60.0                     76   \n",
       "431                     48                    48.0                    113   \n",
       "432                     60                    60.0                     88   \n",
       "\n",
       "     ...  Init_Win_bytes_forward  Init_Win_bytes_backward  \\\n",
       "0    ...                      -1                       -1   \n",
       "1    ...                      -1                       -1   \n",
       "2    ...                    8192                    42780   \n",
       "3    ...                      -1                       -1   \n",
       "4    ...                      -1                       -1   \n",
       "..   ...                     ...                      ...   \n",
       "428  ...                      -1                       -1   \n",
       "429  ...                      -1                       -1   \n",
       "430  ...                      -1                       -1   \n",
       "431  ...                      -1                       -1   \n",
       "432  ...                      -1                       -1   \n",
       "\n",
       "     min_seg_size_forward  Active Mean  Active Std  Active Max  Active Min  \\\n",
       "0                      20          0.0         0.0           0           0   \n",
       "1                      20          0.0         0.0           0           0   \n",
       "2                      32    6336908.0         0.0     6336908     6336908   \n",
       "3                      32          0.0         0.0           0           0   \n",
       "4                      20          0.0         0.0           0           0   \n",
       "..                    ...          ...         ...         ...         ...   \n",
       "428                    32          0.0         0.0           0           0   \n",
       "429                    32          0.0         0.0           0           0   \n",
       "430                    20          0.0         0.0           0           0   \n",
       "431                    20          0.0         0.0           0           0   \n",
       "432                    20          0.0         0.0           0           0   \n",
       "\n",
       "     Idle Std  Idle Min   Label  \n",
       "0         0.0         0  BENIGN  \n",
       "1         0.0         0  BENIGN  \n",
       "2         0.0   8000043  BENIGN  \n",
       "3         0.0         0  BENIGN  \n",
       "4         0.0         0  BENIGN  \n",
       "..        ...       ...     ...  \n",
       "428       0.0         0  BENIGN  \n",
       "429       0.0         0  BENIGN  \n",
       "430       0.0         0  BENIGN  \n",
       "431       0.0         0  BENIGN  \n",
       "432       0.0         0  BENIGN  \n",
       "\n",
       "[433 rows x 45 columns]"
      ]
     },
     "execution_count": 40,
     "metadata": {},
     "output_type": "execute_result"
    }
   ],
   "source": [
    "real_time"
   ]
  },
  {
   "cell_type": "markdown",
   "metadata": {
    "id": "iMY9IDYIzuvm"
   },
   "source": [
    "###### **6.2.6 Add classified attack to training data and remove from analysis checklist**"
   ]
  },
  {
   "cell_type": "code",
   "execution_count": 41,
   "metadata": {
    "id": "Y7g6yPjfyfY_"
   },
   "outputs": [],
   "source": [
    "all_data.append(attacks)\n",
    "all_data.to_csv(r'clean_data.csv', index = True, header=True)"
   ]
  },
  {
   "cell_type": "code",
   "execution_count": 42,
   "metadata": {
    "id": "cbcdsP4WyhVO"
   },
   "outputs": [],
   "source": [
    "test=pd.read_csv('clean_data.csv')"
   ]
  },
  {
   "cell_type": "code",
   "execution_count": 43,
   "metadata": {
    "id": "j5JcqCKwyjX4"
   },
   "outputs": [],
   "source": [
    "test = test[test['AttackId']==614765]\n",
    "del test\n",
    "del test['Unnamed: 0']"
   ]
  },
  {
   "cell_type": "code",
   "execution_count": 44,
   "metadata": {
    "id": "PeZFsIM-ylJR"
   },
   "outputs": [
    {
     "data": {
      "text/html": [
       "<div>\n",
       "<style scoped>\n",
       "    .dataframe tbody tr th:only-of-type {\n",
       "        vertical-align: middle;\n",
       "    }\n",
       "\n",
       "    .dataframe tbody tr th {\n",
       "        vertical-align: top;\n",
       "    }\n",
       "\n",
       "    .dataframe thead th {\n",
       "        text-align: right;\n",
       "    }\n",
       "</style>\n",
       "<table border=\"1\" class=\"dataframe\">\n",
       "  <thead>\n",
       "    <tr style=\"text-align: right;\">\n",
       "      <th></th>\n",
       "      <th>Unnamed: 0.1</th>\n",
       "      <th>AttackId</th>\n",
       "      <th>Destination Port</th>\n",
       "      <th>Flow Duration</th>\n",
       "      <th>Total Fwd Packets</th>\n",
       "      <th>Total Length of Fwd Packets</th>\n",
       "      <th>Fwd Packet Length Max</th>\n",
       "      <th>Fwd Packet Length Min</th>\n",
       "      <th>Fwd Packet Length Mean</th>\n",
       "      <th>Bwd Packet Length Max</th>\n",
       "      <th>...</th>\n",
       "      <th>Init_Win_bytes_forward</th>\n",
       "      <th>Init_Win_bytes_backward</th>\n",
       "      <th>min_seg_size_forward</th>\n",
       "      <th>Active Mean</th>\n",
       "      <th>Active Std</th>\n",
       "      <th>Active Max</th>\n",
       "      <th>Active Min</th>\n",
       "      <th>Idle Std</th>\n",
       "      <th>Idle Min</th>\n",
       "      <th>Label</th>\n",
       "    </tr>\n",
       "  </thead>\n",
       "  <tbody>\n",
       "    <tr>\n",
       "      <th>614765</th>\n",
       "      <td>614765</td>\n",
       "      <td>614765</td>\n",
       "      <td>8080</td>\n",
       "      <td>1045016</td>\n",
       "      <td>3</td>\n",
       "      <td>0</td>\n",
       "      <td>0</td>\n",
       "      <td>0</td>\n",
       "      <td>0.0</td>\n",
       "      <td>6</td>\n",
       "      <td>...</td>\n",
       "      <td>8192</td>\n",
       "      <td>0</td>\n",
       "      <td>28</td>\n",
       "      <td>0.0</td>\n",
       "      <td>0.0</td>\n",
       "      <td>0</td>\n",
       "      <td>0</td>\n",
       "      <td>0.0</td>\n",
       "      <td>0</td>\n",
       "      <td>Bot</td>\n",
       "    </tr>\n",
       "  </tbody>\n",
       "</table>\n",
       "<p>1 rows × 45 columns</p>\n",
       "</div>"
      ],
      "text/plain": [
       "        Unnamed: 0.1  AttackId  Destination Port  Flow Duration  \\\n",
       "614765        614765    614765              8080        1045016   \n",
       "\n",
       "        Total Fwd Packets  Total Length of Fwd Packets  Fwd Packet Length Max  \\\n",
       "614765                  3                            0                      0   \n",
       "\n",
       "        Fwd Packet Length Min  Fwd Packet Length Mean  Bwd Packet Length Max  \\\n",
       "614765                      0                     0.0                      6   \n",
       "\n",
       "        ...  Init_Win_bytes_forward  Init_Win_bytes_backward  \\\n",
       "614765  ...                    8192                        0   \n",
       "\n",
       "        min_seg_size_forward  Active Mean  Active Std  Active Max  Active Min  \\\n",
       "614765                    28          0.0         0.0           0           0   \n",
       "\n",
       "        Idle Std  Idle Min  Label  \n",
       "614765       0.0         0    Bot  \n",
       "\n",
       "[1 rows x 45 columns]"
      ]
     },
     "execution_count": 44,
     "metadata": {},
     "output_type": "execute_result"
    }
   ],
   "source": [
    "test"
   ]
  },
  {
   "cell_type": "markdown",
   "metadata": {
    "id": "WGk3Xa11-Bdx"
   },
   "source": [
    "### Conclusion/ Workflow\n",
    "\n",
    "> Trained a KNN-based classifier with difference distance metrics and arriving on a single model which performed best in terms of accuracy/ confidence rate and computation/ training time.\n",
    "\n",
    "> Using the trained classifier, trying to classfify unlabeled attacks and alerting 'human' incase of low confidence/ prediction score. \n",
    "\n",
    "> Adding the 'manually' classified labeled data back to the training data for future classification and learning.\n",
    "\n",
    "In a nutshell, trying to use Machine learning with safety(human assistance for critical actions) and transfering this learning back to the classifying model (Active/ Reinforcement learning)."
   ]
  }
 ],
 "metadata": {
  "colab": {
   "collapsed_sections": [
    "X0r7IjuKibOl",
    "CM-ot46niaHN",
    "Yxb3LAiLjLFm",
    "_ewO75U9iaHN",
    "4k0szBCciaHN",
    "TNH45tqJiaHO",
    "xlC8yszriaHO",
    "kglzmVDYiaHO",
    "mXuY3JLjk09c",
    "XySJqf2jiaHP",
    "FU7l0CL_qt8f",
    "QxUs-1_5rHYc",
    "MoQpeR9vrNaZ",
    "xgRjwnuOr7ma",
    "106NreC8s5ft",
    "Hf1bvjHZtqkZ",
    "Wn0FsinYy537",
    "kNrUb4-pzPdd",
    "1FBUEblXzUHC",
    "q7cOS2Juzh_j",
    "_dFgtoklzoOB",
    "iMY9IDYIzuvm"
   ],
   "name": "Intrusion detection & Reinforcement learning with SafeML.ipynb",
   "provenance": [],
   "toc_visible": true
  },
  "kernelspec": {
   "display_name": "Python 3",
   "language": "python",
   "name": "python3"
  },
  "language_info": {
   "codemirror_mode": {
    "name": "ipython",
    "version": 3
   },
   "file_extension": ".py",
   "mimetype": "text/x-python",
   "name": "python",
   "nbconvert_exporter": "python",
   "pygments_lexer": "ipython3",
   "version": "3.8.3"
  }
 },
 "nbformat": 4,
 "nbformat_minor": 1
}
